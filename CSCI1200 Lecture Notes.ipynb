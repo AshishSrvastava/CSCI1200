{
 "cells": [
  {
   "cell_type": "markdown",
   "metadata": {},
   "source": [
    "# 2021-Aug-23 – Lecture 1\n",
    "\n",
    "***\n",
    "\n",
    "## What is Computational Thinking?\n",
    "- Similar to solving puzzles\n",
    "- form a series of steps/strategy to solve a problem (that can be reproduced)\n",
    "\n",
    "## Logistics\n",
    "- Lectures 2x a week (M/F 4:10pm)\n",
    "- Lab 1x a week (Wed/Th)\n",
    "- Attendance encouraged (but not mandatory)\n",
    "- Quizzes before most lectures (M/F due at 4PM)\n",
    "- HW most weeks (due Sat @ 9pm)\n",
    "- 2 midterms, 1 final (check syllabus)\n",
    "- Structure\n",
    "  - Canvas for slides, hw, quizzes, and announcements\n",
    "  - Piazza as discussion forum\n",
    "  - JupyterLab/coding.csel.io for code\n",
    "\n",
    "\n",
    "\n",
    "## Lecturer: Sourav Chakraborty\n",
    "- Grad student in CS department (used to teach 1300) --> Ask him for recommendation on whether to switch into 1300 or stay here\n",
    "- research hin theoretical foundations of reinforcement learning\n",
    "- Office Hours:\n",
    "\n",
    "## What is this Class?\n",
    "- Intro programming class w/ python (instead of C++)\n",
    "- General problem solving course\n",
    "- (At the end) surveya  few compsci+infosci topics\n",
    "\n",
    "## What will this class prepare me for?\n",
    "- Computational work in all fields (AI, biology, climate change, robotics, ChemE)\n",
    "- Other CSCI/INFO/ATLAS classes"
   ]
  },
  {
   "cell_type": "markdown",
   "metadata": {},
   "source": [
    "# 2021-Aug-27 – Lecture 2\n",
    "\n",
    "***\n",
    "\n",
    "## What are computers?\n",
    "- Storage\n",
    "  - Hard Drives, SD cards, USB flash drives\n",
    "- Input\n",
    "  - Keyboard, Mouse, Microphone\n",
    "- Processing\n",
    "  - CPU, GPU, etc.\n",
    "- Output\n",
    "\n",
    "## Brief history  of Computing\n",
    "- Abacus\n",
    "- Jacquard Loom\n",
    "- Difference Engine\n",
    "- Analytical  Engine\n",
    "  - Charles Babbae and Ada Lovelace\n",
    "  - could do arithmetic operations, if-else  mechanisms, loops, and memory\n",
    "  - used punch cards for input and 'programming'"
   ]
  },
  {
   "cell_type": "code",
   "execution_count": 1,
   "metadata": {},
   "outputs": [
    {
     "name": "stdout",
     "output_type": "stream",
     "text": [
      "Hello, World!\n"
     ]
    }
   ],
   "source": [
    "print(\"Hello, World!\")"
   ]
  },
  {
   "cell_type": "markdown",
   "metadata": {},
   "source": [
    "# 2021-Aug-30 – Lecture 3\n",
    "***\n",
    "## Notice Board\n",
    "- Commplete Quiz 3 in Canvas before next class (available 6pm tomorrow)\n",
    "- No interview grading for HW assignments, only one IG for project final phase\n",
    "- Each HW assignment will have an extra credit section for regaining lost points\n",
    "- 1 extra credit quiz by the end of the semester\n",
    "- HW1 available tonight, due Saturday (Sep 4) at 9PM"
   ]
  },
  {
   "cell_type": "code",
   "execution_count": 1,
   "metadata": {},
   "outputs": [
    {
     "name": "stdout",
     "output_type": "stream",
     "text": [
      "Hello, World!\n"
     ]
    }
   ],
   "source": [
    "# First Program\n",
    "print(\"Hello, World!\")"
   ]
  },
  {
   "cell_type": "markdown",
   "metadata": {},
   "source": [
    "## Python Statements\n",
    "There are two general kinds of statements\n",
    "1. Executable statements (like ```print()```)\n",
    "   1. Python interpreter consiiders these statements when execcuting the program and showing output\n",
    "2. Comments\n",
    "   1. The Python interpreter ignores these\n",
    "   2. These are used as notes either to yourself or other programmers (increases readability)"
   ]
  },
  {
   "cell_type": "code",
   "execution_count": 2,
   "metadata": {},
   "outputs": [
    {
     "data": {
      "text/plain": [
       "'\\nMultiline comments can be written out with three single or double quotes\\n'"
      ]
     },
     "execution_count": 2,
     "metadata": {},
     "output_type": "execute_result"
    }
   ],
   "source": [
    "# Single line comments can be written out with a '#'\n",
    "\n",
    "'''\n",
    "Multiline comments can be written out with three single or double quotes\n",
    "'''"
   ]
  },
  {
   "cell_type": "markdown",
   "metadata": {},
   "source": [
    "## Running python programs\n",
    "Python program -(input)-> Python Interpreter (Kernel) -(output)-> 'Hello world!'\n",
    "\n",
    "The kernel reads the instructions/code and executes them. ('Meta-program' which executes the written program)\n",
    "\n",
    "In Jupyter, the cells act as 'mini programs'. The output is displayed under the cell"
   ]
  },
  {
   "cell_type": "markdown",
   "metadata": {},
   "source": [
    "## Values and Data Types\n",
    "Values = single fundamental element that your program can manipulate\n",
    "\n",
    "Every value has a data type which determines the actions which we can take with it\n",
    "\n",
    "E.g. \n",
    "Type\n",
    "| Type | --- | Examples | --- |\n",
    "| --- | --- | --- | --- |\n",
    "| Integer | --- | --- | --- |\n",
    "| Float | 7.6 | 3.4 | --- |\n",
    "| String | --- | --- | --- |\n",
    "| Char | 'a' | 'A' | '1' |\n",
    "| Boolean | T | F | --- |\n",
    "\n",
    "- We can combine multiple values with **operators**\n",
    "  - +,-,*,/,//,**,%\n",
    "- Combinations of values form **expressions**\n",
    "  - 100+2; 67.9/12.3\n",
    "  - Order of operations applies"
   ]
  },
  {
   "cell_type": "markdown",
   "metadata": {},
   "source": [
    "## Variables\n",
    "This is what we use to save values of the results of expressions in our programs to use them later\n",
    "```variable_name = value```"
   ]
  },
  {
   "cell_type": "markdown",
   "metadata": {},
   "source": [
    "# 2021-Sep-03 – Lecture 4\n",
    "***\n",
    "Announcements:\n",
    "- HW1 extended by a week; both HW1 and HW2 due 11-Sep\n",
    "- No quiz next week\n",
    "- No class on Monday, Sep 6 (Labor Day)"
   ]
  },
  {
   "cell_type": "markdown",
   "metadata": {},
   "source": [
    "## User Input\n",
    "How can we make our programs interactive?"
   ]
  },
  {
   "cell_type": "code",
   "execution_count": 1,
   "metadata": {},
   "outputs": [
    {
     "name": "stdout",
     "output_type": "stream",
     "text": [
      "ashish\n"
     ]
    }
   ],
   "source": [
    "name = input(\"What is your name?\")\n",
    "print(name)"
   ]
  },
  {
   "cell_type": "markdown",
   "metadata": {},
   "source": [
    "## Functions – *What are they*\n",
    "- When we write code to run a function, we're \"calling\" that function\n",
    "- python comes with a number of pre-defined \"built-in\" functions. We'll build our own later\n",
    "- Like building blocks of a program\n",
    "- Convenient packaging for certain functionality that you can reuse and rearrange\n",
    "- Functions return values"
   ]
  },
  {
   "cell_type": "markdown",
   "metadata": {},
   "source": [
    "# 2021-Sep-6 – No lecture (Labor Day)"
   ]
  },
  {
   "cell_type": "markdown",
   "metadata": {},
   "source": [
    "# 2021-Sep-10 – Lecture 5\n",
    "***\n",
    "Announcements:\n",
    "- HW1 and HW2 due tomorrow (Sat) @ 9PM\n",
    "- HW3 will be uploaded by Monday night, and due Sat Sep 18 @ 9PM\n",
    "- Quiz 4 due Monday @ 4PM"
   ]
  },
  {
   "cell_type": "markdown",
   "metadata": {},
   "source": [
    "## Functions - return values\n",
    "- If ```input()``` only takes in strings, how do we input numbers?\n",
    "- the ```type()``` fxn is a built-in function that takes in a value as an *argument*, and returns the *data type*"
   ]
  },
  {
   "cell_type": "code",
   "execution_count": 2,
   "metadata": {},
   "outputs": [
    {
     "data": {
      "text/plain": [
       "int"
      ]
     },
     "execution_count": 2,
     "metadata": {},
     "output_type": "execute_result"
    }
   ],
   "source": [
    "dogs = input(\"How many dogs do you have?\")\n",
    "type(int(dogs))"
   ]
  },
  {
   "cell_type": "markdown",
   "metadata": {},
   "source": [
    "## Type Casting\n",
    "- Functions that change a value from one type to another\n",
    "- "
   ]
  },
  {
   "cell_type": "markdown",
   "metadata": {},
   "source": [
    "## Pseudocode\n",
    "- Goal: Describe in a language how to solve a problem\n",
    "- Why do we do this?\n",
    "  - Helps us to practice planning out how to write a program\n",
    "  - Mainly an intermediate step taken when translating thoughts to code\n",
    "- Ways to do it?\n",
    "  - Write in english statements\n",
    "  - Represent it digrammaticlaly using flow charts"
   ]
  },
  {
   "cell_type": "markdown",
   "metadata": {},
   "source": [
    "## String functions\n",
    "- Typical syntax: \n",
    "    ``` \n",
    "    string_variable = \"this is some string\"\n",
    "    return_value = string_variable.function_name(parameters)\n",
    "    ```\n",
    "- All built-in string functions have a return value"
   ]
  },
  {
   "cell_type": "code",
   "execution_count": 4,
   "metadata": {},
   "outputs": [
    {
     "name": "stdout",
     "output_type": "stream",
     "text": [
      "JENNIFER\n",
      "True\n"
     ]
    }
   ],
   "source": [
    "name = \"Jennifer\"\n",
    "modified_name = name.upper()\n",
    "print(modified_name) # JENNIFER\n",
    "answer = modified_name.isupper()\n",
    "print (answer) # True"
   ]
  },
  {
   "cell_type": "markdown",
   "metadata": {},
   "source": [
    "# 2021-Sep-13 – Lecture 6\n",
    "***\n",
    "Announcements: \n",
    "- Quiz 4 due Wednesday @ 11:59pm\n",
    "- Quiz 5 due Friday 4pm\n",
    "- HW3 due Saturday 9pm\n",
    "- Midterm on the 24th of Sep (during class time)\n",
    "  - In person audience will be in the classroom, we will have TAs, LAs helping out with logistics\n",
    "  - Zoom audience joins via link\n",
    "  - Topics will include everything until **functions**\n",
    "  - Midterm review will happen in the lab session next week\n",
    "- use Piazza for Q&A and office hours for TAs, LAs, graders or talking to Sourav for help with topics/HWs. "
   ]
  },
  {
   "cell_type": "markdown",
   "metadata": {},
   "source": [
    "## Writing function comments (docstrings, check slides)\n",
    "- Every function thhta you can write should have functioin comments, describing:\n",
    "  - What does the function do\n",
    "  - What parameters does it take?\n",
    "  - What return value does it have?"
   ]
  },
  {
   "cell_type": "code",
   "execution_count": 2,
   "metadata": {},
   "outputs": [],
   "source": [
    "def greet_user():\n",
    "    \"\"\"\n",
    "    Asks user for name and says hello\n",
    "    parameters: None\n",
    "    return: None\n",
    "    \"\"\"\n",
    "    name = input(\"Name? \")\n",
    "    print(\"Hello \" + name)"
   ]
  },
  {
   "cell_type": "code",
   "execution_count": 3,
   "metadata": {},
   "outputs": [
    {
     "name": "stdout",
     "output_type": "stream",
     "text": [
      "Help on function greet_user in module __main__:\n",
      "\n",
      "greet_user()\n",
      "    Asks user for name and says hello\n",
      "    parameters: None\n",
      "    return: None\n",
      "\n"
     ]
    }
   ],
   "source": [
    "help(greet_user)"
   ]
  },
  {
   "cell_type": "markdown",
   "metadata": {},
   "source": [
    "## Writing functions with parameters\n",
    "```\n",
    "def function_name(parameters):\n",
    "    # code for the function\n",
    "```\n",
    "- the value(s) that a function takes to perform its tasks\n",
    "  - like \"inputs\" to a function\n",
    "- Parameters go in a comma-separated list in the parentheses\n",
    "- This is the only information passed to the function from the program"
   ]
  },
  {
   "cell_type": "code",
   "execution_count": null,
   "metadata": {},
   "outputs": [],
   "source": [
    "# Example: Book\n",
    "def book(title):\n",
    "    \"\"\"This function prints details about a book\n",
    "    parameters:\n",
    "        title ([title]): [description]\n",
    "    return:\n",
    "        None\n",
    "    \"\"\"\n",
    "    print(\"the book is: \" + title)\n",
    "    print(\"It is written by: \" + author)\n",
    "    "
   ]
  },
  {
   "cell_type": "code",
   "execution_count": 10,
   "metadata": {},
   "outputs": [
    {
     "name": "stdout",
     "output_type": "stream",
     "text": [
      "5\n"
     ]
    }
   ],
   "source": [
    "# Exercise: Write a function which evaluates a gneeric linear function (ax+b) where you take the coefficients\n",
    "# and the variable as parameters\n",
    "\n",
    "def linear_fxn(a,b,x):\n",
    "    \"\"\"Evaluates the function ax+b\n",
    "    Args:\n",
    "        a (float): coefficient\n",
    "        b (float): coefficient\n",
    "        x (float): variable\n",
    "    Returns:\n",
    "        None\n",
    "    \"\"\"\n",
    "    val = a*x+b\n",
    "    print(val)\n",
    "\n",
    "linear_fxn(2,3,1) # 5\n"
   ]
  },
  {
   "cell_type": "markdown",
   "metadata": {},
   "source": [
    "# 2021-Sep-17 – Lecture 7"
   ]
  },
  {
   "cell_type": "code",
   "execution_count": 3,
   "metadata": {},
   "outputs": [
    {
     "data": {
      "text/plain": [
       "5.0"
      ]
     },
     "execution_count": 3,
     "metadata": {},
     "output_type": "execute_result"
    }
   ],
   "source": [
    "# Warm up: write a fxn pythagorean that takes two parameters a and b (lengths of a right triangle) and prints the value \n",
    "# of c, the third side\n",
    "\n",
    "def pythagorean(a,b):\n",
    "    c = (a ** 2 + b ** 2)**(1/2)\n",
    "    return c\n",
    "pythagorean(3,4)"
   ]
  },
  {
   "cell_type": "markdown",
   "metadata": {},
   "source": [
    "## ```main()``` function:\n",
    "\n",
    "```\n",
    "def main():\n",
    "    # code to run our program\n",
    "    #goes here\n",
    "\n",
    "# don't forget to call main()\n",
    "main()\n",
    "```\n",
    "- The function that gets our program mrunning\n",
    "  - a zero parameter function\n",
    "- adds nice structure to our programs\n",
    "- we'll be using main() functions from now on\n",
    "- think of ```main()``` as your program's *table of contents*\n",
    "- it's a summary of what your program's going to be"
   ]
  },
  {
   "cell_type": "markdown",
   "metadata": {},
   "source": [
    "## Function Execution and Program flow\n",
    "- Recall: Python programs are executed from top to bottom\n",
    "- Now with functions,\n",
    "  - we'll only execute things at the 0-indentation level\n",
    "  - when we execute/run a cell with  a fxn def'n, we just read it in to use later; it won't produce any outpur\n",
    "  - to use the function, we need to call it"
   ]
  },
  {
   "cell_type": "code",
   "execution_count": 4,
   "metadata": {},
   "outputs": [
    {
     "name": "stdout",
     "output_type": "stream",
     "text": [
      "Xena\n",
      "Xena\n",
      "Xena\n",
      "done\n"
     ]
    }
   ],
   "source": [
    "# Example\n",
    "def print_thrice(s):\n",
    "    print(s)\n",
    "    print(s)\n",
    "    print(s)\n",
    "\n",
    "def main():\n",
    "    name = \"Xena\"\n",
    "    print_thrice(name)\n",
    "    print(\"done\")\n",
    "\n",
    "main()"
   ]
  },
  {
   "cell_type": "markdown",
   "metadata": {},
   "source": [
    "## Scope\n",
    "- The term used to talk about what parameters/varialbes we can access where\n",
    "\n",
    "- Local scope: variables and parameters that are accessible inside the current function \n",
    "- Global scope: variables accessible anywhere in the program\n"
   ]
  },
  {
   "cell_type": "markdown",
   "metadata": {},
   "source": [
    "# 2021-Sep-20 – Lecture 8\n",
    "***\n"
   ]
  },
  {
   "cell_type": "markdown",
   "metadata": {},
   "source": [
    "## Scope and Return valaues\n",
    "- Like parameters let us send information *into* fnctions (into different local scopes), return lets us send innformaation out of functions\n",
    "\n",
    "What is the flow in the following program?\n",
    "\n",
    "(1)\n",
    "(5)\n",
    "12\n",
    "5\n",
    "6\n",
    "7\n",
    "1\n",
    "2\n",
    "3\n",
    "8\n",
    "9\n",
    "1\n",
    "2\n",
    "3\n",
    "10"
   ]
  },
  {
   "cell_type": "code",
   "execution_count": 4,
   "metadata": {},
   "outputs": [
    {
     "name": "stdout",
     "output_type": "stream",
     "text": [
      "2\n",
      "2\n"
     ]
    }
   ],
   "source": [
    "def count_es(s):\n",
    "    num_es = s.count(\"e\")\n",
    "    return num_es\n",
    "\n",
    "def main():\n",
    "    name = \"Meera\"\n",
    "    count = count_es(name)\n",
    "    print(count)\n",
    "    count = count_es(\"esther\")\n",
    "    print(count)\n",
    "\n",
    "main()"
   ]
  },
  {
   "cell_type": "markdown",
   "metadata": {},
   "source": [
    "What happens when you run the following code?\n",
    "A: Nothing, num1 isn't defined in the scope of main()"
   ]
  },
  {
   "cell_type": "code",
   "execution_count": 5,
   "metadata": {},
   "outputs": [
    {
     "ename": "NameError",
     "evalue": "name 'num1' is not defined",
     "output_type": "error",
     "traceback": [
      "\u001b[0;31m---------------------------------------------------------------------------\u001b[0m",
      "\u001b[0;31mNameError\u001b[0m                                 Traceback (most recent call last)",
      "\u001b[0;32m<ipython-input-5-e8781e878d36>\u001b[0m in \u001b[0;36m<module>\u001b[0;34m\u001b[0m\n\u001b[1;32m      9\u001b[0m     \u001b[0mprint\u001b[0m\u001b[0;34m(\u001b[0m\u001b[0mnum1\u001b[0m\u001b[0;34m)\u001b[0m\u001b[0;34m\u001b[0m\u001b[0;34m\u001b[0m\u001b[0m\n\u001b[1;32m     10\u001b[0m \u001b[0;34m\u001b[0m\u001b[0m\n\u001b[0;32m---> 11\u001b[0;31m \u001b[0mmain\u001b[0m\u001b[0;34m(\u001b[0m\u001b[0;34m)\u001b[0m\u001b[0;34m\u001b[0m\u001b[0;34m\u001b[0m\u001b[0m\n\u001b[0m",
      "\u001b[0;32m<ipython-input-5-e8781e878d36>\u001b[0m in \u001b[0;36mmain\u001b[0;34m()\u001b[0m\n\u001b[1;32m      7\u001b[0m     \u001b[0my\u001b[0m \u001b[0;34m=\u001b[0m \u001b[0;36m10\u001b[0m\u001b[0;34m\u001b[0m\u001b[0;34m\u001b[0m\u001b[0m\n\u001b[1;32m      8\u001b[0m     \u001b[0msub\u001b[0m\u001b[0;34m(\u001b[0m\u001b[0mx\u001b[0m\u001b[0;34m,\u001b[0m\u001b[0my\u001b[0m\u001b[0;34m)\u001b[0m\u001b[0;34m\u001b[0m\u001b[0;34m\u001b[0m\u001b[0m\n\u001b[0;32m----> 9\u001b[0;31m     \u001b[0mprint\u001b[0m\u001b[0;34m(\u001b[0m\u001b[0mnum1\u001b[0m\u001b[0;34m)\u001b[0m\u001b[0;34m\u001b[0m\u001b[0;34m\u001b[0m\u001b[0m\n\u001b[0m\u001b[1;32m     10\u001b[0m \u001b[0;34m\u001b[0m\u001b[0m\n\u001b[1;32m     11\u001b[0m \u001b[0mmain\u001b[0m\u001b[0;34m(\u001b[0m\u001b[0;34m)\u001b[0m\u001b[0;34m\u001b[0m\u001b[0;34m\u001b[0m\u001b[0m\n",
      "\u001b[0;31mNameError\u001b[0m: name 'num1' is not defined"
     ]
    }
   ],
   "source": [
    "def sub(num1,num2):\n",
    "    num1 = num1 - num2\n",
    "    return num1\n",
    "\n",
    "def main():\n",
    "    x = 5\n",
    "    y = 10\n",
    "    sub(x,y)\n",
    "    print(num1)\n",
    "\n",
    "main()"
   ]
  },
  {
   "cell_type": "markdown",
   "metadata": {},
   "source": [
    "## Subjects on midterm 1\n",
    "- computing history\n",
    "- computers - components and how they work\n",
    "- pseudocode\n",
    "- what happens when you run code in a jupyter notebook (python interpreter/kernel)\n",
    "- values, expressions, operators\n",
    "- ddata types\n",
    "- type casting\n",
    "- variables\n",
    "- using functions (built-in and custom)\n",
    "- parameters\n",
    "- returns\n",
    "- scope\n",
    "- program flow and execution\n",
    "\n",
    "No electronics, no notes, but will be provided a reference sheet for built-in functions\n",
    "- for coding portions, this midterm focuses on code comprehension (so you won't be writing lots of code)"
   ]
  },
  {
   "cell_type": "markdown",
   "metadata": {},
   "source": [
    "# 2021-Sep-27 – Lecture 9\n",
    "***\n",
    "- Announcements and reminders:\n",
    "  - Quiz 9 due Friday 4pm\n",
    "  - HW due Sunday at 11"
   ]
  },
  {
   "cell_type": "markdown",
   "metadata": {},
   "source": [
    "## Recall: Pseudocode\n",
    "E.g. Choosing a course:\n",
    "Choose a course -(Yes)-> does the course fit with the schedule -(Yes)-> Does the course have room in it? -(yes)-> success\n",
    "What's wrong with the above pesudocode?\n",
    "    It's very 1-dimensional. If everything works fine you get a success, but there's no handling of cases where things don't work. \n",
    "\n",
    "- Our goals: In pseudocode\n",
    "```number = int(input(\"number?\"))```\n",
    "two cases: number<= 100, number >= 100."
   ]
  },
  {
   "cell_type": "code",
   "execution_count": 2,
   "metadata": {},
   "outputs": [
    {
     "name": "stdout",
     "output_type": "stream",
     "text": [
      "small number\n",
      "done\n"
     ]
    }
   ],
   "source": [
    "number = int(input(\"number?\"))\n",
    "if number >= 100:\n",
    "    print(\"big number\")\n",
    "elif number <= 100:\n",
    "    print(\"small number\")\n",
    "print(\"done\")"
   ]
  },
  {
   "cell_type": "markdown",
   "metadata": {},
   "source": [
    "## Logical Expressions:\n",
    "we want to hbe abble to compare values, so that our programs have different behavior depending on the conditions we define\n",
    "\n",
    "Goal: take values of any data type and produce a boolean result (value)\n",
    "\n"
   ]
  },
  {
   "cell_type": "markdown",
   "metadata": {},
   "source": [
    "## Evaluating Logical Expressions:\n",
    "Comparison operators have the lowest precedence (PEMDASC), C is comparison operator\n",
    "- 1 + 3 < 7 - 4 : False\n",
    "- -12 + 10 > 7: False\n",
    "- 12*12 != 10 * 10 + 20: True\n",
    "\n",
    "Comparsion operators compare two values of type *anything* and produce one *boolean* value"
   ]
  },
  {
   "cell_type": "markdown",
   "metadata": {},
   "source": [
    "## Loical Expressions - Logical Operators\n",
    "The two logical operators are ***and*** and ***or***. They have a precedence lower than the comparison operators (PEMDASCL):\n",
    "- and: both expressions are true    \n",
    "  - True and True gives True\n",
    "  - False and True gives False\n",
    "\n",
    "- or: either one of the expressions are true\n",
    "  - True or True gives True\n",
    "  - False or True gives True"
   ]
  },
  {
   "cell_type": "code",
   "execution_count": 13,
   "metadata": {},
   "outputs": [
    {
     "name": "stdout",
     "output_type": "stream",
     "text": [
      "True\n"
     ]
    }
   ],
   "source": [
    "number = int(input(\"give a number\"))\n",
    "print(number > 100 and number % 2 == 0)"
   ]
  },
  {
   "cell_type": "code",
   "execution_count": null,
   "metadata": {},
   "outputs": [],
   "source": [
    "number = int(input(\"number?\"))\n",
    "if number > 100:\n",
    "    print(\"big number\")\n",
    "elif number < 100:\n",
    "    print(\"small number\")\n",
    "print(\"done!\")"
   ]
  },
  {
   "cell_type": "markdown",
   "metadata": {},
   "source": [
    "# 2021-Oct-11 – Lecture 13\n",
    "***\n",
    "Reminders:\n",
    "- Quiz 10 due Friday 4PM\n",
    "- HW5 due Saturday 11:59PM"
   ]
  },
  {
   "cell_type": "code",
   "execution_count": 4,
   "metadata": {},
   "outputs": [
    {
     "name": "stdout",
     "output_type": "stream",
     "text": [
      "1\n",
      "3\n",
      "5\n"
     ]
    }
   ],
   "source": [
    "# Exercise: Lists\n",
    "def odd_number_names(names_list):\n",
    "    i = 0\n",
    "    while i <= len(names_list):\n",
    "        print(names_list[i])\n",
    "        i += 2\n",
    "\n",
    "odd_number_names([\"1\", \"2\", \"3\", \"4\", \"5\"])"
   ]
  },
  {
   "cell_type": "markdown",
   "metadata": {},
   "source": [
    "# 2021-Oct-15\n",
    "***\n",
    "- Quiz 10 due Sat 11:59pm\n",
    "- HW5 extended, Due Monday 3pm\n",
    "- supplementary lecture topics google form\n",
    "  - fill it out by tonight. Sourav will make a video for it ASAP\n",
    "\n",
    "## Lists\n",
    "- a list is a container data type - it exiswts to hold other data\n",
    "- like strings, lists are objects, they have a state(data) and behavior (list functions)\n"
   ]
  },
  {
   "cell_type": "code",
   "execution_count": 1,
   "metadata": {},
   "outputs": [],
   "source": [
    "# list of integers\n",
    "\n",
    "# list of generic numbers\n",
    "\n",
    "# list of words\n",
    "\n",
    "# list of lists"
   ]
  },
  {
   "cell_type": "markdown",
   "metadata": {},
   "source": [
    "Like strings, lists are 0-indexed "
   ]
  },
  {
   "cell_type": "code",
   "execution_count": 4,
   "metadata": {},
   "outputs": [
    {
     "name": "stdout",
     "output_type": "stream",
     "text": [
      "ben\n",
      "mark\n",
      "berkley\n",
      "sergio\n"
     ]
    }
   ],
   "source": [
    "# while loops and lists\n",
    "\n",
    "class_las = [\"ben\", \"mark\", \"berkley\", \"sergio\"]\n",
    "index = 0\n",
    "while index < len(class_las):\n",
    "    print(class_las[index])\n",
    "    index += 1\n"
   ]
  },
  {
   "cell_type": "code",
   "execution_count": 7,
   "metadata": {},
   "outputs": [
    {
     "name": "stdout",
     "output_type": "stream",
     "text": [
      "mark\n",
      "sergio\n"
     ]
    }
   ],
   "source": [
    "# Exercise 1\n",
    "\n",
    "def odd_items(ls):\n",
    "    i = 1\n",
    "    while i < len(ls):\n",
    "        print(ls[i])\n",
    "        i += 2\n",
    "\n",
    "odd_items(class_las)\n"
   ]
  },
  {
   "cell_type": "markdown",
   "metadata": {},
   "source": [
    "## List + functions\n",
    "- Any function that changes the contents of a list directly is a *mutator* function\n",
    "- mutator functions do not return a value\n",
    "```\n",
    "# built-in mutator funcctions\n",
    "my_list.mutator_function()\n",
    "print(my_list)\n",
    "```\n",
    "- a *pure* function does not produce side effect on the list passed in. They have a return value.\n",
    "```\n",
    "new_list = some_pure_function(my_list)\n",
    "print(my_list) # unchanged\n",
    "print(new_list) # a new list\n",
    "```"
   ]
  },
  {
   "cell_type": "code",
   "execution_count": null,
   "metadata": {},
   "outputs": [],
   "source": [
    "# pure function sort\n",
    "ls1 = [4,1,2]\n",
    "new_list = sorted(ls1)\n",
    "\n",
    "\n",
    "# mutator function sort\n",
    "ls2 = [4,1,2]\n",
    "ls2.sort()\n",
    "print(ls2) # [1,2,4]\n"
   ]
  },
  {
   "cell_type": "markdown",
   "metadata": {},
   "source": [
    "# 2021-Oct-18\n",
    "\n",
    "## File organization\n",
    "\n",
    "## File Input/Output\n",
    "Interacting with a file has 3 steps:\n",
    "1) Open the file\n",
    "    ```file_obj = open(filename, mode)```\n",
    "    2 strings as parameters\n",
    "2) manipulate the file\n",
    "3) close the file\n",
    "   ```file_obj.close()```"
   ]
  },
  {
   "cell_type": "code",
   "execution_count": 1,
   "metadata": {},
   "outputs": [
    {
     "ename": "FileNotFoundError",
     "evalue": "[Errno 2] No such file or directory: 'myfile.txt'",
     "output_type": "error",
     "traceback": [
      "\u001b[0;31m---------------------------------------------------------------------------\u001b[0m",
      "\u001b[0;31mFileNotFoundError\u001b[0m                         Traceback (most recent call last)",
      "\u001b[0;32m<ipython-input-1-7096425c2aee>\u001b[0m in \u001b[0;36m<module>\u001b[0;34m\u001b[0m\n\u001b[1;32m      1\u001b[0m \u001b[0;31m# reading contents from a file - file_obj.readdline()\u001b[0m\u001b[0;34m\u001b[0m\u001b[0;34m\u001b[0m\u001b[0;34m\u001b[0m\u001b[0m\n\u001b[1;32m      2\u001b[0m \u001b[0;34m\u001b[0m\u001b[0m\n\u001b[0;32m----> 3\u001b[0;31m \u001b[0minput_file\u001b[0m \u001b[0;34m=\u001b[0m \u001b[0mopen\u001b[0m\u001b[0;34m(\u001b[0m\u001b[0;34m\"myfile.txt\"\u001b[0m\u001b[0;34m,\u001b[0m \u001b[0;34m\"r\"\u001b[0m\u001b[0;34m)\u001b[0m\u001b[0;34m\u001b[0m\u001b[0;34m\u001b[0m\u001b[0m\n\u001b[0m\u001b[1;32m      4\u001b[0m \u001b[0;31m# reading one line at a time\u001b[0m\u001b[0;34m\u001b[0m\u001b[0;34m\u001b[0m\u001b[0;34m\u001b[0m\u001b[0m\n\u001b[1;32m      5\u001b[0m \u001b[0mfirst_line\u001b[0m \u001b[0;34m=\u001b[0m \u001b[0minput_file\u001b[0m\u001b[0;34m.\u001b[0m\u001b[0mreadline\u001b[0m\u001b[0;34m(\u001b[0m\u001b[0;34m)\u001b[0m\u001b[0;34m\u001b[0m\u001b[0;34m\u001b[0m\u001b[0m\n",
      "\u001b[0;31mFileNotFoundError\u001b[0m: [Errno 2] No such file or directory: 'myfile.txt'"
     ]
    }
   ],
   "source": [
    "# # reading contents from a file - file_obj.readdline()\n",
    "\n",
    "# input_file = open(\"myfile.txt\", \"r\")\n",
    "# # reading one line at a time\n",
    "# first_line = input_file.readline()\n",
    "# second_line = input_file.readline()\n",
    "# print(first_line)\n",
    "# print(second_line)"
   ]
  },
  {
   "cell_type": "code",
   "execution_count": null,
   "metadata": {},
   "outputs": [],
   "source": [
    "# # what if the file has 500 lines??? use loops!\n",
    "\n",
    "# input_file = open(\"myfile.txt\", \"r\")\n",
    "# # init of tracking variable\n",
    "# line = input_file.readline()\n",
    "\n",
    "# while line: #as long as there's a line keep on doing things\n",
    "#     print(line)\n",
    "#     line = input_file.readline() #update\n",
    "\n",
    "# input_file.close()"
   ]
  },
  {
   "cell_type": "code",
   "execution_count": 12,
   "metadata": {},
   "outputs": [
    {
     "name": "stdout",
     "output_type": "stream",
     "text": [
      "11\n"
     ]
    }
   ],
   "source": [
    "# File I/O – Exercise: Write a program that counts the total number of words in file\n",
    "def word_count(file_name):\n",
    "    # Open the file\n",
    "    file = open(file_name, \"r\")\n",
    "\n",
    "    # initialize iterator\n",
    "    line = file.readline()\n",
    "    # initialize counter\n",
    "    num_words = 0\n",
    "\n",
    "    # proccess file line by line\n",
    "    while line:\n",
    "        word_count = line.count(\" \") + 1\n",
    "\n",
    "        num_words += word_count\n",
    "        # update iterator\n",
    "        line = file.readline()\n",
    "\n",
    "    file.close()\n",
    "\n",
    "    return num_words\n",
    "\n",
    "word_count = word_count(\"myfile.txt\")\n",
    "print(word_count)\n",
    "\n"
   ]
  },
  {
   "cell_type": "markdown",
   "metadata": {},
   "source": [
    "## File I/O - modes\n",
    "3 main modes to open a file:\n",
    "\n",
    "```r``` - read\n",
    "- open the file if it exists (error if it doesn't)\n",
    "- read from the file\n",
    "\n",
    "```w``` - wriite\n",
    "- create a file if it doesn't exist, else delete the content\n",
    "\n",
    "```a``` - append\n",
    "- go to the end of the file (if it doesn't exist, create the file)"
   ]
  },
  {
   "cell_type": "markdown",
   "metadata": {},
   "source": [
    "# 2021-Oct-22 – Lecture #\n",
    "\n",
    "## Lists & Strings - Slicing/Dicing\n"
   ]
  },
  {
   "cell_type": "code",
   "execution_count": 2,
   "metadata": {},
   "outputs": [
    {
     "name": "stdout",
     "output_type": "stream",
     "text": [
      "id\n"
     ]
    }
   ],
   "source": [
    "st = \"Friday\"\n",
    "print(st[2:4]) # id\n",
    "print(st[:2]) # Fr\n",
    "print(st[2:]) # iday\n",
    "\n",
    "# or using lists\n",
    "ls = [1,2,3]\n",
    "print(ls[1:]) # [2,3]\n",
    "print(ls[:2]) # [1,2]"
   ]
  },
  {
   "cell_type": "markdown",
   "metadata": {},
   "source": [
    "## File I/O Exercise (similar to HW6)\n",
    "<p> You have a file with student records (name and test scores for quizzes) in the form below </p>\n",
    "<p> Read the file and calculate each student's average score and make the new output file as shown below </p>\n",
    "\n",
    "info.csv:\n",
    "```\n",
    "Ben,7,8,5\n",
    "Mark,4,5,8\n",
    "Daniel,8,8,9 \n",
    "```\n",
    "\n",
    "output.csv\n",
    "```\n",
    "Ben,6.67\n",
    "Mark,5.67\n",
    "Daniel,8.33\n",
    "```"
   ]
  },
  {
   "cell_type": "code",
   "execution_count": null,
   "metadata": {},
   "outputs": [],
   "source": [
    "scores = read(\"info.csv\", r)\n",
    "\n",
    "close(\"info.csv\")"
   ]
  },
  {
   "cell_type": "markdown",
   "metadata": {},
   "source": [
    "# 2021-Oct-25 – Lecture 17\n",
    "***\n",
    "## Announcements\n",
    "- HW6 due Oct 31 at midnight (Canvas was updated)\n",
    "- Midterm 2 review and practice will be done in lab\n",
    "- Practice test will be uploaded tonight\n",
    "- No Quizzes this week\n",
    "\n",
    "## Recall: Running Python Programs\n",
    "(See lecture slides for images)"
   ]
  },
  {
   "cell_type": "markdown",
   "metadata": {},
   "source": [
    "## Writing your own modules\n",
    "- Modules are implemented as ```.py``` files (python scripts)\n",
    "- We can write a python script and access the functions in a separate program\n",
    "- Save file as my_module.py"
   ]
  },
  {
   "cell_type": "markdown",
   "metadata": {},
   "source": [
    "(See lecture 17 notebook for examples)"
   ]
  },
  {
   "cell_type": "code",
   "execution_count": 9,
   "metadata": {},
   "outputs": [
    {
     "name": "stdout",
     "output_type": "stream",
     "text": [
      "llab eeks\n"
     ]
    }
   ],
   "source": [
    "target = \"skee ball\" # updated 3/20\n",
    "reversed = \"\"\n",
    "letter_index = 0\n",
    "while letter_index < len(target):\n",
    "    reversed = target[letter_index] + reversed\n",
    "    letter_index = letter_index + 1\n",
    "print(reversed)  # print out the reversed string"
   ]
  },
  {
   "cell_type": "code",
   "execution_count": 8,
   "metadata": {},
   "outputs": [
    {
     "name": "stdout",
     "output_type": "stream",
     "text": [
      "llab eeks\n"
     ]
    }
   ],
   "source": [
    "target = \"skee ball\"\n",
    "reversed = \"\"\n",
    "letter_index = 1\n",
    "while letter_index <= len(target):\n",
    "    reversed = reversed + target[-letter_index]\n",
    "    letter_index = letter_index + 1\n",
    "print(reversed)"
   ]
  },
  {
   "cell_type": "code",
   "execution_count": 24,
   "metadata": {},
   "outputs": [
    {
     "ename": "KeyboardInterrupt",
     "evalue": "",
     "output_type": "error",
     "traceback": [
      "\u001b[0;31m---------------------------------------------------------------------------\u001b[0m",
      "\u001b[0;31mKeyboardInterrupt\u001b[0m                         Traceback (most recent call last)",
      "\u001b[0;32m<ipython-input-24-00c7b82217c9>\u001b[0m in \u001b[0;36m<module>\u001b[0;34m\u001b[0m\n\u001b[1;32m     10\u001b[0m     \u001b[0;32mreturn\u001b[0m \u001b[0mvar1\u001b[0m\u001b[0;34m\u001b[0m\u001b[0;34m\u001b[0m\u001b[0m\n\u001b[1;32m     11\u001b[0m \u001b[0;34m\u001b[0m\u001b[0m\n\u001b[0;32m---> 12\u001b[0;31m \u001b[0mtest\u001b[0m \u001b[0;34m=\u001b[0m \u001b[0mmystery7\u001b[0m\u001b[0;34m(\u001b[0m\u001b[0mparam1\u001b[0m\u001b[0;34m,\u001b[0m \u001b[0mparam2\u001b[0m\u001b[0;34m)\u001b[0m\u001b[0;34m\u001b[0m\u001b[0;34m\u001b[0m\u001b[0m\n\u001b[0m\u001b[1;32m     13\u001b[0m \u001b[0mprint\u001b[0m\u001b[0;34m(\u001b[0m\u001b[0mtest\u001b[0m\u001b[0;34m)\u001b[0m\u001b[0;34m\u001b[0m\u001b[0;34m\u001b[0m\u001b[0m\n",
      "\u001b[0;32m<ipython-input-24-00c7b82217c9>\u001b[0m in \u001b[0;36mmystery7\u001b[0;34m(param1, param2)\u001b[0m\n\u001b[1;32m      5\u001b[0m     \u001b[0mvar2\u001b[0m \u001b[0;34m=\u001b[0m \u001b[0;36m0\u001b[0m\u001b[0;34m\u001b[0m\u001b[0;34m\u001b[0m\u001b[0m\n\u001b[1;32m      6\u001b[0m     \u001b[0;32mwhile\u001b[0m \u001b[0mvar2\u001b[0m \u001b[0;34m<\u001b[0m \u001b[0mlen\u001b[0m\u001b[0;34m(\u001b[0m\u001b[0mparam1\u001b[0m\u001b[0;34m)\u001b[0m\u001b[0;34m:\u001b[0m\u001b[0;34m\u001b[0m\u001b[0;34m\u001b[0m\u001b[0m\n\u001b[0;32m----> 7\u001b[0;31m         \u001b[0;32mif\u001b[0m \u001b[0mparam1\u001b[0m\u001b[0;34m[\u001b[0m\u001b[0mvar2\u001b[0m\u001b[0;34m]\u001b[0m \u001b[0;34m!=\u001b[0m \u001b[0mparam2\u001b[0m\u001b[0;34m:\u001b[0m\u001b[0;34m\u001b[0m\u001b[0;34m\u001b[0m\u001b[0m\n\u001b[0m\u001b[1;32m      8\u001b[0m             \u001b[0mvar1\u001b[0m \u001b[0;34m+=\u001b[0m \u001b[0mparam1\u001b[0m\u001b[0;34m[\u001b[0m\u001b[0mvar2\u001b[0m\u001b[0;34m]\u001b[0m\u001b[0;34m\u001b[0m\u001b[0;34m\u001b[0m\u001b[0m\n\u001b[1;32m      9\u001b[0m             \u001b[0mvar2\u001b[0m \u001b[0;34m+=\u001b[0m \u001b[0;36m1\u001b[0m\u001b[0;34m\u001b[0m\u001b[0;34m\u001b[0m\u001b[0m\n",
      "\u001b[0;31mKeyboardInterrupt\u001b[0m: "
     ]
    }
   ],
   "source": [
    "p1 = \"appm\"\n",
    "p2 = \"a\"\n",
    "def mystery7(param1, param2):\n",
    "    var1 = \"\"\n",
    "    var2 = 0\n",
    "    while var2 < len(param1):\n",
    "        if param1[var2] != param2:\n",
    "            var1 += param1[var2]\n",
    "            var2 += 1\n",
    "    return var1\n",
    "\n",
    "test = mystery7(param1, param2)\n",
    "print(test)"
   ]
  },
  {
   "cell_type": "code",
   "execution_count": 30,
   "metadata": {},
   "outputs": [
    {
     "data": {
      "text/plain": [
       "'hello'"
      ]
     },
     "execution_count": 30,
     "metadata": {},
     "output_type": "execute_result"
    }
   ],
   "source": [
    "empty = \"\"\n",
    "empty += \"hello\"\n",
    "empty"
   ]
  },
  {
   "cell_type": "code",
   "execution_count": 75,
   "metadata": {},
   "outputs": [
    {
     "name": "stdout",
     "output_type": "stream",
     "text": [
      "Dice: 1 ,  3\n",
      "Both odd!\n",
      "Winner: 2\n"
     ]
    }
   ],
   "source": []
  },
  {
   "cell_type": "markdown",
   "metadata": {},
   "source": [
    "# 2021-Nov-29 – Lecture 24\n",
    "***\n",
    "## Announcements:\n",
    "- Final project due Dec. 6\n",
    "- Extra credit HW uploaded on Canvas (50pt)\n",
    "- No more projects; just the entire project is due next monday. \n",
    "\n"
   ]
  },
  {
   "cell_type": "markdown",
   "metadata": {},
   "source": [
    "## Route Finding\n",
    "- Brute Force/Unsophisticated Approach\n",
    "  - Graphs have vertices and edges\n",
    "  - "
   ]
  },
  {
   "cell_type": "code",
   "execution_count": 14,
   "metadata": {},
   "outputs": [
    {
     "name": "stdout",
     "output_type": "stream",
     "text": [
      "[2, 4, 3, 5, 1]\n",
      "[1, 2, 3, 4, 5]\n"
     ]
    }
   ],
   "source": [
    "A = [2,4,3,5,1]\n",
    "\n",
    "def bubble_sort(list):\n",
    "    sorted_list = [i for i in list]\n",
    "    need_to_sort = True\n",
    "    while need_to_sort:\n",
    "        swaps = 0\n",
    "        stays = 0\n",
    "        i = 0\n",
    "        for i in range(len(sorted_list)-1):\n",
    "            if sorted_list[i] > sorted_list[i+1]:\n",
    "                sorted_list[i], sorted_list[i+1] = sorted_list[i+1], sorted_list[i]\n",
    "                swaps += 1\n",
    "            elif sorted_list[i+1] > sorted_list[i]:\n",
    "                stays += 1\n",
    "            i += 1\n",
    "        if stays == len(list)-1:\n",
    "            need_to_sort = False\n",
    "    return sorted_list\n",
    "\n",
    "sorted_A = bubble_sort(A)\n",
    "print(A)\n",
    "print(sorted_A)"
   ]
  },
  {
   "cell_type": "code",
   "execution_count": null,
   "metadata": {},
   "outputs": [],
   "source": []
  }
 ],
 "metadata": {
  "interpreter": {
   "hash": "e5cf0aa9e021047b28ce7b8c7ad9895a77de681bac15ab4be37744a25d3b0287"
  },
  "kernelspec": {
   "display_name": "Python 3.7.4 64-bit ('base': conda)",
   "name": "python3"
  },
  "language_info": {
   "codemirror_mode": {
    "name": "ipython",
    "version": 3
   },
   "file_extension": ".py",
   "mimetype": "text/x-python",
   "name": "python",
   "nbconvert_exporter": "python",
   "pygments_lexer": "ipython3",
   "version": "3.7.4"
  },
  "orig_nbformat": 4
 },
 "nbformat": 4,
 "nbformat_minor": 2
}
