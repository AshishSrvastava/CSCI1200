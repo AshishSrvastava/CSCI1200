{
 "cells": [
  {
   "cell_type": "code",
   "execution_count": 81,
   "metadata": {
    "tags": []
   },
   "outputs": [],
   "source": [
    "# Name: Ashish Srivastava\n",
    "# Section : 001\n",
    "# Homework: Game of chance\n",
    "# Description: This homework demonstrates use of while loops, conditionals, nested loops, and making\n",
    "#              more modular; reusable code, as well as importing functions from modules. We are \n",
    "#              working under the assumption that the user will only enter valid innput"
   ]
  },
  {
   "cell_type": "markdown",
   "metadata": {},
   "source": [
    "Game of Chance!\n",
    "================\n",
    "--------"
   ]
  },
  {
   "cell_type": "code",
   "execution_count": 82,
   "metadata": {},
   "outputs": [],
   "source": [
    "#You will need this module imported here\n",
    "import random\n",
    "\n",
    "def get_player_name(num_players):\n",
    "    \"\"\"Modular (reusable) function to get player name(s)\n",
    "\n",
    "    Args:\n",
    "        num_players (int): number of players\n",
    "\n",
    "    Returns:\n",
    "        name (str): single player name\n",
    "        names (list): list of multiple player names\n",
    "    \"\"\"\n",
    "    # Case of 1 player: just one name\n",
    "    if num_players == 1:\n",
    "        name = input(\"Enter player's name\")\n",
    "        return name\n",
    "    # Case of 2 players: list of 2 names\n",
    "    elif num_players == 2:\n",
    "        name1 = input(\"Enter player 1's name\")\n",
    "        name2 = input(\"Enter player 2's name\")\n",
    "        names = [name1, name2]\n",
    "        return names"
   ]
  },
  {
   "cell_type": "code",
   "execution_count": 83,
   "metadata": {},
   "outputs": [],
   "source": [
    "# You will need to write code for this function to complete the assignment.\n",
    "\n",
    "def st_petersburg_lottery():\n",
    "    print(\"###### St. Petersburg Lottery ######\")\n",
    "    print(\"Instructions:\")\n",
    "    print(\"You will select any number greater than 0.\")\n",
    "    print(\"Up to the number of times you chose, we will randomly choose 0 or 1.\")\n",
    "    print(\"If a 1 is chosen before the last drawing, then you lose.\")\n",
    "    print(\"If a 1 does not appear at all, then you lose.\")\n",
    "    print(\"You win if 1 is chosen for the first time exactly on the last drawing.\")\n",
    "    print()\n",
    "    \n",
    "    # get the name of a single player\n",
    "    name = get_player_name(1)\n",
    "    # get input on guess of draws\n",
    "    num_draws = int(input(\"How many times do you think we will need to draw numbers before a 1 appears?\"))\n",
    "    draw = 0 # initialize iterating (draw) variable\n",
    "    coin_val = 0 #initialize coin value (break condition is coin_val = 1)\n",
    "    while draw < num_draws and coin_val != 1:\n",
    "        coin_val = random.randint(0,1) #flip coin\n",
    "        i += 1 #iterate the count by 1\n",
    "    if coin_val == 1: #losing condition\n",
    "        print(\"Womp womp! You lose!\")\n",
    "        print(\"Better luck next time!\")\n"
   ]
  },
  {
   "cell_type": "code",
   "execution_count": 84,
   "metadata": {},
   "outputs": [],
   "source": [
    "# You will need to write code for this function to complete the assignment.\n",
    "\n",
    "def is_a_word():\n",
    "    \"\"\"Function which asks the user if a given word is a word or not\n",
    "\n",
    "    Returns:\n",
    "        [bool]: Boolean on whether the word made by the user is a word or not\n",
    "    \"\"\"\n",
    "    word_input = input(\"Is this a word? (yes or no)\")\n",
    "    word_input = word_input.upper()\n",
    "    if word_input == \"YES\":\n",
    "        return True\n",
    "    elif word_input == \"NO\":\n",
    "        return False\n",
    "\n",
    "def first_to_a_word():\n",
    "    print(\"###### First to a Word ######\")\n",
    "    print(\"Instructions:\")\n",
    "    print(\"You will take turns choosing letters one at a time until a word is formed.\")\n",
    "    print(\"After each letter is chosen you will have a chance to confirm whether or not a word has been formed\")\n",
    "    print(\"When a word is formed, the player who played the last letter wins!\")\n",
    "    print(\"One of you has been chosen at random to initiate the game.\")\n",
    "    print()\n",
    "    print(\"Note: Words must be longer than a single letter!\")\n",
    "    print()\n",
    "    \n",
    "    [name1, name2] = get_player_name(2) # get the names of 2 players\n",
    "    turn_count = 0 #initialize the turn count at 0 (player 1's turn)\n",
    "    not_a_word = True #initialize the loop condition (being a word) as true\n",
    "    word = \"\" #initialize the word as an empty string\n",
    "    while not_a_word:\n",
    "        # The word needs to have a minimum of two characters before it can be tested to be a word\n",
    "        while len(word) < 2:\n",
    "            if turn_count % 2 == 0:\n",
    "                    letter1 = input(name1 + \": Please enter a Character\")\n",
    "                    word += letter1\n",
    "            else:\n",
    "                    letter2 = input(name2 + \": Please enter a Character\")\n",
    "                    word += letter2\n",
    "            turn_count += 1\n",
    "        else: #if the word is longer than 2 characters\n",
    "            if turn_count % 2 == 0:\n",
    "                    letter1 = input(name1 + \": Please enter a Character\")\n",
    "                    word += letter1\n",
    "            else:\n",
    "                    letter2 = input(name2 + \": Please enter a Character\")\n",
    "                    word += letter2\n",
    "            print(\"You have currently put together the lettters: \" + word)\n",
    "            word_bool = is_a_word()\n",
    "            not_a_word = not(word_bool)\n",
    "            print(not_a_word)\n",
    "        turn_count += 1\n",
    "    if turn_count % 2 == 0:\n",
    "        # the losing condition happened on player 1's turn therefore player 2 wins\n",
    "        print(\"Congratulations \" + name2 + \", you win!\")\n",
    "    else:\n",
    "        # the losing condition happened on player 2's turn therefore player 1 wins\n",
    "        print(\"Congratulations \" + name1 + \", you win!\")"
   ]
  },
  {
   "cell_type": "code",
   "execution_count": 85,
   "metadata": {},
   "outputs": [],
   "source": [
    "# You will need to write code for this function to complete the assignment.\n",
    "\n",
    "def game_of_21():\n",
    "    print(\"###### Game of 21 ######\")\n",
    "    print(\"Instructions:\")\n",
    "    print(\"Starting from 1, you will take turns saying a number that is 1, 2, or 3 greater than the previous number.\")\n",
    "    print(\"The first player always starts by saying 1.\")\n",
    "    print(\"The player who says 21 loses.\")\n",
    "    print(\"You may not say a number greater than 21.\")\n",
    "    print(\"One of you has been chosen at random to initiate the game.\")\n",
    "    print()\n",
    "    \n",
    "    # get list of 2 player names using modular function\n",
    "    [name1, name2] = get_player_name(2)\n",
    "    # randomly picks a player to staart\n",
    "    turn_count = random.randint(0,1)\n",
    "    # start off with 1 as the total sm\n",
    "    total_sum = 1\n",
    "    while total_sum < 21:\n",
    "        print(\"The current number is: \" + str(total_sum))\n",
    "        # Player 1's turn\n",
    "        if turn_count % 2 == 0:\n",
    "            player_increase = int(input(name1 + \": Do you want to increase the current number by 1, 2, or 3?\"))\n",
    "            # increase the sum\n",
    "            total_sum += player_increase\n",
    "        # player 2's turn\n",
    "        elif turn_count % 2 == 1:\n",
    "            player_increase = int(input(name2 + \": Do you want to increase the current number by 1, 2, or 3?\"))\n",
    "            # increase the sum\n",
    "            total_sum += player_increase\n",
    "        turn_count += 1 # next player's turn\n",
    "    if turn_count % 2 == 0: #if it's player 1's turn right before the breaking condition they win\n",
    "        print(\"Congratulations \" + name1 + \", you win!\")\n",
    "    if turn_count % 2 == 1: #if it's player 2's turn right before the breaking condition they win\n",
    "        print(\"Congratulations \" + name2 + \", you win!\")"
   ]
  },
  {
   "cell_type": "code",
   "execution_count": 86,
   "metadata": {},
   "outputs": [],
   "source": [
    "# You will need to write code for this function to complete the assignment.\n",
    "\n",
    "def display_menu():\n",
    "    \"\"\"\n",
    "    Displays the menu and gets the user's choice of game (or exits the game)\n",
    "    Parameters:\n",
    "        None\n",
    "    Returns:\n",
    "        choice [int]: the user choice of game\n",
    "    \"\"\"\n",
    "    print(\"~=[Menu]=~\")\n",
    "    print(\"1 - St. Petersburg Lottery\")\n",
    "    print(\"2 - First to a Word\")\n",
    "    print(\"3 - The game of 21\")\n",
    "    print(\"4 - Exit the Game of Chance\")\n",
    "    print()\n",
    "    # Get integer input on choice\n",
    "    choice = int(input(\"Which menu option do you choose?\"))\n",
    "    return choice"
   ]
  },
  {
   "cell_type": "code",
   "execution_count": 87,
   "metadata": {},
   "outputs": [],
   "source": [
    "def main():\n",
    "    # Below you will find comments that you are supposed to replace with code.\n",
    "    # You should not need to change anything other than inserting code into those spots.\n",
    "    # Note: This main is meant to give you a solid starting point on the rest of the assignment! \n",
    "    #       Think about why/how we call certain functions at certain points to get context clues that could help in implementing the functions! \n",
    "\n",
    "\n",
    "    print(\"Welcome to the Game of Chance!\")\n",
    "    still_playing = True # true by default, changes to false if 4 is selected on menu\n",
    "    while(still_playing):\n",
    "        print()\n",
    "        game_chosen = display_menu() # call the menu function\n",
    "        if game_chosen == 1:\n",
    "            # play the st. petersburg lottery\n",
    "            st_petersburg_lottery()\n",
    "        elif game_chosen == 2:\n",
    "            # play first to a word\n",
    "            first_to_a_word()\n",
    "        elif game_chosen == 3:\n",
    "            # play game of 21\n",
    "            game_of_21()\n",
    "        else:\n",
    "            print(\"We will now exit the Game of Chance.\")\n",
    "            print(\"Thank you for playing!\")\n",
    "            still_playing = False"
   ]
  },
  {
   "cell_type": "code",
   "execution_count": 88,
   "metadata": {
    "collapsed": false,
    "jupyter": {
     "outputs_hidden": false
    }
   },
   "outputs": [
    {
     "name": "stdout",
     "output_type": "stream",
     "text": [
      "Welcome to the Game of Chance!\n",
      "\n",
      "~=[Menu]=~\n",
      "1 - St. Petersburg Lottery\n",
      "2 - First to a Word\n",
      "3 - The game of 21\n",
      "4 - Exit the Game of Chance\n",
      "\n",
      "We will now exit the Game of Chance.\n",
      "Thank you for playing!\n"
     ]
    }
   ],
   "source": [
    "main()"
   ]
  },
  {
   "cell_type": "markdown",
   "metadata": {},
   "source": [
    "Bonus:\n",
    "-----------\n",
    "Implement your own game. Your game must include a while loop. Bonus credit will be scaled according to the complexity of the game. **Don't forget to update you menu to include the new option!**"
   ]
  },
  {
   "cell_type": "code",
   "execution_count": null,
   "metadata": {},
   "outputs": [],
   "source": []
  }
 ],
 "metadata": {
  "interpreter": {
   "hash": "e5cf0aa9e021047b28ce7b8c7ad9895a77de681bac15ab4be37744a25d3b0287"
  },
  "kernelspec": {
   "display_name": "Python 3.7.4 64-bit ('base': conda)",
   "name": "python3"
  },
  "language_info": {
   "codemirror_mode": {
    "name": "ipython",
    "version": 3
   },
   "file_extension": ".py",
   "mimetype": "text/x-python",
   "name": "python",
   "nbconvert_exporter": "python",
   "pygments_lexer": "ipython3",
   "version": "3.7.4"
  }
 },
 "nbformat": 4,
 "nbformat_minor": 4
}
