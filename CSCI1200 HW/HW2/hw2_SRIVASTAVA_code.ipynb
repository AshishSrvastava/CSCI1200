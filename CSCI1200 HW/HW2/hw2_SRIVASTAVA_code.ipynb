{
 "cells": [
  {
   "cell_type": "code",
   "execution_count": 1,
   "source": [
    "# Name: Ashish Srivastava\n",
    "# Section : 001\n",
    "# Homework: Pseudo-functions\n",
    "# Description: This homework gives practice with formulating solutions to problems using pseudocode, errors in code, and using functions"
   ],
   "outputs": [],
   "metadata": {
    "colab": {},
    "colab_type": "code",
    "collapsed": true,
    "id": "l1TsODS3z2HG",
    "jupyter": {
     "outputs_hidden": true
    }
   }
  },
  {
   "cell_type": "markdown",
   "source": [
    "Part 1: Pseudocode\n",
    "--------\n",
    "\n",
    "Complete part 1 in hw2_written.pdf. You should put your answer in your word processor of choice, save it as hw2_LASTNAME_written.pdf, and turn it in on canvas."
   ],
   "metadata": {
    "colab_type": "text",
    "id": "dmFSfkBxz2HU"
   }
  },
  {
   "cell_type": "markdown",
   "source": [
    "## Part 2:  Using Functions\n",
    "--------\n",
    "### Question 2 (15 points)"
   ],
   "metadata": {
    "colab_type": "text",
    "id": "mldAKP8Pz2HZ"
   }
  },
  {
   "cell_type": "markdown",
   "source": [
    "Complete the exercises from part 2 question 2 of the write-up in the cells below. For full credit, you must include all lines of code from the problem write-ups."
   ],
   "metadata": {
    "colab_type": "text",
    "id": "mjhQsaB9z2Ha"
   }
  },
  {
   "cell_type": "code",
   "execution_count": 2,
   "source": [
    "# A) Re-write the code from question 1 below. Put a comment at the end of \n",
    "# each line of code stating the value and type of the variable \"my_var\"\n",
    "# Example:\n",
    "my_var = 0.0 # 0.0, float \n",
    "my_var = 1 # 1, integer\n",
    "my_var = \"great white shark\" # great white shark, string\n",
    "my_var = 7.4 # 7.4, float\n",
    "my_var = 0 # 0, integer\n",
    "my_var =  my_var + 1 # 1, integer\n",
    "my_var = my_var + 1 # 2, integer\n",
    "my_var = my_var * 6 # 12, integer\n",
    "my_var = my_var / 1 # 12, integer"
   ],
   "outputs": [],
   "metadata": {
    "colab": {},
    "colab_type": "code",
    "collapsed": true,
    "id": "PmlvTdu-z2Hc",
    "jupyter": {
     "outputs_hidden": true
    }
   }
  },
  {
   "cell_type": "code",
   "execution_count": 3,
   "source": [
    "# B) Re-write the code from question 2 below. \n",
    "# print(x)\n",
    "# x = 7\n",
    "# What kind of error is produced?\n",
    "# Answer: NameError, we didn't define x before calling it. "
   ],
   "outputs": [],
   "metadata": {
    "colab": {},
    "colab_type": "code",
    "collapsed": true,
    "id": "3cIjDvJxz2Hl",
    "jupyter": {
     "outputs_hidden": true
    }
   }
  },
  {
   "cell_type": "code",
   "execution_count": 4,
   "source": [
    "# C) Rearrange the lines of code from question 2 part C below so that no error is produced when you run it.\n",
    "x = 7\n",
    "print(x)"
   ],
   "outputs": [
    {
     "output_type": "stream",
     "name": "stdout",
     "text": [
      "7\n"
     ]
    }
   ],
   "metadata": {
    "colab": {},
    "colab_type": "code",
    "collapsed": true,
    "id": "0CRn5Ny7z2Hr",
    "jupyter": {
     "outputs_hidden": true
    }
   }
  },
  {
   "cell_type": "code",
   "execution_count": 5,
   "source": [
    "# D) Rearrange the lines of code from question 2 part D below so that no error is produced when you run it.\n",
    "num1 = 0\n",
    "num2 = 1\n",
    "num3 = num2 + num2\n",
    "num3 = num1 + num2 + num3\n",
    "print(num3)"
   ],
   "outputs": [
    {
     "output_type": "stream",
     "name": "stdout",
     "text": [
      "3\n"
     ]
    }
   ],
   "metadata": {
    "colab": {},
    "colab_type": "code",
    "collapsed": true,
    "id": "EL2OEsJOz2Hz",
    "jupyter": {
     "outputs_hidden": true
    }
   }
  },
  {
   "cell_type": "code",
   "execution_count": 6,
   "source": [
    "# E)  Rearrange the lines of code from question 2 part E below so that no error is produced when you run it.\n",
    "name = \"harriet\"\n",
    "profession = \"spy\"\n",
    "mult = 3\n",
    "print(name + profession*3)"
   ],
   "outputs": [
    {
     "output_type": "stream",
     "name": "stdout",
     "text": [
      "harrietspyspyspy\n"
     ]
    }
   ],
   "metadata": {
    "colab": {},
    "colab_type": "code",
    "collapsed": true,
    "id": "Jef3igQ6z2H6",
    "jupyter": {
     "outputs_hidden": true
    }
   }
  },
  {
   "cell_type": "code",
   "execution_count": 7,
   "source": [
    "# F)  Rearrange the lines of code from question 2 part F below so that no error is produced when you run it.\n",
    "a = 2\n",
    "b = 2 * a\n",
    "print(b)\n",
    "text_1 = \"baa black sheep\"\n",
    "text_2 = \"baa\"\n",
    "c = text_1 + text_2 * b\n",
    "print(c)"
   ],
   "outputs": [
    {
     "output_type": "stream",
     "name": "stdout",
     "text": [
      "4\n",
      "baa black sheepbaabaabaabaa\n"
     ]
    }
   ],
   "metadata": {
    "colab": {},
    "colab_type": "code",
    "collapsed": true,
    "id": "xj0kVtJ8z2IC",
    "jupyter": {
     "outputs_hidden": true
    }
   }
  },
  {
   "cell_type": "code",
   "execution_count": 8,
   "source": [
    "# G) Re-write the lines of code from question 2 part G below.\n",
    "# Why does the code not work as written?\n",
    "# Answer: The value taken in as input is not being assigned to the age variable, so when age is called, it has no value\n",
    "\n",
    "# input(\"how old are you? \")\n",
    "# print(\"I am \" + age)\n",
    "\n",
    "# fix the code so that it does not produce an error.\n",
    "age = input(\"How old are you? \")\n",
    "print(\"I am \" + age)"
   ],
   "outputs": [
    {
     "output_type": "stream",
     "name": "stdout",
     "text": [
      "I am 19\n"
     ]
    }
   ],
   "metadata": {
    "colab": {},
    "colab_type": "code",
    "collapsed": true,
    "id": "SCAk0nWBz2IH",
    "jupyter": {
     "outputs_hidden": true
    }
   }
  },
  {
   "cell_type": "code",
   "execution_count": 9,
   "source": [
    "# H) Re-write the lines of code from question 2 part H below.\n",
    "# Why does the code not work as written?\n",
    "# Answer: The type of age and ten_years_from_now is integer, which cannot be concatenated to a string. \n",
    "\n",
    "# age = 112\n",
    "# ten_years_from_now = age + 10\n",
    "# print(\"I will be \" + ten_years_from_now)\n",
    "\n",
    "# make sure to comment out the code when you are done with this\n",
    "# problem so that it doesn't produce errors when run!"
   ],
   "outputs": [],
   "metadata": {
    "colab": {},
    "colab_type": "code",
    "collapsed": true,
    "id": "ajtoF4HJz2IM",
    "jupyter": {
     "outputs_hidden": true
    }
   }
  },
  {
   "cell_type": "code",
   "execution_count": 10,
   "source": [
    "# I) Re-write the lines of code from question 2 part I below.\n",
    "# What are three reasons that this code does not work as written? \n",
    "# Answer: \n",
    "        # 1) The input is not being assigned to the age variable\n",
    "        # 2) The input will be a string, so 10 cannot be added to it. It must be converted to an integer\n",
    "        # 3) You cannot concate an integer to a string: ten_years_from_now must be converted to a string\n",
    "\n",
    "# input(\"How old are you? \")\n",
    "# ten_years_from_now = age + 10\n",
    "# print(\"I will be \" + ten_years_from_now)\n",
    "\n",
    "# make sure to comment out the code when you are done with this\n",
    "# problem so that it doesn't produce errors when run!"
   ],
   "outputs": [],
   "metadata": {
    "colab": {},
    "colab_type": "code",
    "id": "e1pmn1TXz2IR"
   }
  },
  {
   "cell_type": "markdown",
   "source": [
    "--------\n",
    "### Question 3 (30 points)\n",
    "\n",
    "You do not need to define your own functions for this part of the homework."
   ],
   "metadata": {
    "colab_type": "text",
    "id": "ZZJpEvo4z2IW"
   }
  },
  {
   "cell_type": "markdown",
   "source": [
    "A) Give an example usage of each of the following functions: ```len()```, ```abs()```, ```round()```, and ```chr()```. Valid examples must do all of the following: \n",
    "   1. Run\n",
    "   2. Use the function with correct arguments\n",
    "        1. if the function can take variable numbers of arguments, give at least 2 examples showing usage with 2 different numbers of arguments.\n",
    "   3. Save any return values in a variable\n",
    "   4. Print out the return value\n",
    "   5. Include a comment describing what this function does and why you might want to use it. \n",
    "\n",
    "\n",
    "Consult the write up for further information.\n",
    "\n",
    "You should have at minimum 2 - 3 lines of code and 1 comment for each example."
   ],
   "metadata": {
    "colab_type": "text",
    "id": "OzVwBm2vz2IW"
   }
  },
  {
   "cell_type": "code",
   "execution_count": 11,
   "source": [
    "# len()\n",
    "# This function takes in a string or list and returns the length/ number of items. This would be helpful if you need to \n",
    "# iterate over items in a certain object\n",
    "name_length=len(\"Ashish\")\n",
    "print(name_length)\n",
    "len([0,1,2,3,4])"
   ],
   "outputs": [
    {
     "output_type": "stream",
     "name": "stdout",
     "text": [
      "6\n"
     ]
    },
    {
     "output_type": "execute_result",
     "data": {
      "text/plain": [
       "5"
      ]
     },
     "metadata": {},
     "execution_count": 11
    }
   ],
   "metadata": {
    "colab": {
     "base_uri": "https://localhost:8080/",
     "height": 34
    },
    "colab_type": "code",
    "collapsed": true,
    "executionInfo": {
     "elapsed": 393,
     "status": "ok",
     "timestamp": 1599861146609,
     "user": {
      "displayName": "Nimra Sharnez",
      "photoUrl": "",
      "userId": "13843903423015333418"
     },
     "user_tz": 420
    },
    "id": "ELzJfLZDz2IY",
    "jupyter": {
     "outputs_hidden": true
    },
    "outputId": "18192508-041b-48a5-9fd3-8abc43948cbd"
   }
  },
  {
   "cell_type": "code",
   "execution_count": 12,
   "source": [
    "# abs()\n",
    "# This function takes in a number and returns its absolute value. If working with arithmetic, or calculating statistical\n",
    "# values, the absolute value of a difference is often importaant\n",
    "magnitude = abs(1-3)\n",
    "print(magnitude)\n"
   ],
   "outputs": [
    {
     "output_type": "stream",
     "name": "stdout",
     "text": [
      "2\n"
     ]
    }
   ],
   "metadata": {
    "colab": {},
    "colab_type": "code",
    "collapsed": true,
    "id": "OEUHq8Vuz2Ie",
    "jupyter": {
     "outputs_hidden": true
    }
   }
  },
  {
   "cell_type": "code",
   "execution_count": 13,
   "source": [
    "# round()\n",
    "# This function rounds an input number to the specified number of decimal places. This improves human readability of output\n",
    "# or can be used as a way to preserve significant figures in calculations. \n",
    "ashish_height_in = 70 # my height in inches\n",
    "ashish_height_ft = ashish_height_in / 12\n",
    "print(\"I'm \" + str(round(ashish_height_ft,3)) + \" ft tall, but to make myself better I tell people that I'm actually \" + str(round(ashish_height_ft,0)) + \" ft\")"
   ],
   "outputs": [
    {
     "output_type": "stream",
     "name": "stdout",
     "text": [
      "I'm 5.833 ft tall, but to make myself better I tell people that I'm actually 6.0 ft\n"
     ]
    }
   ],
   "metadata": {
    "colab": {},
    "colab_type": "code",
    "collapsed": true,
    "id": "gMYlrD-sz2Ij",
    "jupyter": {
     "outputs_hidden": true
    }
   }
  },
  {
   "cell_type": "code",
   "execution_count": 14,
   "source": [
    "# chr()\n",
    "# This function returns the string character associated with a given unicode code integer. You'd use this when converting \n",
    "# between integers and their respective string characters.\n",
    "\n",
    "print(chr(65), chr(83), chr(72), chr(73), chr(83), chr(72), chr(0x1F60E))\n"
   ],
   "outputs": [
    {
     "output_type": "stream",
     "name": "stdout",
     "text": [
      "A S H I S H 😎\n"
     ]
    }
   ],
   "metadata": {
    "colab": {},
    "colab_type": "code",
    "collapsed": true,
    "id": "3tUcXSzUz2Io",
    "jupyter": {
     "outputs_hidden": true
    }
   }
  },
  {
   "cell_type": "markdown",
   "source": [
    "B) Write a python program that tells the user about your favorite movie. Tell them about the movie using the ```print()``` function, then ask the user what their name is and what their favorite movie is by using the ```input()``` function. After the user answers these questions, greet them and make a comment about their favorite movie.\n",
    "\n",
    "See the HW instructions for examples."
   ],
   "metadata": {
    "colab_type": "text",
    "id": "cPaHlXdJz2Iv"
   }
  },
  {
   "cell_type": "code",
   "execution_count": 15,
   "source": [
    "print(\"My name is Ashish and my current favorite movie is Inside, by Bo Burnham. \")\n",
    "user_name = input(\"What is your name? \")\n",
    "user_movie = input(\"What is your favorite movie? \")\n",
    "print(\"Hello, \", user_name)\n",
    "print(\"I haven't watched \" + user_movie + \" yet; I'll have to give it a try!\")"
   ],
   "outputs": [
    {
     "output_type": "stream",
     "name": "stdout",
     "text": [
      "My name is Ashish and my current favorite movie is Inside, by Bo Burnham. \n",
      "Hello,  Ashish\n",
      "I haven't watched Inside by Bo Burnham yet; I'll have to give it a try!\n"
     ]
    }
   ],
   "metadata": {
    "colab": {},
    "colab_type": "code",
    "collapsed": true,
    "executionInfo": {
     "elapsed": 375,
     "status": "ok",
     "timestamp": 1599858519003,
     "user": {
      "displayName": "Nimra Sharnez",
      "photoUrl": "",
      "userId": "13843903423015333418"
     },
     "user_tz": 420
    },
    "id": "OqnrJWqPz2Iv",
    "jupyter": {
     "outputs_hidden": true
    }
   }
  },
  {
   "cell_type": "markdown",
   "source": [
    "C) Write a program that prompts the user for their height in inches, converts that amount to centimeters, and reports back the user’s height in both centimeters and meters. Use the ```round()``` function to round your answers to two decimal places.\n",
    "\n",
    "Note: to convert inches (“in”) to centimeters (“cm”), multiply the number of inches by 2.54. To convert centimeters to meters (“m”), divide the number of centimeters by 100.   \n",
    "\n",
    "See the HW instructions for examples of output."
   ],
   "metadata": {
    "colab_type": "text",
    "id": "o9bSv9T6z2Iz"
   }
  },
  {
   "cell_type": "code",
   "execution_count": 16,
   "source": [
    "height_in = float(input(\"What is your height in inches? \"))\n",
    "height_cm = height_in * 2.54\n",
    "height_m = height_cm / 100\n",
    "print(\"That is \" + str(round(height_cm, 2)) + \" cm and \" + str(round(height_m,2)) + \" m!\")"
   ],
   "outputs": [
    {
     "output_type": "stream",
     "name": "stdout",
     "text": [
      "That is 177.8 cm and 1.78 m!\n"
     ]
    }
   ],
   "metadata": {
    "colab": {},
    "colab_type": "code",
    "collapsed": true,
    "id": "Kqta2pN3z2I0",
    "jupyter": {
     "outputs_hidden": true
    }
   }
  },
  {
   "cell_type": "markdown",
   "source": [
    "D) Write a program that calculates the maximum occupancy of a room, given its length and width as reported by the user. We will use the following formula to calculate maximum occupancy:\n",
    "\n",
    "```number_of_people = area_of_the_room / 20```.\n",
    "\n",
    "Make sure that your reported occupancy does not include any partial people! (Hint: think about python’s different kinds of divide operators and casting to help you out!)\n",
    "\n",
    "See the write-up for examples of output, and remember to check your code with different inputs."
   ],
   "metadata": {
    "colab_type": "text",
    "id": "9gcbFC32z2I5"
   }
  },
  {
   "cell_type": "code",
   "execution_count": 17,
   "source": [
    "length = float(input(\"What is the room length (ft)? \"))\n",
    "width = float(input(\"What is the room width (ft)? \"))\n",
    "area_of_the_room = length * width\n",
    "number_of_people = int(area_of_the_room / 20)\n",
    "print(\"Occupancy: \" + str(number_of_people))"
   ],
   "outputs": [
    {
     "output_type": "stream",
     "name": "stdout",
     "text": [
      "Occupancy: 139\n"
     ]
    }
   ],
   "metadata": {
    "colab": {},
    "colab_type": "code",
    "collapsed": true,
    "id": "CMjnYjA5z2I6",
    "jupyter": {
     "outputs_hidden": true
    }
   }
  },
  {
   "cell_type": "markdown",
   "source": [
    "STOP\n",
    "========\n",
    "Before turning this notebook in: restart your kernel and run all cells. Make sure that there are no errors!\n",
    "\n",
    "Make sure you have renamed this notebook according to the homework write-up!"
   ],
   "metadata": {
    "colab_type": "text",
    "id": "Lqu-8GC8z2I_"
   }
  }
 ],
 "metadata": {
  "colab": {
   "name": "hw2_starter.ipynb",
   "provenance": []
  },
  "kernelspec": {
   "name": "python3",
   "display_name": "Python 3.7.4 64-bit ('base': conda)"
  },
  "language_info": {
   "codemirror_mode": {
    "name": "ipython",
    "version": 3
   },
   "file_extension": ".py",
   "mimetype": "text/x-python",
   "name": "python",
   "nbconvert_exporter": "python",
   "pygments_lexer": "ipython3",
   "version": "3.7.4"
  },
  "interpreter": {
   "hash": "1afaabec1bfdb0bcc5ca0b8984696fcd1e0b46b9d55b5fadfb51c829a0a3ad93"
  }
 },
 "nbformat": 4,
 "nbformat_minor": 4
}