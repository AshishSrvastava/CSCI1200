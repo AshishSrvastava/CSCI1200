{
 "cells": [
  {
   "cell_type": "code",
   "execution_count": 1,
   "metadata": {
    "id": "ZI2BsEbuLtrK"
   },
   "outputs": [],
   "source": [
    "# Name: Ashish Srivastava\n",
    "# Section : 001\n",
    "# Homework: Personalized Ads\n",
    "# Description: This homework demonstrates use of inputs, typecasting, error handling, and conditionals within the scope\n",
    "#              of writing personalized ads based on different inputs by the user."
   ]
  },
  {
   "cell_type": "markdown",
   "metadata": {
    "id": "iKBaHu0wLtrP"
   },
   "source": [
    "Problem 1 - Dog Food Ad (7 points)\n",
    "----------------------"
   ]
  },
  {
   "cell_type": "code",
   "execution_count": 2,
   "metadata": {
    "id": "T79H3w96LtrR"
   },
   "outputs": [],
   "source": [
    "def owns_dog():\n",
    "    \"\"\"Function that takes input on whether or not a user has a dog\n",
    "\n",
    "    Returns:\n",
    "        user_dog (Bool): Boolean that is true if the user has a dog, false if the user doesn't\n",
    "    \"\"\"\n",
    "    # Case insensitive input \n",
    "    user_dog = input(\"Do you own a dog?\")\n",
    "    user_dog = user_dog.upper()\n",
    "    # Return the dog ownership status as a bool\n",
    "    if user_dog == \"YES\":\n",
    "        return True\n",
    "    else:\n",
    "        return False\n",
    "\n",
    "def serve_ad_based_on_dog(dog_bool):\n",
    "    \"\"\"Prints different types of ads depending on whether or not the user has a dog\n",
    "\n",
    "    Args:\n",
    "        dog_bool (Bool): Takes in input on whether the user had a dog or not\n",
    "    \n",
    "    Returns:\n",
    "        none\n",
    "    \"\"\"\n",
    "    # If the user has a dog, serve a dog food ad\n",
    "    if dog_bool == True:\n",
    "        print(\"Dog Food Ad: Get the new organic dog food from Royal K9! Treat your dog like the royalty they are!\")\n",
    "    else:\n",
    "        print(\"Ad: Buy the all new MacBook Pro! You need something to entertain yourself if you don't have a dog.\")"
   ]
  },
  {
   "cell_type": "markdown",
   "metadata": {
    "id": "wU_DEBZlLtrR"
   },
   "source": [
    "Problem 2 - Dog/Cat Ads (10 points)\n",
    "---------------------------"
   ]
  },
  {
   "cell_type": "code",
   "execution_count": 3,
   "metadata": {
    "id": "T3w0vTFsLtrS"
   },
   "outputs": [],
   "source": [
    "def int_question(question):\n",
    "    \"\"\"Asks the user a question, and verifies that the input is an integer\n",
    "\n",
    "    Args:\n",
    "        question (str): the string of the question that the user is asked\n",
    "\n",
    "    Returns:\n",
    "        user_input (int): the value that the user inputted as an integer\n",
    "    \"\"\"\n",
    "    user_input = input(question)\n",
    "    # Check to make sure input is an integer > 0\n",
    "    if user_input.isdecimal() == False or int(user_input) < 0:\n",
    "        print(\"You didn't enter a number: converting response to 0\")\n",
    "        return 0\n",
    "    else:\n",
    "        user_input = int(user_input)\n",
    "        return(user_input)\n",
    "\n",
    "def serve_ad_based_on_friends(num_friends):\n",
    "    \"\"\"Prints a relevant ad based on the number of friends that a user has\n",
    "\n",
    "    Args:\n",
    "        num_friends (int]): the number of friends that a user has\n",
    "\n",
    "    Returns:\n",
    "        none\n",
    "    \"\"\"\n",
    "    # People with at least 500 friends are likely to be extroverts; deliver an ad of a dog\n",
    "    if num_friends >= 500:\n",
    "        print(\"Ad with Dog: Come on down to the Boulder Dog Park!\")\n",
    "    # People with less 500 friends are likely to be introverts; deliver an ad of a cat\n",
    "    else:\n",
    "        print(\"Ad with Cat: Get a cat from your local shelter!\")"
   ]
  },
  {
   "cell_type": "markdown",
   "metadata": {
    "id": "PDfzdAcfLtrS"
   },
   "source": [
    "Problem 3 - Boulder Ads (8 points)\n",
    "---------------------------"
   ]
  },
  {
   "cell_type": "code",
   "execution_count": 4,
   "metadata": {
    "id": "RKH_Qqg4LtrS"
   },
   "outputs": [],
   "source": [
    "def serve_ad_based_on_zip_age(zip_code,age):\n",
    "    \"\"\"Prints a relevantad based on the age and zip code of a user\n",
    "\n",
    "    Args:\n",
    "        zip_code (int): The user's zip code as an integer\n",
    "        age (int): the User's age as an integer\n",
    "    \"\"\"\n",
    "    # If the user is in boulder\n",
    "    if zip_code in [80301,80302,80303,80304,80305,80307,80308,80309,80310]:\n",
    "        # If the user is over 21, they can drink\n",
    "        if age >= 25: \n",
    "            print(\"Expensive Product Ad: Buy CU merch from the CU Bookstore! Sko Buffs!!!\")\n",
    "        # if the user is not over 21, they cannot drink; serve other ad\n",
    "        else:\n",
    "            print(\"Cheap Product Ad: Get a coffee from the Gravity Cafe in the Engineering Center!\")\n",
    "    # If user is not in boulder\n",
    "    else:\n",
    "        # If the user is not from Boulder, advertise Boulder city\n",
    "        print(\"Tourist Ad: Come to Boulder! We have the Flatirons; that's pretty neat!\")"
   ]
  },
  {
   "cell_type": "markdown",
   "metadata": {
    "id": "7sxXY64tLtrT"
   },
   "source": [
    "Problem 4 - Completing Your Program (10 points)\n",
    "--------------------"
   ]
  },
  {
   "cell_type": "code",
   "execution_count": 5,
   "metadata": {
    "id": "YmHn4W3tLtrU"
   },
   "outputs": [
    {
     "name": "stdout",
     "output_type": "stream",
     "text": [
      "Expensive Product Ad: Buy CU merch from the CU Bookstore! Sko Buffs!!!\n"
     ]
    }
   ],
   "source": [
    "# Implement your main() here\n",
    "def main():\n",
    "    \"\"\"Main program to get personalization level and serve appropriate ads and prompts\n",
    "    \"\"\"\n",
    "    # get level of ad personalization from the user\n",
    "    level = int_question(\"How personalized should the ad be? (1 - 3)\")\n",
    "    if level not in range(1,4):\n",
    "        return(\"The personalization level must be a number between 1 and 3!\")\n",
    "    # Ask appropriate questions based on personalization level\n",
    "    if level == 1:\n",
    "            # Checks whether user has a dog or not\n",
    "        dog_bool = owns_dog()\n",
    "        # Serve appropriate ad based on whether user has a dog\n",
    "        serve_ad_based_on_dog(dog_bool)\n",
    "\n",
    "    elif level == 2:\n",
    "        # Find the number of friends of a user\n",
    "        num_friends = int_question(\"How many friends do you have?\")\n",
    "        # Serve the appropriate ad based on the number of friends\n",
    "        serve_ad_based_on_friends(num_friends)\n",
    "\n",
    "    elif level == 3:\n",
    "        # Get the user's zip code\n",
    "        zip_code = int_question(\"What zipcode do you live in?\")\n",
    "        # Get the user's age\n",
    "        age = int_question(\"How old are you?\")\n",
    "        # Serve appropriate ad based on zip code and age\n",
    "        serve_ad_based_on_zip_age(zip_code, age)\n",
    "\n",
    "# don't forget to call main()!\n",
    "main()"
   ]
  },
  {
   "cell_type": "markdown",
   "metadata": {
    "id": "2rezXWwOLtrU"
   },
   "source": [
    "__Stop!__ Make sure that you have restarted your kernel and run all the cells in your notebook before turning it in!"
   ]
  }
 ],
 "metadata": {
  "colab": {
   "name": "hw4_starter.ipynb",
   "provenance": []
  },
  "interpreter": {
   "hash": "1afaabec1bfdb0bcc5ca0b8984696fcd1e0b46b9d55b5fadfb51c829a0a3ad93"
  },
  "kernelspec": {
   "display_name": "Python 3.7.4 64-bit ('base': conda)",
   "name": "python3"
  },
  "language_info": {
   "codemirror_mode": {
    "name": "ipython",
    "version": 3
   },
   "file_extension": ".py",
   "mimetype": "text/x-python",
   "name": "python",
   "nbconvert_exporter": "python",
   "pygments_lexer": "ipython3",
   "version": "3.7.4"
  }
 },
 "nbformat": 4,
 "nbformat_minor": 4
}
