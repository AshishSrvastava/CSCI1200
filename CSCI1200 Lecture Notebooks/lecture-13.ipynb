{
 "cells": [
  {
   "cell_type": "code",
   "execution_count": 1,
   "source": [
    "import random\n",
    "\n",
    "toss_count = 0\n",
    "toss_sum = 0\n",
    "\n",
    "while toss_count < 100:\n",
    "    toss = random.randint(0, 1)\n",
    "    toss_sum = toss_sum + toss\n",
    "    toss_count += 1\n",
    "    \n",
    "print (toss_sum / 100)"
   ],
   "outputs": [
    {
     "output_type": "stream",
     "name": "stdout",
     "text": [
      "0.46\n"
     ]
    }
   ],
   "metadata": {}
  },
  {
   "cell_type": "code",
   "execution_count": 25,
   "source": [
    "# toss: 0 1 1 1 0\n",
    "# toss_sum: 0 1 2 3 3"
   ],
   "outputs": [],
   "metadata": {}
  },
  {
   "cell_type": "code",
   "execution_count": 6,
   "source": [
    "'''\n",
    "0 1 2\n",
    "\n",
    "a b c\n",
    "d e f\n",
    "\n",
    "Assumption: len(str1) = len(str2)\n",
    "\n",
    "adbecf\n",
    "\n",
    "'''\n",
    "\n",
    "def combine(str1, str2):\n",
    "    combined_str = \"\"\n",
    "    index = 0\n",
    "    while index < len(str1):\n",
    "        combined_str += str1[index] + str2[index]\n",
    "        index += 1\n",
    "    return combined_str\n",
    "\n",
    "combine(\"abc\", \"def\")"
   ],
   "outputs": [
    {
     "output_type": "execute_result",
     "data": {
      "text/plain": [
       "'adbecf'"
      ]
     },
     "metadata": {},
     "execution_count": 6
    }
   ],
   "metadata": {}
  },
  {
   "cell_type": "code",
   "execution_count": null,
   "source": [
    "def some_func():\n",
    "    coin = -1\n",
    "    count = 0\n",
    "    while coin != 1:\n",
    "        coin = random.randint(0,1)\n",
    "        count = count + 1\n",
    "        return count\n",
    "count = some_func()\n",
    "print(count)"
   ],
   "outputs": [],
   "metadata": {}
  }
 ],
 "metadata": {
  "kernelspec": {
   "name": "python3",
   "display_name": "Python 3.7.4 64-bit ('base': conda)"
  },
  "language_info": {
   "codemirror_mode": {
    "name": "ipython",
    "version": 3
   },
   "file_extension": ".py",
   "mimetype": "text/x-python",
   "name": "python",
   "nbconvert_exporter": "python",
   "pygments_lexer": "ipython3",
   "version": "3.7.4"
  },
  "interpreter": {
   "hash": "1afaabec1bfdb0bcc5ca0b8984696fcd1e0b46b9d55b5fadfb51c829a0a3ad93"
  }
 },
 "nbformat": 4,
 "nbformat_minor": 5
}