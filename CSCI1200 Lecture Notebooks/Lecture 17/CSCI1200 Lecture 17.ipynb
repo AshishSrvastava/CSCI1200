{
 "cells": [
  {
   "cell_type": "markdown",
   "metadata": {},
   "source": [
    "# 2021-Oct-25 – Lecture 17\n",
    "***\n",
    "## Announcements\n",
    "- HW6 due Oct 31 at midnight (Canvas was updated)\n",
    "- Midterm 2 review and practice will be done in lab\n",
    "- Practice test will be uploaded tonight\n",
    "- No Quizzes this week\n",
    "\n",
    "## Recall: Running Python Programs\n",
    "(See lecture slides for images)"
   ]
  },
  {
   "cell_type": "markdown",
   "metadata": {},
   "source": [
    "## Writing your own modules\n",
    "- Modules are implemented as ```.py``` files (python scripts)\n",
    "- We can write a python script and access the functions in a separate program\n",
    "- Save file as my_module.py"
   ]
  },
  {
   "cell_type": "code",
   "execution_count": 3,
   "metadata": {},
   "outputs": [
    {
     "name": "stdout",
     "output_type": "stream",
     "text": [
      "30\n"
     ]
    }
   ],
   "source": [
    "# importing the module\n",
    "import arithmetic \n",
    "\n",
    "print(arithmetic.add(10,20))"
   ]
  },
  {
   "cell_type": "markdown",
   "metadata": {},
   "source": [
    "## Ways to run a ```.py``` file\n",
    "- import the file then access the functions\n",
    "- Run the file from the command line\n",
    "  - use the command ```python3 filename.py```\n"
   ]
  },
  {
   "cell_type": "markdown",
   "metadata": {},
   "source": [
    "## ```if __name__ == \"main\"```"
   ]
  },
  {
   "cell_type": "markdown",
   "metadata": {},
   "source": [
    "## Practice Question - Functions"
   ]
  },
  {
   "cell_type": "code",
   "execution_count": 11,
   "metadata": {},
   "outputs": [
    {
     "name": "stdout",
     "output_type": "stream",
     "text": [
      "s\n",
      "t\n",
      "r\n",
      "i\n",
      "n\n",
      "g\n"
     ]
    }
   ],
   "source": [
    "# 1. What data type is param1?\n",
    "# 2. What is a better name for this function?\n",
    "def mystery(param1):\n",
    "    v1 = 0\n",
    "    while v1 < len(param1):\n",
    "        v2 = 0\n",
    "        while v2 < len(param1[v1]):\n",
    "            print(param1[v1][v2])\n",
    "            v2 += 1 \n",
    "        v1 += 1\n",
    "\n",
    "mystery([\"st\",\"ri\",\"ng\"])\n"
   ]
  },
  {
   "cell_type": "markdown",
   "metadata": {},
   "source": [
    "## Nested lists + loops\n",
    "- Nested lists and nested loops often go hand in hand\n",
    "- We will also often combine the accumulator pattern with nested loops/lists\n",
    "- Ex: Write psuedocode for a function that counts all the multiples of a given number in a nested list and prints the value for each sublist\n",
    "\n",
    "``` \n",
    "given number = 2\n",
    "given list of lists = [[1,2,3], [3,6,8]]\n",
    "return \n",
    "```\n"
   ]
  },
  {
   "cell_type": "markdown",
   "metadata": {},
   "source": []
  }
 ],
 "metadata": {
  "interpreter": {
   "hash": "e5cf0aa9e021047b28ce7b8c7ad9895a77de681bac15ab4be37744a25d3b0287"
  },
  "kernelspec": {
   "display_name": "Python 3.7.4 64-bit ('base': conda)",
   "name": "python3"
  },
  "language_info": {
   "codemirror_mode": {
    "name": "ipython",
    "version": 3
   },
   "file_extension": ".py",
   "mimetype": "text/x-python",
   "name": "python",
   "nbconvert_exporter": "python",
   "pygments_lexer": "ipython3",
   "version": "3.7.4"
  },
  "orig_nbformat": 4
 },
 "nbformat": 4,
 "nbformat_minor": 2
}
