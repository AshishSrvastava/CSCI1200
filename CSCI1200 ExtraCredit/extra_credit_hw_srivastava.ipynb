{
 "cells": [
  {
   "cell_type": "code",
   "execution_count": 1,
   "id": "6a14beae-dcce-4d58-92d9-01c3f1b0963d",
   "metadata": {},
   "outputs": [],
   "source": [
    "# Name: Ashish Srivastava\n",
    "# Section : 001\n",
    "# HW: Extra Credit HW\n",
    "# Description: An extra credit assignment further demonstrating our handle over loops, conditional statements, iterating through nested lists\n",
    "#              typecasting, and using the NumPy library to perform statistical analysis"
   ]
  },
  {
   "cell_type": "markdown",
   "id": "957ef135-6578-4ef6-bb84-0406947f8c1c",
   "metadata": {},
   "source": [
    "Part 1: Processing the data\n",
    "--------"
   ]
  },
  {
   "cell_type": "markdown",
   "id": "28533494-7e3a-476f-8350-f694b30dd9e0",
   "metadata": {},
   "source": [
    "1. First, create a class named H that maps the header column names to corresponding integers."
   ]
  },
  {
   "cell_type": "code",
   "execution_count": 2,
   "id": "c50064cf-e6bf-467e-9f28-00812c4b020f",
   "metadata": {},
   "outputs": [],
   "source": [
    "# Define any modules you'll be using\n",
    "import numpy as np\n",
    "\n",
    "# Define the Headers class here\n",
    "class H:\n",
    "    views = 0\n",
    "    likes = 1\n",
    "    dislikes = 2\n",
    "    comment_count = 3\n"
   ]
  },
  {
   "cell_type": "markdown",
   "id": "ca4a5d68-bbe0-49b9-a0c4-7f6c876aa382",
   "metadata": {},
   "source": [
    "2. Read the data from the \"youtube_us_stats.csv\" file and save it into a nested list."
   ]
  },
  {
   "cell_type": "code",
   "execution_count": 3,
   "id": "3f18004e-7ac7-4643-98b6-7f3ba41cce6a",
   "metadata": {},
   "outputs": [],
   "source": [
    "# define function to read in the data\n",
    "def read_data(file_name):\n",
    "    \"\"\"reads in data file (csv) and returns it as a list of rows, with all data\n",
    "    types converted appropriately\n",
    "\n",
    "    Args:\n",
    "        file_name (string): fipele path to csv being read in\n",
    "\n",
    "    Returns:\n",
    "        rows: list of rows (converted csv)\n",
    "    \"\"\"\n",
    "    f = open(file_name, \"r\")\n",
    "    # grab the first line with the headers\n",
    "    headers = f.readline().strip().split(\",\")\n",
    "    # iterate through rows of data and add to accumulator variable \"data\"\n",
    "    data = []\n",
    "    # i = 0\n",
    "    line = f.readline()\n",
    "    while line:\n",
    "        # what does the following line of code do?\n",
    "        data.append(line.strip().split(\",\"))\n",
    "        line = f.readline()\n",
    "    f.close()\n",
    "\n",
    "    # typecast all string numbers to int without using list comprehension (iterate through items)\n",
    "    # row = 0\n",
    "    # while row < len(data):\n",
    "    #     col = 0\n",
    "    #     while col < len(data[row]):\n",
    "    #         if data[row][col].isdecimal():\n",
    "    #             data[row][col] = int(data[row][col])\n",
    "    #         elif data[row][col] == \"\":\n",
    "    #             data[row][col] = 0\n",
    "    #         col += 1\n",
    "    #     row += 1\n",
    "\n",
    "    # typecast all string numbers to int using list comprehension\n",
    "    data = [[int(item) for item in row if item.isdigit()] for row in data]\n",
    "\n",
    "    return data"
   ]
  },
  {
   "cell_type": "markdown",
   "id": "2ef33cd0-6761-49d3-96c5-f64e4f0781e8",
   "metadata": {},
   "source": [
    "## Part 2:  Writing the Supporting Functions\n",
    "--------"
   ]
  },
  {
   "cell_type": "markdown",
   "id": "dde83ec8-4600-4d14-8b4c-2117ec1ac39d",
   "metadata": {},
   "source": [
    "1. Complete get column_values to extract an entire column of values from the data and return it as a list."
   ]
  },
  {
   "cell_type": "code",
   "execution_count": 4,
   "id": "87cb123a-44ab-4424-9345-a7034142fbc8",
   "metadata": {},
   "outputs": [],
   "source": [
    "\n",
    "def get_column_values(data, column):\n",
    "    \"\"\"Returns a list that has the values of the target column from all\n",
    "    of the rows\n",
    "\n",
    "    Args:\n",
    "        data (list): list of lists (.csv data parsed in as list)\n",
    "        column (int): index of column (given from the data class)\n",
    "    \"\"\"\n",
    "    # initialize accumulator variable\n",
    "    column_data = []\n",
    "\n",
    "    # start at row 0\n",
    "    row = 0\n",
    "    # iterate through all rows, append the column values to the accumulator variable,\n",
    "    # then increment the iterator\n",
    "    while row < len(data):\n",
    "        column_data.append(data[row][column])\n",
    "        row += 1\n",
    "\n",
    "    return(column_data)\n"
   ]
  },
  {
   "cell_type": "markdown",
   "id": "bdccda51-cd69-4485-a61d-0a99965ba383",
   "metadata": {},
   "source": [
    "2. Complete get_matching_rows which returns a new list containing all rows from your data where the column value matches the target value."
   ]
  },
  {
   "cell_type": "code",
   "execution_count": 5,
   "id": "2531c7bb-6e67-4cb5-adbf-c87cc915d534",
   "metadata": {},
   "outputs": [],
   "source": [
    "def get_matching_rows(data, column, target):\n",
    "    \"\"\"Takes in the data list, a column index, and a value and returns a new list\n",
    "\n",
    "    Args:\n",
    "        data (list): list of lists (.csv data parsed in as list)\n",
    "        column (int): index of the column (given from the data class)\n",
    "        target (int/string): the value that needs to be matched\n",
    "\n",
    "    Returns:\n",
    "        list: matching_rows_list is the collection of all of the rows of the data that match the criteria\n",
    "    \"\"\"\n",
    "    # initialize empty accumulator list\n",
    "    matching_rows_list = []\n",
    "\n",
    "    # start at first row\n",
    "    row = 0\n",
    "    # iterate over each sublist in the list of lists\n",
    "    while row < len(data):\n",
    "        # If the matching criteria is fulfilled, append to the accumulator list\n",
    "        if data[row][column] == target:\n",
    "            matching_rows_list.append(data[row])\n",
    "        # increase iterator\n",
    "        row += 1\n",
    "    return matching_rows_list"
   ]
  },
  {
   "cell_type": "markdown",
   "id": "546efbc7-2fad-4a6c-88ec-30f045391bef",
   "metadata": {},
   "source": [
    "3. Complete get_unique_values function to extract the unique values from a list. "
   ]
  },
  {
   "cell_type": "code",
   "execution_count": 6,
   "id": "2d5b8971-e9c7-4edf-9760-6c017121c5c0",
   "metadata": {},
   "outputs": [],
   "source": [
    "def get_unique_values(column):\n",
    "    \"\"\"takes a list and returns a new list with all of the unique values in\n",
    "    the original list\n",
    "\n",
    "    Args:\n",
    "        column (list): list of lists (.csv column parsed in as list)\n",
    "\n",
    "    Returns:\n",
    "        list: unique_values_list is a list of all of the unique values\n",
    "    \"\"\"\n",
    "    # initialize accumulator variable\n",
    "    unique_values_list = []\n",
    "    # iterate through each item in the column list, and append to the accumulator\n",
    "    # if not already present in the accumulator list\n",
    "    for item in column:\n",
    "        if item not in unique_values_list:\n",
    "            unique_values_list.append(item)\n",
    "    return unique_values_list"
   ]
  },
  {
   "cell_type": "markdown",
   "id": "9c69c244-6fff-4ad0-aaec-c4b74c3a35cb",
   "metadata": {},
   "source": [
    "4. Complete get_n_largest_values to find the n number of largest values for a column and return them in a list."
   ]
  },
  {
   "cell_type": "code",
   "execution_count": 7,
   "id": "1810786b-719a-4f51-9930-7ab408c1fe2f",
   "metadata": {},
   "outputs": [],
   "source": [
    "def get_n_largest_values(data, column, n):\n",
    "    \"\"\"Returns the n largest values of a given column in a dataset (list of lists)\n",
    "\n",
    "    Args:\n",
    "        data (list): list of lists of data\n",
    "        column (int): index of column in dataset\n",
    "        n (int): the number of top values to return\n",
    "\n",
    "    Returns:\n",
    "        (list): list of top n numbers for a column\n",
    "    \"\"\"\n",
    "    column_data = get_column_values(data, column)\n",
    "    sorted_data = sorted(column_data, reverse = True)\n",
    "    return sorted_data[:n]"
   ]
  },
  {
   "cell_type": "markdown",
   "id": "c309d201-22a1-412b-8aa1-c2563858c442",
   "metadata": {},
   "source": [
    "## Part 3: Video Statistics\n",
    "--------"
   ]
  },
  {
   "cell_type": "markdown",
   "id": "46d80688-4db8-43c7-b84f-506b6b945d59",
   "metadata": {},
   "source": [
    "Complete the main function below by replacing the TODO comments with your solution using the functions defined above."
   ]
  },
  {
   "cell_type": "code",
   "execution_count": 8,
   "id": "5e7c4055-b2f1-41bb-b8b1-ce83ce3c8c4d",
   "metadata": {},
   "outputs": [
    {
     "name": "stdout",
     "output_type": "stream",
     "text": [
      "Average number of views for top 20 most-watched videos:  177953102.1\n",
      "The number of videos with over 100,000 likes is: 6585\n",
      "The median number of views for the top 15 least-watched videos is: 745.0\n"
     ]
    }
   ],
   "source": [
    "def main():\n",
    "    data = read_data('youtube_us_stats.csv')\n",
    "\n",
    "    # TODO: print the average number of views for the top 20 most-watched videos\n",
    "    most_watched_20 = get_n_largest_values(data, H.views, 20)\n",
    "    average_top_20_views = np.average(most_watched_20)\n",
    "    print(\"Average number of views for top 20 most-watched videos: \", average_top_20_views)\n",
    "\n",
    "    # TODO: print the number of videos with over 100,000 likes\n",
    "    videos_likes = get_column_values(data, H.likes)\n",
    "    count_over_1E6 = 0\n",
    "    for like_count in videos_likes:\n",
    "        if like_count > 100000:\n",
    "            count_over_1E6 += 1\n",
    "    print(\"The number of videos with over 100,000 likes is:\", count_over_1E6)\n",
    "\n",
    "    # TODO: what is the median number of views for the top 15 least-watched videos\n",
    "    views_list = get_column_values(data, H.views)\n",
    "    views_list.sort()\n",
    "    least_viewed_15 = views_list[:15]\n",
    "    print(\"The median number of views for the top 15 least-watched videos is:\", np.median(least_viewed_15))\n",
    "\n",
    "main()"
   ]
  },
  {
   "cell_type": "code",
   "execution_count": 20,
   "id": "89886faa",
   "metadata": {},
   "outputs": [
    {
     "name": "stdout",
     "output_type": "stream",
     "text": [
      "28\n",
      "28\n",
      "7\n"
     ]
    }
   ],
   "source": [
    "def some_func(my_list):\n",
    "  idx = 0\n",
    "  some_var = 0\n",
    "  while idx < len(my_list):\n",
    "    some_var += my_list[idx]\n",
    "    idx += 1\n",
    "  return some_var\n",
    "\n",
    "A = [1,2,3,4,5,6,7]\n",
    "unknown = some_func(A)\n",
    "print(unknown)\n",
    "print(sum(A))\n",
    "print(len(A))"
   ]
  },
  {
   "cell_type": "code",
   "execution_count": null,
   "id": "5c1ff3dd",
   "metadata": {},
   "outputs": [],
   "source": []
  }
 ],
 "metadata": {
  "kernelspec": {
   "display_name": "Python 3 (ipykernel)",
   "language": "python",
   "name": "python3"
  },
  "language_info": {
   "codemirror_mode": {
    "name": "ipython",
    "version": 3
   },
   "file_extension": ".py",
   "mimetype": "text/x-python",
   "name": "python",
   "nbconvert_exporter": "python",
   "pygments_lexer": "ipython3",
   "version": "3.7.4"
  }
 },
 "nbformat": 4,
 "nbformat_minor": 5
}
