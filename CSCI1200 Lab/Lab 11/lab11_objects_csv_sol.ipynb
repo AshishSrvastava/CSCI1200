{
 "cells": [
  {
   "cell_type": "markdown",
   "metadata": {
    "id": "Xd4ogbQxuKpR"
   },
   "source": [
    "# Lab 11 - CSCI 1200\n",
    "\n",
    "***\n",
    "Welcome to the lab, today we will be learning about:\n",
    "1. Using objects to store named variables\n",
    "2. Reading csv files as nested lists"
   ]
  },
  {
   "cell_type": "markdown",
   "metadata": {
    "ExecuteTime": {
     "end_time": "2018-08-29T01:05:33.512684Z",
     "start_time": "2018-08-29T01:05:33.504659Z"
    },
    "id": "CHvLEoV6uKpX"
   },
   "source": [
    "# Objects\n",
    "***\n",
    "\n",
    "In this section we will look at a nested list (a list of lists) and use an object to refer to specific columns within that list.\n",
    "\n",
    "Remember: when we have a list of lists, it's useful to think of it as a table of data. Each sublist is one row of data, and within each row there are a certain number of columns.\n",
    "\n",
    "\n",
    "Say we have the following data:\n",
    "\n",
    "\n",
    "id | name | skills\n",
    "---|---|---\n",
    "1 | \"Jon Snow\" | 10\n",
    "2 | \"Jaqen H'ghar\" | 100\n",
    "4 | \"Tyrion Lannister\" | 85\n",
    "6 | \"Arya Stark\" | 45\n"
   ]
  },
  {
   "cell_type": "code",
   "execution_count": 1,
   "metadata": {
    "executionInfo": {
     "elapsed": 226,
     "status": "ok",
     "timestamp": 1635909624860,
     "user": {
      "displayName": "Chinmay Agrawal",
      "photoUrl": "https://lh3.googleusercontent.com/a-/AOh14GguCWRwXEhyLDQr4STMLFYTlzaMGj8ivblbk89_=s64",
      "userId": "08893868986297293808"
     },
     "user_tz": 360
    },
    "id": "rVbsqE2AuKpY"
   },
   "outputs": [],
   "source": [
    "# let's take a look at using one of these objects\n",
    "# to index into a list of lists.\n",
    "# We've gone ahead and put the above data into a list of lists here\n",
    "data = [[1, \"Jon Snow\", 10], [2, \"Jaqen H'ghar\", 100], [4, \"Tyrion Lannister\", 85], [6, \"Arya Stark\", 45]]"
   ]
  },
  {
   "cell_type": "code",
   "execution_count": 2,
   "metadata": {
    "id": "9H2JnA-xuKpZ"
   },
   "outputs": [],
   "source": [
    "# First, how many rows does the variable data contain?"
   ]
  },
  {
   "cell_type": "code",
   "execution_count": 3,
   "metadata": {
    "id": "1J1YcfBIuKpa"
   },
   "outputs": [],
   "source": [
    "# Second, how many columns are in the first row of this data?"
   ]
  },
  {
   "cell_type": "code",
   "execution_count": 4,
   "metadata": {
    "executionInfo": {
     "elapsed": 248,
     "status": "ok",
     "timestamp": 1635909617599,
     "user": {
      "displayName": "Chinmay Agrawal",
      "photoUrl": "https://lh3.googleusercontent.com/a-/AOh14GguCWRwXEhyLDQr4STMLFYTlzaMGj8ivblbk89_=s64",
      "userId": "08893868986297293808"
     },
     "user_tz": 360
    },
    "id": "I8zOq7ICuKpa"
   },
   "outputs": [],
   "source": [
    "\n",
    "# This is a definition of an object. It's job for us will be\n",
    "# to give readable names to each one of our columns.\n",
    "class GoTData:\n",
    "    id = 0\n",
    "    name = 1\n",
    "    skills = 2"
   ]
  },
  {
   "cell_type": "code",
   "execution_count": 5,
   "metadata": {
    "colab": {
     "base_uri": "https://localhost:8080/"
    },
    "executionInfo": {
     "elapsed": 240,
     "status": "ok",
     "timestamp": 1635909626806,
     "user": {
      "displayName": "Chinmay Agrawal",
      "photoUrl": "https://lh3.googleusercontent.com/a-/AOh14GguCWRwXEhyLDQr4STMLFYTlzaMGj8ivblbk89_=s64",
      "userId": "08893868986297293808"
     },
     "user_tz": 360
    },
    "id": "T7VGWr-wuKpb",
    "outputId": "b233178d-ace5-4164-a5a5-26ad103167ab"
   },
   "outputs": [
    {
     "data": {
      "text/plain": [
       "10"
      ]
     },
     "execution_count": 5,
     "metadata": {},
     "output_type": "execute_result"
    }
   ],
   "source": [
    "# when we use this GoTData object, we write GoTData.name_of_column\n",
    "# \n",
    "# For example:\n",
    "# GoTData.id\n",
    "# GoTData.name\n",
    "data[0][GoTData.skills]\n",
    "\n",
    "# this is so that we don't have random numbers floating around in our \n",
    "# code so that we can understand what column we're talking about!"
   ]
  },
  {
   "cell_type": "code",
   "execution_count": 6,
   "metadata": {
    "colab": {
     "base_uri": "https://localhost:8080/"
    },
    "executionInfo": {
     "elapsed": 5,
     "status": "ok",
     "timestamp": 1635909628918,
     "user": {
      "displayName": "Chinmay Agrawal",
      "photoUrl": "https://lh3.googleusercontent.com/a-/AOh14GguCWRwXEhyLDQr4STMLFYTlzaMGj8ivblbk89_=s64",
      "userId": "08893868986297293808"
     },
     "user_tz": 360
    },
    "id": "-OHXyP5-uKpc",
    "outputId": "f2746414-4280-460b-bad3-4d1a4c9cef7c"
   },
   "outputs": [
    {
     "name": "stdout",
     "output_type": "stream",
     "text": [
      "2\n"
     ]
    }
   ],
   "source": [
    "# notice that if we just print out the value, we can\n",
    "# see that when this code runs, GoTData.skills is evaluated to\n",
    "# the value associated with it in the GoTData object\n",
    "print(GoTData.skills) "
   ]
  },
  {
   "cell_type": "code",
   "execution_count": 7,
   "metadata": {
    "id": "DUtMQk92uKpc"
   },
   "outputs": [],
   "source": [
    "# Write a function to find the maximum value in the \"skills\" column \n",
    "# -- we'll do this together after you work on it"
   ]
  },
  {
   "cell_type": "code",
   "execution_count": 8,
   "metadata": {
    "id": "xwT4FzaBuKpc"
   },
   "outputs": [],
   "source": [
    "# Write a function that returns the list of ids that correspond to rows \n",
    "# that have a last name that starts with ‘S’. \n",
    "# Start by just printing out the rows that have names with a \n",
    "# last name that starts with \"S\"\n",
    "# -- we'll do this together after you work on it"
   ]
  },
  {
   "cell_type": "markdown",
   "metadata": {
    "id": "i00QtbcBuKpd"
   },
   "source": [
    "# Reading csv files as nested lists\n",
    "***\n",
    "\n",
    "We will generalize the functions in previous section to use over large files."
   ]
  },
  {
   "cell_type": "code",
   "execution_count": 9,
   "metadata": {
    "ExecuteTime": {
     "end_time": "2018-10-28T22:36:08.332289Z",
     "start_time": "2018-10-28T22:36:08.251795Z"
    },
    "id": "nzvmUYsduKpd"
   },
   "outputs": [
    {
     "name": "stdout",
     "output_type": "stream",
     "text": [
      "id,name,skills\n",
      "\n",
      "1,Jon Snow,10\n",
      "\n",
      "2,Jaqen H'ghar,100\n",
      "\n",
      "4,Tyrion Lannister,85\n",
      "\n",
      "6,Arya Stark,45\n",
      "\n",
      "7,Daenerys Targaryen,1000\n",
      "\n",
      "8,Jorah Mormont,67\n",
      "\n",
      "9,Grey Worm,46\n",
      "\n",
      "10,Gilly,97\n"
     ]
    }
   ],
   "source": [
    "# let's start by taking a look at the file\n",
    "# make sure that this file is already saved in the \n",
    "# same directory as this notebook!\n",
    "\n",
    "f = open(\"GoT.csv\", \"r\")\n",
    "line = f.readline()\n",
    "while line:\n",
    "    print(line)\n",
    "    line = f.readline()\n",
    "f.close()"
   ]
  },
  {
   "cell_type": "code",
   "execution_count": 10,
   "metadata": {
    "ExecuteTime": {
     "end_time": "2018-10-28T22:46:11.892842Z",
     "start_time": "2018-10-28T22:46:11.885055Z"
    },
    "colab": {
     "base_uri": "https://localhost:8080/"
    },
    "executionInfo": {
     "elapsed": 251,
     "status": "ok",
     "timestamp": 1635909376536,
     "user": {
      "displayName": "Chinmay Agrawal",
      "photoUrl": "https://lh3.googleusercontent.com/a-/AOh14GguCWRwXEhyLDQr4STMLFYTlzaMGj8ivblbk89_=s64",
      "userId": "08893868986297293808"
     },
     "user_tz": 360
    },
    "id": "fDWpmTaTuKpe",
    "outputId": "ed41784c-e48f-410b-9b13-f10ac3c8316d",
    "scrolled": true
   },
   "outputs": [
    {
     "name": "stdout",
     "output_type": "stream",
     "text": [
      "[['1', 'Jon Snow', '10'], ['2', \"Jaqen H'ghar\", '100'], ['4', 'Tyrion Lannister', '85'], ['6', 'Arya Stark', '45'], ['7', 'Daenerys Targaryen', '1000'], ['8', 'Jorah Mormont', '67'], ['9', 'Grey Worm', '46'], ['10', 'Gilly', '97']]\n"
     ]
    }
   ],
   "source": [
    "# task: write a read_data function that makes a \n",
    "# list of lists from the input file and \n",
    "# that ignores the header (first row) in the\n",
    "# data file\n",
    "\n",
    "def read_data(file_name):\n",
    "    f = open(file_name, \"r\")\n",
    "    # read in the first line\n",
    "    headers = f.readline().strip().split(\",\")\n",
    "    # now look at all of the rows\n",
    "    rows = []\n",
    "    i = 0\n",
    "    line = f.readline()\n",
    "    while line:\n",
    "        # what does the following line of code do?\n",
    "        rows.append(line.strip().split(\",\"))\n",
    "        line = f.readline()\n",
    "    f.close()\n",
    "    return rows\n",
    "\n",
    "# testing this function\n",
    "lst = read_data(\"GoT.csv\")\n",
    "print(lst)"
   ]
  },
  {
   "cell_type": "markdown",
   "metadata": {
    "id": "Xi-z9FvSuKpe"
   },
   "source": [
    "# COMPUTER TIME!\n",
    "***\n",
    "Go ahead and solve the following exercises.\n",
    "And also, please look at the course notes for this week and the last week. Please let us know if you have any questions towards this concept.\n",
    "\n",
    "Use the `GoTData` object to access columns.\n",
    "\n"
   ]
  },
  {
   "cell_type": "code",
   "execution_count": 11,
   "metadata": {
    "id": "QgophM0X8sDs"
   },
   "outputs": [],
   "source": [
    "#Execute this cell to read GoT.csv into the variable data\n",
    "\n",
    "data = read_data(\"GoT.csv\")"
   ]
  },
  {
   "cell_type": "code",
   "execution_count": 12,
   "metadata": {
    "id": "j_t6lFDxwNve"
   },
   "outputs": [],
   "source": [
    "# Be sure that you've run the cell defining the GoTData object earlier in this notebook!"
   ]
  },
  {
   "cell_type": "markdown",
   "metadata": {
    "id": "ZrGbNivkwOG-"
   },
   "source": [
    "1. Write the line of code that accesses the name column of the 3rd row of the data set when it is in the following format:"
   ]
  },
  {
   "cell_type": "code",
   "execution_count": 13,
   "metadata": {
    "colab": {
     "base_uri": "https://localhost:8080/"
    },
    "executionInfo": {
     "elapsed": 269,
     "status": "ok",
     "timestamp": 1635909836751,
     "user": {
      "displayName": "Chinmay Agrawal",
      "photoUrl": "https://lh3.googleusercontent.com/a-/AOh14GguCWRwXEhyLDQr4STMLFYTlzaMGj8ivblbk89_=s64",
      "userId": "08893868986297293808"
     },
     "user_tz": 360
    },
    "id": "d1pAW_XA0ZeA",
    "outputId": "ec8018ab-a313-4fb1-e2e6-f29a33c18869"
   },
   "outputs": [
    {
     "name": "stdout",
     "output_type": "stream",
     "text": [
      "Tyrion Lannister\n"
     ]
    }
   ],
   "source": [
    "print(data[2][GoTData.name])"
   ]
  },
  {
   "cell_type": "markdown",
   "metadata": {
    "id": "4PZsO0B5uKpf"
   },
   "source": [
    "2. Using the above `GoTData` object, print the `name` column of the data for the first 7 rows. (use a while loop)"
   ]
  },
  {
   "cell_type": "code",
   "execution_count": 14,
   "metadata": {
    "colab": {
     "base_uri": "https://localhost:8080/"
    },
    "executionInfo": {
     "elapsed": 234,
     "status": "ok",
     "timestamp": 1635912091017,
     "user": {
      "displayName": "Chinmay Agrawal",
      "photoUrl": "https://lh3.googleusercontent.com/a-/AOh14GguCWRwXEhyLDQr4STMLFYTlzaMGj8ivblbk89_=s64",
      "userId": "08893868986297293808"
     },
     "user_tz": 360
    },
    "id": "PiLMSRWkuKpf",
    "outputId": "0b6e9f69-6ea7-4f59-c1ca-176e6e20c26a"
   },
   "outputs": [
    {
     "name": "stdout",
     "output_type": "stream",
     "text": [
      "Jon Snow\n",
      "Jaqen H'ghar\n",
      "Tyrion Lannister\n",
      "Arya Stark\n",
      "Daenerys Targaryen\n",
      "Jorah Mormont\n",
      "Grey Worm\n"
     ]
    }
   ],
   "source": [
    "def show_names(data):\n",
    "  row = 0\n",
    "  while row < 7:\n",
    "    print(data[row][GoTData.name])\n",
    "    row += 1\n",
    "\n",
    "show_names(data)"
   ]
  },
  {
   "cell_type": "markdown",
   "metadata": {
    "id": "3-wE07Fn22qB"
   },
   "source": [
    "3. Function that isolates a single column in a given list of lists and returns a new list containing only values from that column. You may assume that all sub-lists have the same length.\n"
   ]
  },
  {
   "cell_type": "code",
   "execution_count": 15,
   "metadata": {
    "executionInfo": {
     "elapsed": 226,
     "status": "ok",
     "timestamp": 1635910749328,
     "user": {
      "displayName": "Chinmay Agrawal",
      "photoUrl": "https://lh3.googleusercontent.com/a-/AOh14GguCWRwXEhyLDQr4STMLFYTlzaMGj8ivblbk89_=s64",
      "userId": "08893868986297293808"
     },
     "user_tz": 360
    },
    "id": "p8ae1G5duKpg"
   },
   "outputs": [],
   "source": [
    "def iso_col(data, col_name):\n",
    "  i = 0\n",
    "  col_lst = []\n",
    "  while i < len(data):\n",
    "    col_lst.append(data[i][col_name])\n",
    "    i += 1\n",
    "  \n",
    "  return col_lst\n",
    "\n",
    "lst = iso_col(data, GoTData.name)"
   ]
  },
  {
   "cell_type": "code",
   "execution_count": 16,
   "metadata": {
    "id": "5l2WcJ8auKph"
   },
   "outputs": [
    {
     "data": {
      "text/plain": [
       "['Jon Snow',\n",
       " \"Jaqen H'ghar\",\n",
       " 'Tyrion Lannister',\n",
       " 'Arya Stark',\n",
       " 'Daenerys Targaryen',\n",
       " 'Jorah Mormont',\n",
       " 'Grey Worm',\n",
       " 'Gilly']"
      ]
     },
     "execution_count": 16,
     "metadata": {},
     "output_type": "execute_result"
    }
   ],
   "source": [
    "lst"
   ]
  },
  {
   "cell_type": "code",
   "execution_count": 17,
   "metadata": {
    "colab": {
     "base_uri": "https://localhost:8080/",
     "height": 37
    },
    "executionInfo": {
     "elapsed": 485,
     "status": "ok",
     "timestamp": 1635912145955,
     "user": {
      "displayName": "Chinmay Agrawal",
      "photoUrl": "https://lh3.googleusercontent.com/a-/AOh14GguCWRwXEhyLDQr4STMLFYTlzaMGj8ivblbk89_=s64",
      "userId": "08893868986297293808"
     },
     "user_tz": 360
    },
    "id": "v5U7FL6A9iEv",
    "outputId": "10da83b4-a2fb-4c1f-a876-3c0f4338f449"
   },
   "outputs": [
    {
     "data": {
      "text/plain": [
       "'56'"
      ]
     },
     "execution_count": 17,
     "metadata": {},
     "output_type": "execute_result"
    }
   ],
   "source": [
    "max([\"4\", \"56\", \"34\"])"
   ]
  },
  {
   "cell_type": "markdown",
   "metadata": {
    "id": "sjWFV19y4VM5"
   },
   "source": [
    "4. Write a function to find the name of the person with maximum value in the \"skills\" column. Use your function from the previous problem to get skills list."
   ]
  },
  {
   "cell_type": "code",
   "execution_count": 18,
   "metadata": {
    "colab": {
     "base_uri": "https://localhost:8080/"
    },
    "executionInfo": {
     "elapsed": 259,
     "status": "ok",
     "timestamp": 1635911251669,
     "user": {
      "displayName": "Chinmay Agrawal",
      "photoUrl": "https://lh3.googleusercontent.com/a-/AOh14GguCWRwXEhyLDQr4STMLFYTlzaMGj8ivblbk89_=s64",
      "userId": "08893868986297293808"
     },
     "user_tz": 360
    },
    "id": "i8ZjjFsr4bxi",
    "outputId": "f913c6cf-b1be-4806-c4fe-e564cec2517c"
   },
   "outputs": [
    {
     "name": "stdout",
     "output_type": "stream",
     "text": [
      "Gilly\n"
     ]
    }
   ],
   "source": [
    "def find_max_skill(data, skills):\n",
    "  row = skills.index(max(skills))\n",
    "  print(data[row][GoTData.name])\n",
    "\n",
    "skills_lst = iso_col(data, GoTData.skills)\n",
    "find_max_skill(data, skills_lst)"
   ]
  },
  {
   "cell_type": "markdown",
   "metadata": {
    "id": "1VU7ATns6O_f"
   },
   "source": [
    "5. Write a function that returns the list of ids that correspond to rows that have a last name that starts with ‘S’. "
   ]
  },
  {
   "cell_type": "code",
   "execution_count": 19,
   "metadata": {
    "id": "nmUkh6ml6OpB"
   },
   "outputs": [
    {
     "name": "stdout",
     "output_type": "stream",
     "text": [
      "['1', '6']\n"
     ]
    }
   ],
   "source": [
    "def s_name_ids(data):\n",
    "  row = 0\n",
    "  ids_lst = []\n",
    "  while row < len(data):\n",
    "    if data[row][GoTData.name].split(\" \")[-1][0] == \"S\":\n",
    "      ids_lst.append(data[row][GoTData.id])\n",
    "    row += 1\n",
    "  return ids_lst\n",
    "\n",
    "ids = s_name_ids(data)\n",
    "print(ids)"
   ]
  },
  {
   "cell_type": "markdown",
   "metadata": {
    "id": "IXaptOipuKpi"
   },
   "source": [
    "## Challenge problems\n",
    "-------\n",
    "If you've gotten a good start on your data viz project, take a crack at these!\n",
    "\n",
    "1. Call the `read_data` function on the file `GoT.csv`. What type are the elements in the sub-lists?\n",
    "\n",
    "Write a function `convert_types` that takes a list of lists (data) as a parameter and converts all strings that are numbers (use the `string.isdecimal()` function or `string.isnumeric()` function (they are basically the same)) to integers. This function should mutate your original list!\n",
    "\n",
    "2. Make a function, `count_name_letter`, that takes two parameters: a list of lists as generated from the `read_data` function on the file `GoT.csv`, and a string letter. This function should print the number of people whose first name begins with the given letter (case-insensitive). "
   ]
  },
  {
   "cell_type": "code",
   "execution_count": 20,
   "metadata": {
    "executionInfo": {
     "elapsed": 366,
     "status": "ok",
     "timestamp": 1635912654064,
     "user": {
      "displayName": "Chinmay Agrawal",
      "photoUrl": "https://lh3.googleusercontent.com/a-/AOh14GguCWRwXEhyLDQr4STMLFYTlzaMGj8ivblbk89_=s64",
      "userId": "08893868986297293808"
     },
     "user_tz": 360
    },
    "id": "DZUHeRoVuKpj"
   },
   "outputs": [],
   "source": [
    "def convert_types(data):\n",
    "  row = 0\n",
    "  while row < len(data):\n",
    "    col = 0\n",
    "    while col < len(data[row]):\n",
    "      if data[row][col].isnumeric():\n",
    "        data[row][col] = int(data[row][col])\n",
    "      col += 1\n",
    "    row += 1\n"
   ]
  },
  {
   "cell_type": "code",
   "execution_count": 21,
   "metadata": {
    "executionInfo": {
     "elapsed": 230,
     "status": "ok",
     "timestamp": 1635912662788,
     "user": {
      "displayName": "Chinmay Agrawal",
      "photoUrl": "https://lh3.googleusercontent.com/a-/AOh14GguCWRwXEhyLDQr4STMLFYTlzaMGj8ivblbk89_=s64",
      "userId": "08893868986297293808"
     },
     "user_tz": 360
    },
    "id": "zrKykVEAuKpj"
   },
   "outputs": [],
   "source": [
    "convert_types(data)"
   ]
  },
  {
   "cell_type": "code",
   "execution_count": 22,
   "metadata": {
    "executionInfo": {
     "elapsed": 238,
     "status": "ok",
     "timestamp": 1635912957737,
     "user": {
      "displayName": "Chinmay Agrawal",
      "photoUrl": "https://lh3.googleusercontent.com/a-/AOh14GguCWRwXEhyLDQr4STMLFYTlzaMGj8ivblbk89_=s64",
      "userId": "08893868986297293808"
     },
     "user_tz": 360
    },
    "id": "HR0z2-Y5uKpj"
   },
   "outputs": [],
   "source": [
    "def count_name_letter(data, letter):\n",
    "  row = 0\n",
    "  count = 0\n",
    "  while row < len(data):\n",
    "    if data[row][GoTData.name][0] == letter:\n",
    "      count += 1\n",
    "    row += 1\n",
    "  print(count)"
   ]
  },
  {
   "cell_type": "code",
   "execution_count": 23,
   "metadata": {
    "colab": {
     "base_uri": "https://localhost:8080/"
    },
    "executionInfo": {
     "elapsed": 261,
     "status": "ok",
     "timestamp": 1635912982186,
     "user": {
      "displayName": "Chinmay Agrawal",
      "photoUrl": "https://lh3.googleusercontent.com/a-/AOh14GguCWRwXEhyLDQr4STMLFYTlzaMGj8ivblbk89_=s64",
      "userId": "08893868986297293808"
     },
     "user_tz": 360
    },
    "id": "M4Or2XsP_kU5",
    "outputId": "1fb9b908-314f-42f7-fa80-621059e27015"
   },
   "outputs": [
    {
     "name": "stdout",
     "output_type": "stream",
     "text": [
      "3\n"
     ]
    }
   ],
   "source": [
    "count_name_letter(data, \"J\")"
   ]
  },
  {
   "cell_type": "code",
   "execution_count": null,
   "metadata": {
    "id": "ON6d5udwAxpB"
   },
   "outputs": [],
   "source": []
  }
 ],
 "metadata": {
  "colab": {
   "name": "Solutions of lab11_objects_csv.ipynb",
   "provenance": []
  },
  "kernelspec": {
   "display_name": "Python 3 (ipykernel)",
   "language": "python",
   "name": "python3"
  },
  "language_info": {
   "codemirror_mode": {
    "name": "ipython",
    "version": 3
   },
   "file_extension": ".py",
   "mimetype": "text/x-python",
   "name": "python",
   "nbconvert_exporter": "python",
   "pygments_lexer": "ipython3",
   "version": "3.9.6"
  }
 },
 "nbformat": 4,
 "nbformat_minor": 4
}
