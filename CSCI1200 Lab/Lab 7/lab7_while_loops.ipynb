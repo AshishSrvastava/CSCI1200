{
 "cells": [
  {
   "cell_type": "code",
   "execution_count": null,
   "source": [
    "# You'll fill this part in when it's time to work on computers\n",
    "#\n",
    "# Write your names here: Ashish Srivastava\n",
    "# "
   ],
   "outputs": [],
   "metadata": {
    "ExecuteTime": {
     "end_time": "2018-09-23T22:34:51.046352Z",
     "start_time": "2018-09-23T22:34:51.042663Z"
    },
    "id": "4YQ1wu7mjMdx"
   }
  },
  {
   "cell_type": "markdown",
   "source": [
    "# Lab 7 - CSCI 1200\n",
    "\n",
    "***\n",
    "Welcome to the lab, today we will be practicing more the concepts related to `while` loops. \n",
    "\n",
    "We will walk through half of this notebook at the beginning of the recitation, and the rest you will be doing in Computer Time!"
   ],
   "metadata": {
    "id": "RePHUbaAjMd_"
   }
  },
  {
   "cell_type": "code",
   "execution_count": 7,
   "source": [
    "def odds_until(n):\n",
    "\ti = 1\n",
    "\twhile i <= n:\n",
    "\t\tprint(i)\n",
    "\t\ti += 2\n",
    "\n",
    "odds_until(7)"
   ],
   "outputs": [
    {
     "output_type": "stream",
     "name": "stdout",
     "text": [
      "1\n",
      "3\n",
      "5\n",
      "7\n"
     ]
    }
   ],
   "metadata": {}
  },
  {
   "cell_type": "markdown",
   "source": [
    "# 1. The `while` loops\n",
    "\n",
    "A while loop is a control structure that we use to repeat a block of code either a predetermined number of times or an unknown number of times.\n",
    "The syntax of a while loop is the following\n",
    "\n",
    "```python\n",
    "#initialization        \n",
    "while logical_expression:   \n",
    "    # do something     \n",
    "    # update           \n",
    "```\n",
    "\n",
    "The logical expression is how our program determines whether or not the loop needs to be run again. That is the code will only run if the `logical_expression` is `True` and the code will repeat until `logical_expression` is `False`. Therefore, always initialize the value of the variable you are testing before the while loop and always update the value of that variable somewhere in your loop."
   ],
   "metadata": {
    "id": "PcgA_sfMjMeA"
   }
  },
  {
   "cell_type": "markdown",
   "source": [
    "Write a `while` loop that prints the even numbers from 1 to 10 (inclusive)."
   ],
   "metadata": {
    "id": "rctBRhQsjMeF"
   }
  },
  {
   "cell_type": "code",
   "execution_count": 2,
   "source": [
    "num = 2              #1) initialization\n",
    "while num <= 10:     #2) evaluation of the logical expression\n",
    "    print(num)       # some task - could be before or after your update-order matters!\n",
    "    num = num + 2    #3) update"
   ],
   "outputs": [
    {
     "output_type": "stream",
     "name": "stdout",
     "text": [
      "2\n",
      "4\n",
      "6\n",
      "8\n",
      "10\n"
     ]
    }
   ],
   "metadata": {
    "id": "MK8bAFvDjMeH"
   }
  },
  {
   "cell_type": "markdown",
   "source": [
    "Write a `while` loop that prints a countdown from 5 to zero, but instead of zero it prints \"Boom!\"."
   ],
   "metadata": {
    "id": "c2ZqI4T7jMeP"
   }
  },
  {
   "cell_type": "code",
   "execution_count": 34,
   "source": [
    "num = 5 #1) initialization\n",
    "while num > 0: #2) evaluation of the logical expression\n",
    "    print(num)  # what happens if we put this print after our update?\n",
    "    num = num - 1 #3) update\n",
    "print (\"Boom!\")"
   ],
   "outputs": [
    {
     "output_type": "stream",
     "name": "stdout",
     "text": [
      "5\n",
      "4\n",
      "3\n",
      "2\n",
      "1\n",
      "Boom!\n"
     ]
    }
   ],
   "metadata": {
    "id": "XrIgEEPzjMeQ"
   }
  },
  {
   "cell_type": "markdown",
   "source": [
    "# PAPER TIME\n",
    "***\n",
    "Solve the exercises on paper"
   ],
   "metadata": {
    "id": "0JQ_UZ8ojMeX"
   }
  },
  {
   "cell_type": "markdown",
   "source": [
    "# COMPUTER TIME\n",
    "***\n",
    "Solve the following exercises"
   ],
   "metadata": {
    "id": "G-LXL0a3jMeZ"
   }
  },
  {
   "cell_type": "markdown",
   "source": [
    "1) Write a function ```divides_by``` that takes an integer `n` as a parameter and prints all the numbers from 2 until `n` (inclusive) that `n` is divisible by.   \n",
    "Example: ```divides_by(12)``` should print out ```2 3 4 6 12```   \n",
    "```divides_by(22)``` should print out ```2 11 22```"
   ],
   "metadata": {
    "id": "58Dws483jMea"
   }
  },
  {
   "cell_type": "code",
   "execution_count": 41,
   "source": [
    "# write your function here\n",
    "def divides_by(n):\n",
    "    i = 2\n",
    "    while i <= n:\n",
    "        if n %i  == 0:\n",
    "            print(i)\n",
    "        i += 1\n",
    "\n",
    "def main():\n",
    "    divides_by(22)\n",
    "\n",
    "main()"
   ],
   "outputs": [
    {
     "output_type": "stream",
     "name": "stdout",
     "text": [
      "2\n",
      "11\n",
      "22\n"
     ]
    }
   ],
   "metadata": {
    "id": "I8Km4OSPjMec"
   }
  },
  {
   "cell_type": "markdown",
   "source": [
    "2) Write a function ```remove_letter``` that takes two strings as parameters and removes occurrences of the second string from the first string, then __returns__ the new string. You may assume that the second parameter is always one letter long. Test your function by calling from main() and printing the returned string.\n",
    "\n",
    "Hint: You will need to use a `while` loop, an `if` statement within the `while` loop, and string accumulation (e.g., string_var = string_var+\"x\"). \n",
    "\n",
    "Do not use the `str.replace()` function, even though it could also work for this problem.\n",
    "\n",
    "\n",
    "Example:\n",
    "```remove_letter(\"banana\", \"a\")``` gives ```\"bnn\"```   \n",
    "```remove_letter(\"apple\", \"p\")``` gives ```\"ale\"```   \n",
    "```remove_letter(\"watermelon\", \"q\")``` gives ```\"watermelon\"```  "
   ],
   "metadata": {
    "id": "AoSPf9mVjMei"
   }
  },
  {
   "cell_type": "code",
   "execution_count": 66,
   "source": [
    "# write your function here\n",
    "def removes_letter(word, letter):\n",
    "    i = 0\n",
    "    while i < len(word):\n",
    "        if word[i] == letter:\n",
    "            word = word[:i] + word[i+1:]\n",
    "            i = 0 #reset the index because of index shifting when deleting characters in strings\n",
    "        i += 1\n",
    "    return word\n",
    "\n",
    "def main():\n",
    "    new = removes_letter(\"apple\", \"p\")\n",
    "    print(new)\n",
    "\n",
    "main()"
   ],
   "outputs": [
    {
     "output_type": "stream",
     "name": "stdout",
     "text": [
      "ale\n"
     ]
    }
   ],
   "metadata": {
    "colab": {
     "base_uri": "https://localhost:8080/"
    },
    "executionInfo": {
     "elapsed": 309,
     "status": "ok",
     "timestamp": 1602090759691,
     "user": {
      "displayName": "Nimra Sharnez",
      "photoUrl": "",
      "userId": "13843903423015333418"
     },
     "user_tz": 360
    },
    "id": "5jRt-dHajMej",
    "outputId": "a25a35a9-4721-4f09-d885-01eb60fadf14"
   }
  },
  {
   "cell_type": "markdown",
   "source": [
    "3) Write a function ```magic_string``` that, given two `str` parameters ```source``` and ```target``` (you may assume they have the same length), returns a string that has its even characters the same as target's even characters and odd characters the same as source's odd characters. Test your function by calling from main() and printing the returned string. \n",
    "\n",
    "Example: ```magic_string(\"ABCD\", \"wxyz\")``` gives output ```wByD```"
   ],
   "metadata": {
    "id": "-hp8WtsbjMep"
   }
  },
  {
   "cell_type": "code",
   "execution_count": 95,
   "source": [
    "# write your function here\n",
    "def magic_string(source, target):\n",
    "    i = 0\n",
    "    new = \"\"\n",
    "    while i < len(source):\n",
    "        if i % 2 == 0:\n",
    "            new = new + target[i]\n",
    "        elif i % 2 == 1:\n",
    "            new = new + source[i]\n",
    "        i += 1\n",
    "    return new\n",
    "    \n",
    "def main():\n",
    "    new = magic_string(\"ABCD\", \"wxyz\")\n",
    "    print(new)\n",
    "\n",
    "main()"
   ],
   "outputs": [
    {
     "output_type": "stream",
     "name": "stdout",
     "text": [
      "wByD\n"
     ]
    }
   ],
   "metadata": {
    "id": "cEbDW4RTjMeq"
   }
  },
  {
   "cell_type": "markdown",
   "source": [
    "4) Re-write `remove_letter` (problem 2) without a `while` loop, and instead use the `str.replace()` function."
   ],
   "metadata": {
    "id": "OivaeYeWjMev"
   }
  },
  {
   "cell_type": "code",
   "execution_count": 94,
   "source": [
    "# write your function here\n",
    "def removes_letter(word, letter):\n",
    "    word = word.replace(letter, \"\")\n",
    "    return word\n",
    "\n",
    "def main():\n",
    "    new = removes_letter(\"apple\", \"p\")\n",
    "    print(new)\n",
    "\n",
    "main()"
   ],
   "outputs": [
    {
     "output_type": "stream",
     "name": "stdout",
     "text": [
      "ale\n"
     ]
    }
   ],
   "metadata": {}
  },
  {
   "cell_type": "markdown",
   "source": [
    "Work on the next homework if you are done with the questions here :)"
   ],
   "metadata": {
    "id": "s_2fqWsxjMev"
   }
  }
 ],
 "metadata": {
  "colab": {
   "name": "lab7_while_loops.ipynb",
   "provenance": []
  },
  "kernelspec": {
   "name": "python3",
   "display_name": "Python 3.7.4 64-bit ('base': conda)"
  },
  "language_info": {
   "codemirror_mode": {
    "name": "ipython",
    "version": 3
   },
   "file_extension": ".py",
   "mimetype": "text/x-python",
   "name": "python",
   "nbconvert_exporter": "python",
   "pygments_lexer": "ipython3",
   "version": "3.7.4"
  },
  "interpreter": {
   "hash": "1afaabec1bfdb0bcc5ca0b8984696fcd1e0b46b9d55b5fadfb51c829a0a3ad93"
  }
 },
 "nbformat": 4,
 "nbformat_minor": 4
}