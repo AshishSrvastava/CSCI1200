{
 "cells": [
  {
   "cell_type": "code",
   "execution_count": null,
   "metadata": {
    "ExecuteTime": {
     "end_time": "2018-09-23T22:34:51.046352Z",
     "start_time": "2018-09-23T22:34:51.042663Z"
    }
   },
   "outputs": [],
   "source": [
    "# You'll fill this part in when it's time to work on computers\n",
    "#\n",
    "# Write your names here:\n",
    "# "
   ]
  },
  {
   "cell_type": "markdown",
   "metadata": {},
   "source": [
    "# Lab 10 - CSCI 1200\n",
    "## October 27, 2021\n",
    "***\n",
    "Welcome to the lab, today we will be learning about:\n",
    "1. Nested lists\n",
    "2. Nested while loops\n",
    "3. Midterm 2 Review\n",
    "\n",
    "We will walk through half of this notebook at the beginning of the recitation, and the rest you will be doing in Computer Time!"
   ]
  },
  {
   "cell_type": "markdown",
   "metadata": {
    "ExecuteTime": {
     "end_time": "2018-08-29T01:05:33.512684Z",
     "start_time": "2018-08-29T01:05:33.504659Z"
    }
   },
   "source": [
    "# Nested Lists\n",
    "***\n",
    "\n",
    "In this section, we will see examples of computing with nested lists."
   ]
  },
  {
   "cell_type": "code",
   "execution_count": 1,
   "metadata": {
    "ExecuteTime": {
     "end_time": "2018-10-28T22:12:11.723570Z",
     "start_time": "2018-10-28T22:12:11.717987Z"
    }
   },
   "outputs": [
    {
     "name": "stdout",
     "output_type": "stream",
     "text": [
      "[[1, 2, 100, 1000], [9800, 343, 1443, 5454], [33355, 623, 436, 777, 876, 543], [43, 65, 2, 87, 6]]\n"
     ]
    }
   ],
   "source": [
    "# what is a nested list?\n",
    "# one way to think about it: a list of lists\n",
    "# another way to think about it: columns and rows\n",
    "\n",
    "a = [ [1,2,100,1000], [9800, 343, 1443 ,5454], [33355, 623, 436, 777, 876, 543], [43, 65,2,87, 6] ]\n",
    "print(a)\n"
   ]
  },
  {
   "cell_type": "code",
   "execution_count": 2,
   "metadata": {
    "ExecuteTime": {
     "end_time": "2018-10-28T22:57:18.574680Z",
     "start_time": "2018-10-28T22:57:18.571544Z"
    }
   },
   "outputs": [
    {
     "name": "stdout",
     "output_type": "stream",
     "text": [
      "2\n"
     ]
    }
   ],
   "source": [
    "ls = a[0]\n",
    "print(ls[1])"
   ]
  },
  {
   "cell_type": "code",
   "execution_count": 3,
   "metadata": {
    "ExecuteTime": {
     "end_time": "2018-10-28T22:57:28.931806Z",
     "start_time": "2018-10-28T22:57:28.927018Z"
    }
   },
   "outputs": [
    {
     "name": "stdout",
     "output_type": "stream",
     "text": [
      "2\n"
     ]
    }
   ],
   "source": [
    "print(a[0][1])"
   ]
  },
  {
   "cell_type": "code",
   "execution_count": 4,
   "metadata": {
    "ExecuteTime": {
     "end_time": "2018-10-28T22:20:08.004058Z",
     "start_time": "2018-10-28T22:20:08.000140Z"
    }
   },
   "outputs": [
    {
     "name": "stdout",
     "output_type": "stream",
     "text": [
      "[1103, 17040, 36610, 203]\n"
     ]
    }
   ],
   "source": [
    "# a function that takes a nested list as a parameter and returns a list containing the sum of each inner list\n",
    "\n",
    "def row_sum(lst):\n",
    "    ans = []\n",
    "    idx = 0\n",
    "    while idx < len(lst):\n",
    "        curr_lst = lst[idx]\n",
    "        ans.append(sum(curr_lst))\n",
    "        idx += 1\n",
    "    return ans\n",
    "\n",
    "# testing out this function\n",
    "print(row_sum(a))"
   ]
  },
  {
   "cell_type": "code",
   "execution_count": 5,
   "metadata": {
    "ExecuteTime": {
     "end_time": "2018-10-28T22:24:34.034384Z",
     "start_time": "2018-10-28T22:24:34.030167Z"
    }
   },
   "outputs": [
    {
     "name": "stdout",
     "output_type": "stream",
     "text": [
      "[275.75, 4260.0, 6101.666666666667, 40.6]\n"
     ]
    }
   ],
   "source": [
    "# a function that takes a nested list as a parameter and returns a list containing the mean of each inner list\n",
    "\n",
    "def row_mean(lst):\n",
    "    ans = []\n",
    "    i = 0\n",
    "    while i < len(lst):\n",
    "        mean = sum(lst[i]) / len(lst[i])\n",
    "        ans.append(mean)\n",
    "        i += 1\n",
    "    return ans\n",
    "\n",
    "print(row_mean(a))"
   ]
  },
  {
   "cell_type": "code",
   "execution_count": 6,
   "metadata": {
    "ExecuteTime": {
     "end_time": "2018-10-28T22:17:04.160060Z",
     "start_time": "2018-10-28T22:17:04.155401Z"
    }
   },
   "outputs": [
    {
     "name": "stdout",
     "output_type": "stream",
     "text": [
      "[1, 343, 436, 2]\n"
     ]
    }
   ],
   "source": [
    "# a function that takes a nexted list as a parameter and returns a list containing the minimum element of each inner list\n",
    "\n",
    "def row_min(lst):\n",
    "    ans = []\n",
    "    i = 0\n",
    "    while i < len(lst):\n",
    "        minimum = min(lst[i])\n",
    "        ans.append(minimum)\n",
    "        i += 1\n",
    "    return ans\n",
    "print(row_min(a))"
   ]
  },
  {
   "cell_type": "code",
   "execution_count": 7,
   "metadata": {
    "ExecuteTime": {
     "end_time": "2018-10-28T22:29:27.727932Z",
     "start_time": "2018-10-28T22:29:27.723425Z"
    }
   },
   "outputs": [
    {
     "name": "stdout",
     "output_type": "stream",
     "text": [
      "[1000, 9800, 33355, 87]\n"
     ]
    }
   ],
   "source": [
    "# a function that takes a nested list as a parameter and returns a list containing the maximum element of each inner list\n",
    "\n",
    "def row_max(lst):\n",
    "    ans = []\n",
    "    i = 0\n",
    "    while i < len(lst):\n",
    "        maximum = max(lst[i])\n",
    "        ans.append(maximum)\n",
    "        i += 1\n",
    "    return ans\n",
    "\n",
    "print(row_max(a))"
   ]
  },
  {
   "cell_type": "code",
   "execution_count": 8,
   "metadata": {
    "ExecuteTime": {
     "end_time": "2018-10-28T22:30:48.989724Z",
     "start_time": "2018-10-28T22:30:48.985390Z"
    }
   },
   "outputs": [
    {
     "name": "stdout",
     "output_type": "stream",
     "text": [
      "[2.0, 0.035, 0.018677859391395595, 1.5116279069767442]\n"
     ]
    }
   ],
   "source": [
    "# a function that takes a nested list as a parameter\n",
    "# returns a list containing the ratio of the second element to the first element for each inner list\n",
    "\n",
    "def row_ratio(lst):\n",
    "    ans = []\n",
    "    i = 0\n",
    "    while i < len(lst):\n",
    "        ratio = lst[i][1] / lst[i][0]\n",
    "        ans.append(ratio)\n",
    "        i += 1\n",
    "    return ans\n",
    "\n",
    "print(row_ratio(a))"
   ]
  },
  {
   "cell_type": "markdown",
   "metadata": {},
   "source": [
    "# Nested Loops\n",
    "***\n",
    "\n",
    "In this section, we will see examples of using nested while loops with nested lists."
   ]
  },
  {
   "cell_type": "code",
   "execution_count": 9,
   "metadata": {},
   "outputs": [
    {
     "name": "stdout",
     "output_type": "stream",
     "text": [
      "in outer loop\n",
      "[1, 2, 3]\n",
      "in inner loop\n",
      "1\n",
      "in inner loop\n",
      "2\n",
      "in inner loop\n",
      "3\n",
      "in outer loop\n",
      "[4, 5, 6]\n",
      "in inner loop\n",
      "4\n",
      "in inner loop\n",
      "5\n",
      "in inner loop\n",
      "6\n",
      "in outer loop\n",
      "[7, 8, 9]\n",
      "in inner loop\n",
      "7\n",
      "in inner loop\n",
      "8\n",
      "in inner loop\n",
      "9\n"
     ]
    }
   ],
   "source": [
    "# We might want to use a nested while loop to perform a task\n",
    "\n",
    "def nested_while_demo(ls):\n",
    "    idx_outer = 0\n",
    "    while idx_outer < len(ls):\n",
    "        print(\"in outer loop\")\n",
    "        print(ls[idx_outer])\n",
    "        idx_inner = 0\n",
    "        \n",
    "        while idx_inner < len(ls[idx_outer]):\n",
    "            print(\"in inner loop\")\n",
    "            print(ls[idx_outer][idx_inner])\n",
    "            idx_inner += 1\n",
    "        idx_outer += 1\n",
    "        \n",
    "b = [[1, 2, 3], [4, 5, 6], [7, 8, 9]]\n",
    "\n",
    "nested_while_demo(b)       \n",
    "        "
   ]
  },
  {
   "cell_type": "code",
   "execution_count": 10,
   "metadata": {},
   "outputs": [
    {
     "name": "stdout",
     "output_type": "stream",
     "text": [
      "Name: Big Bird\n",
      "Height (cm): 249\n",
      "Weight (kg): 136\n",
      "\n",
      "Name: Mr. Snuffleupagus\n",
      "Height (cm): 213\n",
      "Weight (kg): 453\n",
      "\n",
      "Name: Elmo\n",
      "Height (cm): 61\n",
      "Weight (kg): 10\n",
      "\n"
     ]
    }
   ],
   "source": [
    "# let's do a more concrete example with a new nested list for this example.\n",
    "# each row has a name, height in cm, and weight in kg\n",
    "# let's print out all this information with some labels\n",
    "\n",
    "def print_with_labels(ls):\n",
    "    idx_1 = 0\n",
    "    while idx_1 < len(ls):\n",
    "        idx_2 = 0\n",
    "        while idx_2 < len(ls[idx_1]):\n",
    "            if idx_2 == 0:\n",
    "                print(\"Name: \" + ls[idx_1][idx_2])\n",
    "            elif idx_2 == 1:\n",
    "                print(\"Height (cm): \" + str(ls[idx_1][idx_2]))\n",
    "            else:\n",
    "                print(\"Weight (kg): \" + str(ls[idx_1][idx_2]))\n",
    "            idx_2 += 1\n",
    "        print()\n",
    "        idx_1 += 1\n",
    "\n",
    "sesame_street = [ [\"Big Bird\", 249, 136], [\"Mr. Snuffleupagus\", 213, 453], [\"Elmo\", 61, 10] ]\n",
    "        \n",
    "print_with_labels(sesame_street)"
   ]
  },
  {
   "cell_type": "code",
   "execution_count": null,
   "metadata": {},
   "outputs": [],
   "source": []
  }
 ],
 "metadata": {
  "interpreter": {
   "hash": "e5cf0aa9e021047b28ce7b8c7ad9895a77de681bac15ab4be37744a25d3b0287"
  },
  "kernelspec": {
   "display_name": "Python 3.7.4 64-bit ('base': conda)",
   "name": "python3"
  },
  "language_info": {
   "codemirror_mode": {
    "name": "ipython",
    "version": 3
   },
   "file_extension": ".py",
   "mimetype": "text/x-python",
   "name": "python",
   "nbconvert_exporter": "python",
   "pygments_lexer": "ipython3",
   "version": "3.7.4"
  }
 },
 "nbformat": 4,
 "nbformat_minor": 4
}
