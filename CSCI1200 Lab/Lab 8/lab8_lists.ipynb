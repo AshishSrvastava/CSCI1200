{
 "cells": [
  {
   "cell_type": "markdown",
   "metadata": {},
   "source": [
    "# Lab 8 - CSCI 1200\n",
    "\n",
    "***\n",
    "Welcome to the lab, today we will be learning about the following concepts:    \n",
    "1. More loops\n",
    "2. Appending/Deleting elements in lists\n",
    "3. Accumulators\n",
    "\n",
    "We will walk through half of this notebook at the beginning of the recitation, and the rest you will be doing in Computer Time.\n",
    "\n",
    "# 1. More on loops\n",
    "***\n",
    "\n",
    "### Lets think about if the following loops run and, if so, when they terminate."
   ]
  },
  {
   "cell_type": "code",
   "execution_count": 1,
   "metadata": {
    "ExecuteTime": {
     "end_time": "2018-10-14T04:55:09.938203Z",
     "start_time": "2018-10-14T04:55:09.935185Z"
    },
    "jupyter": {
     "outputs_hidden": false
    }
   },
   "outputs": [
    {
     "name": "stdout",
     "output_type": "stream",
     "text": [
      "100\n"
     ]
    }
   ],
   "source": [
    "# What value of i is printed at the end?\n",
    "i = 1\n",
    "while i < 100:\n",
    "    i += 1\n",
    "print(i)"
   ]
  },
  {
   "cell_type": "code",
   "execution_count": 2,
   "metadata": {
    "ExecuteTime": {
     "end_time": "2018-10-14T05:03:04.768219Z",
     "start_time": "2018-10-14T05:03:04.690951Z"
    }
   },
   "outputs": [
    {
     "name": "stdout",
     "output_type": "stream",
     "text": [
      "101\n"
     ]
    }
   ],
   "source": [
    "# What value of i is printed at the end?\n",
    "i = 1\n",
    "while i <= 100:\n",
    "    i += 1\n",
    "print(i)"
   ]
  },
  {
   "cell_type": "code",
   "execution_count": 3,
   "metadata": {
    "ExecuteTime": {
     "end_time": "2018-10-14T05:03:02.234662Z",
     "start_time": "2018-10-14T05:03:02.230881Z"
    }
   },
   "outputs": [
    {
     "name": "stdout",
     "output_type": "stream",
     "text": [
      "1\n"
     ]
    }
   ],
   "source": [
    "# What value of i is printed at the end?\n",
    "i = 1\n",
    "while i > 100:\n",
    "    i += 1\n",
    "print(i)"
   ]
  },
  {
   "cell_type": "code",
   "execution_count": 4,
   "metadata": {
    "ExecuteTime": {
     "end_time": "2018-10-14T05:15:28.618304Z",
     "start_time": "2018-10-14T05:15:28.614936Z"
    }
   },
   "outputs": [
    {
     "name": "stdout",
     "output_type": "stream",
     "text": [
      "1\n"
     ]
    }
   ],
   "source": [
    "# What value of i is printed at the end?\n",
    "i = 1\n",
    "while i < 1:\n",
    "    i += 1\n",
    "print(i)"
   ]
  },
  {
   "cell_type": "code",
   "execution_count": 5,
   "metadata": {
    "ExecuteTime": {
     "end_time": "2018-10-15T08:07:07.546945Z",
     "start_time": "2018-10-15T08:07:07.541725Z"
    }
   },
   "outputs": [
    {
     "name": "stdout",
     "output_type": "stream",
     "text": [
      "2\n"
     ]
    }
   ],
   "source": [
    "# What value of i is printed at the end?\n",
    "i = 1\n",
    "while i <= 1:\n",
    "    i += 1\n",
    "print(i)"
   ]
  },
  {
   "cell_type": "code",
   "execution_count": 6,
   "metadata": {
    "ExecuteTime": {
     "end_time": "2018-10-14T05:14:10.604890Z",
     "start_time": "2018-10-14T05:14:10.600964Z"
    }
   },
   "outputs": [
    {
     "ename": "KeyboardInterrupt",
     "evalue": "",
     "output_type": "error",
     "traceback": [
      "\u001b[0;31m---------------------------------------------------------------------------\u001b[0m",
      "\u001b[0;31mKeyboardInterrupt\u001b[0m                         Traceback (most recent call last)",
      "\u001b[0;32m<ipython-input-6-df5f44296fb4>\u001b[0m in \u001b[0;36m<module>\u001b[0;34m\u001b[0m\n\u001b[1;32m      2\u001b[0m \u001b[0mi\u001b[0m \u001b[0;34m=\u001b[0m \u001b[0;36m1\u001b[0m\u001b[0;34m\u001b[0m\u001b[0;34m\u001b[0m\u001b[0m\n\u001b[1;32m      3\u001b[0m \u001b[0;32mwhile\u001b[0m \u001b[0;32mTrue\u001b[0m\u001b[0;34m:\u001b[0m\u001b[0;34m\u001b[0m\u001b[0;34m\u001b[0m\u001b[0m\n\u001b[0;32m----> 4\u001b[0;31m     \u001b[0mi\u001b[0m \u001b[0;34m+=\u001b[0m \u001b[0;36m1\u001b[0m\u001b[0;34m\u001b[0m\u001b[0;34m\u001b[0m\u001b[0m\n\u001b[0m\u001b[1;32m      5\u001b[0m \u001b[0mprint\u001b[0m\u001b[0;34m(\u001b[0m\u001b[0mi\u001b[0m\u001b[0;34m)\u001b[0m\u001b[0;34m\u001b[0m\u001b[0;34m\u001b[0m\u001b[0m\n",
      "\u001b[0;31mKeyboardInterrupt\u001b[0m: "
     ]
    }
   ],
   "source": [
    "# What value of i is printed at the end?\n",
    "i = 1\n",
    "while True:\n",
    "    i += 1\n",
    "print(i)"
   ]
  },
  {
   "cell_type": "code",
   "execution_count": 7,
   "metadata": {
    "jupyter": {
     "outputs_hidden": false
    }
   },
   "outputs": [
    {
     "ename": "KeyboardInterrupt",
     "evalue": "",
     "output_type": "error",
     "traceback": [
      "\u001b[0;31m---------------------------------------------------------------------------\u001b[0m",
      "\u001b[0;31mKeyboardInterrupt\u001b[0m                         Traceback (most recent call last)",
      "\u001b[0;32m<ipython-input-7-259e41ea4733>\u001b[0m in \u001b[0;36m<module>\u001b[0;34m\u001b[0m\n\u001b[1;32m      2\u001b[0m \u001b[0mi\u001b[0m \u001b[0;34m=\u001b[0m \u001b[0;36m1\u001b[0m\u001b[0;34m\u001b[0m\u001b[0;34m\u001b[0m\u001b[0m\n\u001b[1;32m      3\u001b[0m \u001b[0;32mwhile\u001b[0m \u001b[0;32mnot\u001b[0m \u001b[0;34m(\u001b[0m\u001b[0;36m0\u001b[0m \u001b[0;34m%\u001b[0m \u001b[0;36m3\u001b[0m \u001b[0;34m==\u001b[0m \u001b[0;36m1\u001b[0m \u001b[0;32mand\u001b[0m \u001b[0mi\u001b[0m \u001b[0;34m%\u001b[0m\u001b[0;36m2\u001b[0m  \u001b[0;34m==\u001b[0m \u001b[0;36m0\u001b[0m\u001b[0;34m)\u001b[0m\u001b[0;34m:\u001b[0m\u001b[0;34m\u001b[0m\u001b[0;34m\u001b[0m\u001b[0m\n\u001b[0;32m----> 4\u001b[0;31m     \u001b[0mi\u001b[0m \u001b[0;34m+=\u001b[0m \u001b[0;36m1\u001b[0m\u001b[0;34m\u001b[0m\u001b[0;34m\u001b[0m\u001b[0m\n\u001b[0m\u001b[1;32m      5\u001b[0m \u001b[0mprint\u001b[0m\u001b[0;34m(\u001b[0m\u001b[0mi\u001b[0m\u001b[0;34m)\u001b[0m\u001b[0;34m\u001b[0m\u001b[0;34m\u001b[0m\u001b[0m\n",
      "\u001b[0;31mKeyboardInterrupt\u001b[0m: "
     ]
    }
   ],
   "source": [
    "# What value of i is printed at the end?\n",
    "i = 1\n",
    "while not (0 % 3 == 1 and i %2  == 0):\n",
    "    i += 1\n",
    "print(i)"
   ]
  },
  {
   "cell_type": "code",
   "execution_count": 8,
   "metadata": {
    "jupyter": {
     "outputs_hidden": false
    }
   },
   "outputs": [
    {
     "name": "stdout",
     "output_type": "stream",
     "text": [
      "bananas\n"
     ]
    }
   ],
   "source": [
    "base_word = \"beans\"\n",
    "new_word = \"\"\n",
    "i = 0\n",
    "while new_word != \"bananas\":\n",
    "    if i % 2 == 1:\n",
    "        new_word += base_word[2]\n",
    "    elif i == (len(\"bananas\") // 2) + 1 or i == (len(\"bananas\") // 2) - 1:\n",
    "        new_word += base_word[3]\n",
    "    else:\n",
    "        new_word += base_word[min(i,4)]\n",
    "    i += 1\n",
    "print(new_word)"
   ]
  },
  {
   "cell_type": "markdown",
   "metadata": {
    "ExecuteTime": {
     "end_time": "2018-08-29T01:05:33.512684Z",
     "start_time": "2018-08-29T01:05:33.504659Z"
    }
   },
   "source": [
    "# 2. Appending and Deleting Elements of Lists\n",
    "***\n",
    "\n",
    "Now that we have a better idea of how our loops behave, lets look at how we can append, change, and delete from lists.\n",
    "\n",
    "Lists are __mutable__. This means that we can change their contents without having a whole new list. This is different than strings. Strings are __immutable__. We cannot change their contents."
   ]
  },
  {
   "cell_type": "code",
   "execution_count": null,
   "metadata": {},
   "outputs": [],
   "source": [
    "# To add an element to a list, we'll use the append function\n",
    "animals = []\n",
    "animals.append(\"mouse\")\n",
    "print(animals)\n",
    "animals.append(\"bat\")\n",
    "print(animals)"
   ]
  },
  {
   "cell_type": "code",
   "execution_count": null,
   "metadata": {},
   "outputs": [],
   "source": [
    "# with strings, we're creating new strings when we add elements to the end\n",
    "s1 = \"ha\"\n",
    "s2 = s1 + \"t\" # an entirely new string\n",
    "print(s1)\n",
    "print(s2)"
   ]
  },
  {
   "cell_type": "code",
   "execution_count": null,
   "metadata": {},
   "outputs": [],
   "source": [
    "# To change an element in a list, use list[index] = new value\n",
    "animals = [\"mouse\", \"bat\"]\n",
    "animals[0] = \"dog\"\n",
    "print(animals)\n",
    "animals[1] = animals[1].upper()\n",
    "print(animals)\n"
   ]
  },
  {
   "cell_type": "code",
   "execution_count": null,
   "metadata": {},
   "outputs": [],
   "source": [
    "# we cannot change the value at an index in a string because they are __immutable__\n",
    "s1 = \"hat\"\n",
    "s1[0] = \"H\""
   ]
  },
  {
   "cell_type": "markdown",
   "metadata": {},
   "source": [
    "Now, let's take a look at combining these functionalities with loops. What we're doing here can get complicated, so let's make sure to trace the values of our variables as these loops run."
   ]
  },
  {
   "cell_type": "code",
   "execution_count": null,
   "metadata": {
    "ExecuteTime": {
     "end_time": "2018-10-14T06:35:01.881465Z",
     "start_time": "2018-10-14T06:35:01.877828Z"
    },
    "jupyter": {
     "outputs_hidden": false
    }
   },
   "outputs": [],
   "source": [
    "my_list = []\n",
    "while len(my_list) < 5:\n",
    "    new_item = input(\"What would you like to add to the list? \")\n",
    "    my_list.append(new_item)\n",
    "print(my_list)"
   ]
  },
  {
   "cell_type": "code",
   "execution_count": null,
   "metadata": {
    "ExecuteTime": {
     "end_time": "2018-10-14T06:35:00.889616Z",
     "start_time": "2018-10-14T06:35:00.885050Z"
    },
    "jupyter": {
     "outputs_hidden": false
    }
   },
   "outputs": [],
   "source": [
    "# when we have a very long line of code, we can use the \"\\\" character to continue on the next line\n",
    "my_list = [\"Mario Batali\", \"Cat Cora\", \"Bobby Flay\", \"Marc Forgione\", \"Jose Garces\", \\\n",
    "           \"Alex Guarnaschelli\", \"Stephanie Izard\", \"Masaharu Morimoto\", \"Wolfgang Puck\", \\\n",
    "           \"Michael Symon\", \"Geoffrey Zakarian\"]\n",
    "current_length = 0  # initialize with a value that will make the loop run\n",
    "\n",
    "# Let's translate what this conditional is testing for to english\n",
    "while len(my_list) != current_length:\n",
    "    current_length = len(my_list)\n",
    "    if input(\"Does one of these Iron Chef's deserve to be removed from the list? (y/n) \") == \"y\":\n",
    "        print(my_list)\n",
    "        to_delete = int(input(\"Which one (index)? \"))\n",
    "        \n",
    "        #Example of error checking, not just a shameless plug of who is the best Iron Chef (though it's true...)\n",
    "        while my_list[to_delete] == \"Masaharu Morimoto\": \n",
    "            print(\"Have you even seen him fillet a fish? Choose another chef to take off...\")\n",
    "            to_delete = int(input(\"Which chef should be remove? (besides Morimoto) \"))\n",
    "            \n",
    "        del my_list[to_delete]\n",
    "\n",
    "print(\"Final result\")\n",
    "print(my_list)"
   ]
  },
  {
   "cell_type": "code",
   "execution_count": null,
   "metadata": {
    "jupyter": {
     "outputs_hidden": false
    }
   },
   "outputs": [],
   "source": [
    "my_database = []\n",
    "ans = input(\"Done managing database? (y/n) \")\n",
    "while ans != \"y\":\n",
    "    add = input(\"Do you want to add something to the database? (y/n) \")\n",
    "    if add == \"y\":\n",
    "        item = input(\"What would you like to add to the database? \")\n",
    "        my_database.append(item)\n",
    "        \n",
    "    remove = input(\"Do you want to delete something to the database? (y/n) \")\n",
    "    if remove == \"y\":\n",
    "        print(my_database)\n",
    "        remove_ind = int(input(\"What would you like to delete from the database? (index) \"))\n",
    "        del my_database[remove_ind]\n",
    "        \n",
    "    print(my_database)\n",
    "    ans = input(\"Done managing database? (y/n) \")\n",
    "print(my_database)"
   ]
  },
  {
   "cell_type": "markdown",
   "metadata": {},
   "source": [
    "# PAPER TIME\n",
    "***\n",
    "Go ahead and solve the exercises on paper!"
   ]
  },
  {
   "cell_type": "markdown",
   "metadata": {},
   "source": [
    "# COMPUTER TIME\n",
    "***\n",
    "Go ahead and solve the following exercises.\n",
    "And also, please look at the course notes for this week and the last week. Please let us know if you have any questions towards this concept."
   ]
  },
  {
   "cell_type": "markdown",
   "metadata": {},
   "source": [
    "Given a list and a target value, write a function that will return a new list of boolean values, `True` for each element of the list greater than or equal to the target value and `False` for the elements that are not. The original list should be unchanged. What values/types could you call this function with? Give example calls."
   ]
  },
  {
   "cell_type": "code",
   "execution_count": null,
   "metadata": {},
   "outputs": [],
   "source": []
  },
  {
   "cell_type": "code",
   "execution_count": null,
   "metadata": {},
   "outputs": [],
   "source": []
  },
  {
   "cell_type": "markdown",
   "metadata": {},
   "source": [
    "Write a function that \"mirrors\" the word in a given string. For example, given \"flower\" you should print \"flower|rewolf\"."
   ]
  },
  {
   "cell_type": "code",
   "execution_count": 34,
   "metadata": {},
   "outputs": [
    {
     "name": "stdout",
     "output_type": "stream",
     "text": [
      "flower|rewolf\n"
     ]
    }
   ],
   "source": [
    "def mirror(string):\n",
    "    word = string\n",
    "    reversed_word = \"\"\n",
    "    i = 0\n",
    "    for i in range(len(word)):\n",
    "        reversed_word += (word[len(word)-1-i])\n",
    "        i += 1\n",
    "    print(word + \"|\" + reversed_word)\n",
    "\n",
    "mirror(\"flower\")"
   ]
  },
  {
   "cell_type": "code",
   "execution_count": null,
   "metadata": {},
   "outputs": [],
   "source": []
  },
  {
   "cell_type": "code",
   "execution_count": null,
   "metadata": {},
   "outputs": [],
   "source": []
  },
  {
   "cell_type": "markdown",
   "metadata": {},
   "source": [
    "Without using the min or max functions learned in class, write a function that finds the minimum element of a list. Write a function that finds the max element of a list."
   ]
  },
  {
   "cell_type": "code",
   "execution_count": 42,
   "metadata": {},
   "outputs": [
    {
     "name": "stdout",
     "output_type": "stream",
     "text": [
      "minimum is -12\n",
      "maximum is 34\n"
     ]
    }
   ],
   "source": [
    "def min_of_list(list):\n",
    "    minimum = list[0]\n",
    "    for item in list:\n",
    "        if item < minimum:\n",
    "            minimum = item\n",
    "        else:\n",
    "            pass\n",
    "    return minimum\n",
    "\n",
    "def max_of_list(list):\n",
    "    maximum = list[0]\n",
    "    for item in list:\n",
    "        if item > maximum:\n",
    "            maximum = item\n",
    "        else:\n",
    "            pass\n",
    "    return maximum\n",
    "\n",
    "\n",
    "def main():\n",
    "    # define list\n",
    "    list = [1,2,34,-1,-12,7,0,6]\n",
    "\n",
    "    # minimum\n",
    "    minimum = min_of_list(list)\n",
    "    print(\"minimum is \" + str(minimum))\n",
    "\n",
    "    # maximum\n",
    "    maximum = max_of_list(list)    \n",
    "    print(\"maximum is \" + str(maximum))\n",
    "\n",
    "main()"
   ]
  },
  {
   "cell_type": "markdown",
   "metadata": {},
   "source": [
    "Work on homework 5 if you are done with the questions here :)"
   ]
  },
  {
   "cell_type": "code",
   "execution_count": null,
   "metadata": {},
   "outputs": [],
   "source": []
  }
 ],
 "metadata": {
  "interpreter": {
   "hash": "e5cf0aa9e021047b28ce7b8c7ad9895a77de681bac15ab4be37744a25d3b0287"
  },
  "kernelspec": {
   "display_name": "Python 3.7.4 64-bit ('base': conda)",
   "name": "python3"
  },
  "language_info": {
   "codemirror_mode": {
    "name": "ipython",
    "version": 3
   },
   "file_extension": ".py",
   "mimetype": "text/x-python",
   "name": "python",
   "nbconvert_exporter": "python",
   "pygments_lexer": "ipython3",
   "version": "3.7.4"
  }
 },
 "nbformat": 4,
 "nbformat_minor": 4
}
