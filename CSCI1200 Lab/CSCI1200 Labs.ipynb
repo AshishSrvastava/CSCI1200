{
 "cells": [
  {
   "cell_type": "markdown",
   "source": [
    "# Lab 1\n",
    "***\n",
    "2021-Aug-25\n",
    "\n",
    "TA: Chinmay Agarwal (chag7212@colorado.edu)\n",
    "\n",
    "Office hours: T/Th: 9:40-10:40AM, Fr: "
   ],
   "metadata": {}
  },
  {
   "cell_type": "markdown",
   "source": [
    "# Lab 2\n",
    "***\n",
    "2021-Sep-1\n"
   ],
   "metadata": {}
  },
  {
   "cell_type": "markdown",
   "source": [
    "# Lab 4\n",
    "***\n",
    "2021-Sep-15"
   ],
   "metadata": {}
  },
  {
   "cell_type": "code",
   "execution_count": 6,
   "source": [
    "def func3(p1,p2):\n",
    "    y = round(p1,p2)\n",
    "    return y\n",
    "func3(3.14159,2)"
   ],
   "outputs": [
    {
     "output_type": "execute_result",
     "data": {
      "text/plain": [
       "3.14"
      ]
     },
     "metadata": {},
     "execution_count": 6
    }
   ],
   "metadata": {}
  },
  {
   "cell_type": "code",
   "execution_count": 12,
   "source": [
    "x = bool(\"True\")\n",
    "print(x)\n",
    "y = bool(\"False\")\n",
    "print(y)"
   ],
   "outputs": [
    {
     "output_type": "stream",
     "name": "stdout",
     "text": [
      "True\n",
      "True\n"
     ]
    }
   ],
   "metadata": {}
  },
  {
   "cell_type": "code",
   "execution_count": null,
   "source": [],
   "outputs": [],
   "metadata": {}
  }
 ],
 "metadata": {
  "orig_nbformat": 4,
  "language_info": {
   "name": "python",
   "version": "3.7.4",
   "mimetype": "text/x-python",
   "codemirror_mode": {
    "name": "ipython",
    "version": 3
   },
   "pygments_lexer": "ipython3",
   "nbconvert_exporter": "python",
   "file_extension": ".py"
  },
  "kernelspec": {
   "name": "python3",
   "display_name": "Python 3.7.4 64-bit ('base': conda)"
  },
  "interpreter": {
   "hash": "1afaabec1bfdb0bcc5ca0b8984696fcd1e0b46b9d55b5fadfb51c829a0a3ad93"
  }
 },
 "nbformat": 4,
 "nbformat_minor": 2
}