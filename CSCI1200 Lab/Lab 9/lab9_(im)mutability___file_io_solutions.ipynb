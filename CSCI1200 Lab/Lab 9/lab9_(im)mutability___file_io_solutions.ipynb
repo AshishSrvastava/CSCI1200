{
 "cells": [
  {
   "cell_type": "code",
   "execution_count": 1,
   "metadata": {
    "ExecuteTime": {
     "end_time": "2018-09-23T22:34:51.046352Z",
     "start_time": "2018-09-23T22:34:51.042663Z"
    },
    "id": "giaW5aXlNQ3_"
   },
   "outputs": [],
   "source": [
    "# You'll fill this part in when it's time to work on computers\n",
    "#\n",
    "# Write your names here:\n",
    "# \n",
    "# Turn this file in on moodle before you leave lab, even if you haven't finished!\n",
    "# We want to see where you got to!"
   ]
  },
  {
   "cell_type": "raw",
   "metadata": {
    "id": "ISPBrvc9NQ4A"
   },
   "source": []
  },
  {
   "cell_type": "markdown",
   "metadata": {
    "id": "WFAcoQEaNQ4A"
   },
   "source": [
    "# Lab 9 - CSCI 1200\n",
    "***\n",
    "Welcome to the lab, today we will be learning about the following concepts:    \n",
    "1. Mutability vs. Immutability\n",
    "2. File I/O\n",
    "\n",
    "We will walk through half of this notebook at the beginning of the recitation, and the rest you will be doing in Computer Time!\n",
    "\n",
    "# 1. Mutability vs. Immutability\n",
    "***\n",
    "\n",
    "Everything (e.g. strings, lists) we've worked with in this class can be described as mutable or immutable. \n",
    "\n",
    "Simply put, a **mutable** object can be changed after it is created and an **immutable** object can’t. A quick check/way to think of whether an object you are working with is (im)mutable is to ask yourself: _can I index the object and change the contents located at that index?_ If ''yes'', then the object you are working with is **mutable**. If ''no'', then the object you are working with is **immutable**. Lets take a closer look at this."
   ]
  },
  {
   "cell_type": "markdown",
   "metadata": {
    "ExecuteTime": {
     "end_time": "2018-10-14T04:55:09.938203Z",
     "start_time": "2018-10-14T04:55:09.935185Z"
    },
    "id": "Qogwq37pNQ4D"
   },
   "source": [
    "## Immutable things we know\n",
    "***\n",
    "First lets notice that _bools, ints,_ and _floats_ are technically **immutable**. We've been working with them this whole time and this fact is so obvious that we tend to take it for granted. Ask yourself: Can I change a value in my int without just reassigning the int I want to my variable? How about in my float or my bool?\n",
    "\n",
    "We explore this more concretely below"
   ]
  },
  {
   "cell_type": "code",
   "execution_count": 2,
   "metadata": {
    "ExecuteTime": {
     "end_time": "2018-10-14T05:03:04.768219Z",
     "start_time": "2018-10-14T05:03:04.690951Z"
    },
    "id": "UtLC80qtNQ4E"
   },
   "outputs": [
    {
     "ename": "TypeError",
     "evalue": "'int' object does not support item assignment",
     "output_type": "error",
     "traceback": [
      "\u001b[0;31m---------------------------------------------------------------------------\u001b[0m",
      "\u001b[0;31mTypeError\u001b[0m                                 Traceback (most recent call last)",
      "\u001b[0;32m/tmp/ipykernel_157/3029414285.py\u001b[0m in \u001b[0;36m<module>\u001b[0;34m\u001b[0m\n\u001b[1;32m      1\u001b[0m \u001b[0;31m# Can I make the variable example be the 101 without saying example = 101 or example = example + 1?\u001b[0m\u001b[0;34m\u001b[0m\u001b[0;34m\u001b[0m\u001b[0;34m\u001b[0m\u001b[0m\n\u001b[1;32m      2\u001b[0m \u001b[0mexample\u001b[0m \u001b[0;34m=\u001b[0m \u001b[0;36m100\u001b[0m\u001b[0;34m\u001b[0m\u001b[0;34m\u001b[0m\u001b[0m\n\u001b[0;32m----> 3\u001b[0;31m \u001b[0mexample\u001b[0m\u001b[0;34m[\u001b[0m\u001b[0;36m2\u001b[0m\u001b[0;34m]\u001b[0m \u001b[0;34m=\u001b[0m \u001b[0;36m1\u001b[0m\u001b[0;34m\u001b[0m\u001b[0;34m\u001b[0m\u001b[0m\n\u001b[0m\u001b[1;32m      4\u001b[0m \u001b[0mprint\u001b[0m\u001b[0;34m(\u001b[0m\u001b[0mexample\u001b[0m\u001b[0;34m)\u001b[0m\u001b[0;34m\u001b[0m\u001b[0;34m\u001b[0m\u001b[0m\n",
      "\u001b[0;31mTypeError\u001b[0m: 'int' object does not support item assignment"
     ]
    }
   ],
   "source": [
    "# Can I make the variable example be the 101 without saying example = 101 or example = example + 1?\n",
    "example = 100 \n",
    "example[2] = 1\n",
    "print(example)"
   ]
  },
  {
   "cell_type": "code",
   "execution_count": 3,
   "metadata": {
    "ExecuteTime": {
     "end_time": "2018-10-14T05:03:02.234662Z",
     "start_time": "2018-10-14T05:03:02.230881Z"
    },
    "id": "L1WxSx76NQ4E"
   },
   "outputs": [
    {
     "ename": "TypeError",
     "evalue": "'float' object does not support item assignment",
     "output_type": "error",
     "traceback": [
      "\u001b[0;31m---------------------------------------------------------------------------\u001b[0m",
      "\u001b[0;31mTypeError\u001b[0m                                 Traceback (most recent call last)",
      "\u001b[0;32m/tmp/ipykernel_157/1533483691.py\u001b[0m in \u001b[0;36m<module>\u001b[0;34m\u001b[0m\n\u001b[1;32m      1\u001b[0m \u001b[0;31m# Can I make the variable example be the 1.11 without saying example = 1.11 or example = example + .1?\u001b[0m\u001b[0;34m\u001b[0m\u001b[0;34m\u001b[0m\u001b[0;34m\u001b[0m\u001b[0m\n\u001b[1;32m      2\u001b[0m \u001b[0mexample\u001b[0m \u001b[0;34m=\u001b[0m \u001b[0;36m1.01\u001b[0m\u001b[0;34m\u001b[0m\u001b[0;34m\u001b[0m\u001b[0m\n\u001b[0;32m----> 3\u001b[0;31m \u001b[0mexample\u001b[0m\u001b[0;34m[\u001b[0m\u001b[0;36m1\u001b[0m\u001b[0;34m]\u001b[0m \u001b[0;34m=\u001b[0m \u001b[0;36m1\u001b[0m\u001b[0;34m\u001b[0m\u001b[0;34m\u001b[0m\u001b[0m\n\u001b[0m\u001b[1;32m      4\u001b[0m \u001b[0mprint\u001b[0m\u001b[0;34m(\u001b[0m\u001b[0mexample\u001b[0m\u001b[0;34m)\u001b[0m\u001b[0;34m\u001b[0m\u001b[0;34m\u001b[0m\u001b[0m\n",
      "\u001b[0;31mTypeError\u001b[0m: 'float' object does not support item assignment"
     ]
    }
   ],
   "source": [
    "# Can I make the variable example be the 1.11 without saying example = 1.11 or example = example + .1?\n",
    "example = 1.01 \n",
    "example[1] = 1\n",
    "print(example)"
   ]
  },
  {
   "cell_type": "markdown",
   "metadata": {
    "ExecuteTime": {
     "end_time": "2018-10-14T05:15:28.618304Z",
     "start_time": "2018-10-14T05:15:28.614936Z"
    },
    "id": "PXYG-IRsNQ4F"
   },
   "source": [
    "What about strings? It may surprise you to know a string is **immutable**. Again, ask yourself: Can I change a value in my string without just reassigning the string I want to my variable?\n",
    "\n",
    "Lets see this in action!"
   ]
  },
  {
   "cell_type": "code",
   "execution_count": 4,
   "metadata": {
    "ExecuteTime": {
     "end_time": "2018-10-15T08:07:07.546945Z",
     "start_time": "2018-10-15T08:07:07.541725Z"
    },
    "id": "-ie1LkAMNQ4F"
   },
   "outputs": [
    {
     "ename": "TypeError",
     "evalue": "'str' object does not support item assignment",
     "output_type": "error",
     "traceback": [
      "\u001b[0;31m---------------------------------------------------------------------------\u001b[0m",
      "\u001b[0;31mTypeError\u001b[0m                                 Traceback (most recent call last)",
      "\u001b[0;32m/tmp/ipykernel_157/1881697813.py\u001b[0m in \u001b[0;36m<module>\u001b[0;34m\u001b[0m\n\u001b[1;32m      1\u001b[0m \u001b[0;31m# Can I change the example variable set to \"cat\" into \"bat\" without totally reassigning it?\u001b[0m\u001b[0;34m\u001b[0m\u001b[0;34m\u001b[0m\u001b[0;34m\u001b[0m\u001b[0m\n\u001b[1;32m      2\u001b[0m \u001b[0mexample\u001b[0m \u001b[0;34m=\u001b[0m \u001b[0;34m\"cat\"\u001b[0m\u001b[0;34m\u001b[0m\u001b[0;34m\u001b[0m\u001b[0m\n\u001b[0;32m----> 3\u001b[0;31m \u001b[0mexample\u001b[0m\u001b[0;34m[\u001b[0m\u001b[0;36m0\u001b[0m\u001b[0;34m]\u001b[0m \u001b[0;34m=\u001b[0m \u001b[0;34m\"b\"\u001b[0m\u001b[0;34m\u001b[0m\u001b[0;34m\u001b[0m\u001b[0m\n\u001b[0m\u001b[1;32m      4\u001b[0m \u001b[0mprint\u001b[0m\u001b[0;34m(\u001b[0m\u001b[0mexample\u001b[0m\u001b[0;34m)\u001b[0m\u001b[0;34m\u001b[0m\u001b[0;34m\u001b[0m\u001b[0m\n",
      "\u001b[0;31mTypeError\u001b[0m: 'str' object does not support item assignment"
     ]
    }
   ],
   "source": [
    "# Can I change the example variable set to \"cat\" into \"bat\" without totally reassigning it?\n",
    "example = \"cat\"\n",
    "example[0] = \"b\"\n",
    "print(example)"
   ]
  },
  {
   "cell_type": "markdown",
   "metadata": {
    "id": "NSLrqWyINQ4F"
   },
   "source": [
    "## Mutable things we know\n",
    "***\n",
    "So, what IS **mutable**? Of the things we have seen in this class, the only **mutable** object is the _list_. \n",
    "\n",
    "That is a major reason why they are so useful! Think of all the possibilities we've unlocked now that we can change specific entries stored in a variable without haveing to change the entire variable. Seriously, think about it for a second. You do it constantly in your day to day life (e.g. when you pack a bag, use/store cash in your wallet, use spices in your spice-rack). The ability to do this is so useful and second nature to us that we tend to take it for granted. \n",
    "\n",
    "Lets explore this more concretely."
   ]
  },
  {
   "cell_type": "code",
   "execution_count": 5,
   "metadata": {
    "ExecuteTime": {
     "end_time": "2018-10-14T05:15:08.811788Z",
     "start_time": "2018-10-14T05:15:08.807991Z"
    },
    "collapsed": false,
    "id": "9Jxl5BcMNQ4G",
    "jupyter": {
     "outputs_hidden": false
    }
   },
   "outputs": [
    {
     "name": "stdout",
     "output_type": "stream",
     "text": [
      "[0, 1, 4, 3, 4, 5, 6, 6, 8, 9]\n",
      "[0, 1, 2, 3, 4, 5, 6, 7, 8, 9]\n"
     ]
    }
   ],
   "source": [
    "# Suppose somebody has given me the list below, but something is off in it. \n",
    "# Using the fact that lists are mutable, we can correct the errors with no problem!\n",
    "\n",
    "example = [0,1,4,3,4,5,6,6,8,9]\n",
    "print(example) # Oh no! This isn't how we order our number! But worry not...\n",
    "example[2] = 2\n",
    "example[7] = 7\n",
    "print(example) # All is right in the world again. "
   ]
  },
  {
   "cell_type": "markdown",
   "metadata": {
    "ExecuteTime": {
     "end_time": "2018-10-14T06:35:01.881465Z",
     "start_time": "2018-10-14T06:35:01.877828Z"
    },
    "id": "21-tqQ7lNQ4G"
   },
   "source": [
    "## Mutable and immutable arguments\n",
    "***\n",
    "As we saw, most of what we have been working with thus far have been _immutable_ (i.e. strings, ints, bools, floats), so they cannot be changed by anything, including functions that we pass them to.\n",
    "\n",
    "Lets look at some examples."
   ]
  },
  {
   "cell_type": "code",
   "execution_count": 6,
   "metadata": {
    "ExecuteTime": {
     "end_time": "2018-10-14T06:35:00.889616Z",
     "start_time": "2018-10-14T06:35:00.885050Z"
    },
    "collapsed": false,
    "id": "YKZIQ6DBNQ4G",
    "jupyter": {
     "outputs_hidden": false
    }
   },
   "outputs": [
    {
     "name": "stdout",
     "output_type": "stream",
     "text": [
      "Duck\n"
     ]
    }
   ],
   "source": [
    "# Lets write a function that tries to make strings it is given into a plural of the string.\n",
    "def pluralizer_no_return(word):\n",
    "    word = word + \"s\"\n",
    "    # Notice there is no return here!\n",
    "\n",
    "# Now lets take this pluralizer for a ride\n",
    "def main():\n",
    "    word = \"Duck\"\n",
    "    pluralizer_no_return(word)\n",
    "    print(word)\n",
    "    \n",
    "main()\n"
   ]
  },
  {
   "cell_type": "code",
   "execution_count": 7,
   "metadata": {
    "id": "gn3DvgoqNQ4H"
   },
   "outputs": [
    {
     "name": "stdout",
     "output_type": "stream",
     "text": [
      "Ducks\n"
     ]
    }
   ],
   "source": [
    "# Lets redo this so pluralizer returns the plural word:\n",
    "def pluralizer_with_return(word):\n",
    "    plural_word = word + \"s\"\n",
    "    return plural_word\n",
    "\n",
    "# Now lets take this pluralizer for a ride\n",
    "def main():\n",
    "    word = \"Duck\"\n",
    "    plural_word = pluralizer_with_return(word)\n",
    "    print(plural_word)\n",
    "    \n",
    "main()"
   ]
  },
  {
   "cell_type": "markdown",
   "metadata": {
    "id": "LQ8kC1T7NQ4H"
   },
   "source": [
    "**However, when we pass a mutable data type to a function, the function MAY or MAY NOT change the value of the variable!**"
   ]
  },
  {
   "cell_type": "code",
   "execution_count": 8,
   "metadata": {
    "collapsed": false,
    "id": "ft86PTrbNQ4I",
    "jupyter": {
     "outputs_hidden": false
    }
   },
   "outputs": [
    {
     "name": "stdout",
     "output_type": "stream",
     "text": [
      "[0, 1, 4, 9, 17424, 2916, 4, 1620529]\n"
     ]
    }
   ],
   "source": [
    "\n",
    "# It will take a single int and a list of numbers as parameters and MUTATE the list with each number exponentiated the single int \n",
    "def exponentiate(exponent, nums):\n",
    "    idx = 0\n",
    "    while idx < len(nums):\n",
    "        nums[idx] = nums[idx] ** exponent\n",
    "        idx += 1\n",
    "\n",
    "# Now lets do some exponentiation\n",
    "def main():\n",
    "    exponent = 2\n",
    "    nums = [0,1,2,3,132,54,2,1273]\n",
    "    exponentials = exponentiate(exponent, nums)\n",
    "    print(nums)\n",
    "    \n",
    "main()"
   ]
  },
  {
   "cell_type": "code",
   "execution_count": 9,
   "metadata": {
    "ExecuteTime": {
     "end_time": "2018-10-15T08:08:33.068876Z",
     "start_time": "2018-10-15T08:08:33.063838Z"
    },
    "collapsed": false,
    "id": "qxZIIndwNQ4I",
    "jupyter": {
     "outputs_hidden": false
    }
   },
   "outputs": [
    {
     "name": "stdout",
     "output_type": "stream",
     "text": [
      "These are Julie Andrews' favorite things:\n",
      "['raindrops on roses', 'raindrops of acid', 'whiskers on kittens', 'whipping the children', 'bright copper kettles', 'bloodshed with breakfast', 'warm woolen mittens', 'more ammunition', 'brown paper packages tied up with strings', 'happiness killed by corrupt happenings', 'cream-colored ponies', 'old green bologne']\n",
      "\n",
      "These are STILL Julie Andrews' favorite things:\n",
      "['raindrops on roses', 'raindrops of acid', 'whiskers on kittens', 'whipping the children', 'bright copper kettles', 'bloodshed with breakfast', 'warm woolen mittens', 'more ammunition', 'brown paper packages tied up with strings', 'happiness killed by corrupt happenings', 'cream-colored ponies', 'old green bologne']\n",
      "\n",
      "But these are even bigger and better!\n",
      "['RAINDROPS ON ROSES', 'RAINDROPS OF ACID', 'WHISKERS ON KITTENS', 'WHIPPING THE CHILDREN', 'BRIGHT COPPER KETTLES', 'BLOODSHED WITH BREAKFAST', 'WARM WOOLEN MITTENS', 'MORE AMMUNITION', 'BROWN PAPER PACKAGES TIED UP WITH STRINGS', 'HAPPINESS KILLED BY CORRUPT HAPPENINGS', 'CREAM-COLORED PONIES', 'OLD GREEN BOLOGNE']\n",
      "\n"
     ]
    }
   ],
   "source": [
    "\n",
    "# Just because a function takes a list as an argument DOESN'T mean the function necessarily mutates the list\n",
    "def make_them_bigger_better(words):\n",
    "    idx = 0\n",
    "    big_words = [] # Make an empty list\n",
    "    while idx < len(words):\n",
    "        word = words[idx]\n",
    "        big_word = word.upper()\n",
    "        big_words.append(big_word)\n",
    "        idx += 1\n",
    "    return big_words\n",
    "\n",
    "def main():\n",
    "    julie_andrews_favorite_things = [\"raindrops on roses\", \"raindrops of acid\", \"whiskers on kittens\", \"whipping the children\", \"bright copper kettles\", \"bloodshed with breakfast\", \"warm woolen mittens\", \"more ammunition\", \"brown paper packages tied up with strings\", \"happiness killed by corrupt happenings\" ,\"cream-colored ponies\", \"old green bologne\"]\n",
    "    \n",
    "    print(\"These are Julie Andrews' favorite things:\")\n",
    "    print(julie_andrews_favorite_things)\n",
    "    print()\n",
    "    \n",
    "    bigger_favorite_things = make_them_bigger_better(julie_andrews_favorite_things)\n",
    "    \n",
    "    print(\"These are STILL Julie Andrews' favorite things:\")\n",
    "    print(julie_andrews_favorite_things)\n",
    "    print()\n",
    "    \n",
    "    print(\"But these are even bigger and better!\")\n",
    "    print(bigger_favorite_things)\n",
    "    print()\n",
    "    \n",
    "main()\n"
   ]
  },
  {
   "cell_type": "markdown",
   "metadata": {
    "id": "RSaJiPcPNQ4J"
   },
   "source": [
    "# 3. File I/O\n",
    "***\n",
    "This is how we read and write from files. In essence, you can think of this as how your program can ''interact'' with the rest of your computer!\n"
   ]
  },
  {
   "cell_type": "markdown",
   "metadata": {
    "id": "rwe7WyBdNQ4J"
   },
   "source": [
    "## Reading from files\n",
    "***\n",
    "\n",
    "Lets see examples of reading lines from files and transforming them in different ways as well."
   ]
  },
  {
   "cell_type": "code",
   "execution_count": 68,
   "metadata": {
    "executionInfo": {
     "elapsed": 621,
     "status": "ok",
     "timestamp": 1634674188395,
     "user": {
      "displayName": "Chinmay Agrawal",
      "photoUrl": "https://lh3.googleusercontent.com/a-/AOh14GguCWRwXEhyLDQr4STMLFYTlzaMGj8ivblbk89_=s64",
      "userId": "08893868986297293808"
     },
     "user_tz": 360
    },
    "id": "NGux9jloNQ4J"
   },
   "outputs": [],
   "source": [
    "# what is a csv file? \n",
    "# Lets open one and look into it\n",
    "\n",
    "f = open(\"sample.csv\", \"r\")\n",
    "\n",
    "# notice the parameter \"r\" it stands for read\n",
    "# it could be: w (write), r (read), a (append), \n",
    "# (there are also other modes we won't address here)"
   ]
  },
  {
   "cell_type": "code",
   "execution_count": 69,
   "metadata": {
    "colab": {
     "base_uri": "https://localhost:8080/"
    },
    "collapsed": false,
    "executionInfo": {
     "elapsed": 300,
     "status": "ok",
     "timestamp": 1634674191467,
     "user": {
      "displayName": "Chinmay Agrawal",
      "photoUrl": "https://lh3.googleusercontent.com/a-/AOh14GguCWRwXEhyLDQr4STMLFYTlzaMGj8ivblbk89_=s64",
      "userId": "08893868986297293808"
     },
     "user_tz": 360
    },
    "id": "sACjC2TjNQ4K",
    "jupyter": {
     "outputs_hidden": false
    },
    "outputId": "c922eb73-8440-4650-b165-2878c487119c"
   },
   "outputs": [
    {
     "name": "stdout",
     "output_type": "stream",
     "text": [
      "<_io.TextIOWrapper name='sample.csv' mode='r' encoding='UTF-8'>\n",
      "<class '_io.TextIOWrapper'>\n"
     ]
    }
   ],
   "source": [
    "# lets see what is f\n",
    "print(f)\n",
    "print(type(f))\n",
    "# that doesn't help, how do we read the lines of this file?"
   ]
  },
  {
   "cell_type": "code",
   "execution_count": 70,
   "metadata": {
    "colab": {
     "base_uri": "https://localhost:8080/"
    },
    "collapsed": false,
    "executionInfo": {
     "elapsed": 189,
     "status": "ok",
     "timestamp": 1634674199316,
     "user": {
      "displayName": "Chinmay Agrawal",
      "photoUrl": "https://lh3.googleusercontent.com/a-/AOh14GguCWRwXEhyLDQr4STMLFYTlzaMGj8ivblbk89_=s64",
      "userId": "08893868986297293808"
     },
     "user_tz": 360
    },
    "id": "8T_mjoUGNQ4K",
    "jupyter": {
     "outputs_hidden": false
    },
    "outputId": "5d8814f3-be95-456e-f48d-d27d868b415d"
   },
   "outputs": [
    {
     "name": "stdout",
     "output_type": "stream",
     "text": [
      "Temperature,Humidity\n",
      "\n"
     ]
    }
   ],
   "source": [
    "# using f.readline()\n",
    "print(f.readline())"
   ]
  },
  {
   "cell_type": "code",
   "execution_count": 71,
   "metadata": {
    "collapsed": false,
    "id": "RFyUNX9iNQ4K",
    "jupyter": {
     "outputs_hidden": false
    }
   },
   "outputs": [],
   "source": [
    "# but how do I read all the lines?\n",
    "# note! our file object is still open at this point!\n",
    "\n",
    "# what line did we start printing?\n",
    "line = f.readline()   # 1) initialization\n",
    "while line:   # 2) am I done?\n",
    "#     print(line)\n",
    "    line = f.readline()\n",
    "    \n",
    "# What happens if we re-run this cell?"
   ]
  },
  {
   "cell_type": "code",
   "execution_count": 72,
   "metadata": {
    "executionInfo": {
     "elapsed": 124,
     "status": "ok",
     "timestamp": 1634674249990,
     "user": {
      "displayName": "Chinmay Agrawal",
      "photoUrl": "https://lh3.googleusercontent.com/a-/AOh14GguCWRwXEhyLDQr4STMLFYTlzaMGj8ivblbk89_=s64",
      "userId": "08893868986297293808"
     },
     "user_tz": 360
    },
    "id": "E6bmjX45NQ4L"
   },
   "outputs": [],
   "source": [
    "# in the end it is important to close the file\n",
    "f.close()\n",
    "# we can no longer read any lines of the file because \n",
    "# the connection to the file is closed"
   ]
  },
  {
   "cell_type": "code",
   "execution_count": 1,
   "metadata": {
    "collapsed": false,
    "id": "bzkNmTZDNQ4L",
    "jupyter": {
     "outputs_hidden": false
    }
   },
   "outputs": [],
   "source": [
    "# Let's look at dealing with formatted data in a nicer way\n",
    "\n",
    "f = open(\"sample.csv\", \"r\") \n",
    "line = f.readline()\n",
    "while line:\n",
    "    # notice the changed functionality goes here, \n",
    "    # rest remains the same\n",
    "    # beautiful_line = line.strip().split(\",\")\n",
    "    # https://www.geeksforgeeks.org/python-string-join-method/\n",
    "    beautiful_line = \"\\t\".join(line.split(\",\")) \n",
    "#     print(beautiful_line)\n",
    "    line = f.readline()\n",
    "f.close()"
   ]
  },
  {
   "cell_type": "markdown",
   "metadata": {
    "id": "aNcqDF1LNQ4L"
   },
   "source": [
    "## Writing to files\n",
    "***\n",
    "\n",
    "Now lets see examples of writing lines to files and transforming them in different ways as well."
   ]
  },
  {
   "cell_type": "code",
   "execution_count": 31,
   "metadata": {
    "executionInfo": {
     "elapsed": 590,
     "status": "ok",
     "timestamp": 1634674276512,
     "user": {
      "displayName": "Chinmay Agrawal",
      "photoUrl": "https://lh3.googleusercontent.com/a-/AOh14GguCWRwXEhyLDQr4STMLFYTlzaMGj8ivblbk89_=s64",
      "userId": "08893868986297293808"
     },
     "user_tz": 360
    },
    "id": "9FfEaSTjNQ4L"
   },
   "outputs": [],
   "source": [
    "# notice that this call creates a new file!\n",
    "f = open(\"sample_write.txt\", \"w\") "
   ]
  },
  {
   "cell_type": "code",
   "execution_count": 32,
   "metadata": {
    "colab": {
     "base_uri": "https://localhost:8080/"
    },
    "collapsed": false,
    "executionInfo": {
     "elapsed": 927,
     "status": "ok",
     "timestamp": 1634674287129,
     "user": {
      "displayName": "Chinmay Agrawal",
      "photoUrl": "https://lh3.googleusercontent.com/a-/AOh14GguCWRwXEhyLDQr4STMLFYTlzaMGj8ivblbk89_=s64",
      "userId": "08893868986297293808"
     },
     "user_tz": 360
    },
    "id": "KE30xEOhNQ4M",
    "jupyter": {
     "outputs_hidden": false
    },
    "outputId": "7bbcfe0b-c292-4448-db6c-5bddd16ecc60"
   },
   "outputs": [
    {
     "data": {
      "text/plain": [
       "55"
      ]
     },
     "execution_count": 32,
     "metadata": {},
     "output_type": "execute_result"
    }
   ],
   "source": [
    "f.write(\"Beautiful things don't ask for attention - Walter Mitty \\n\") # What does \\n mean?\n",
    "f.write(\"I can write anything in a file! - (Probably) Steve Jobs\")"
   ]
  },
  {
   "cell_type": "code",
   "execution_count": 35,
   "metadata": {
    "executionInfo": {
     "elapsed": 9,
     "status": "ok",
     "timestamp": 1634674292864,
     "user": {
      "displayName": "Chinmay Agrawal",
      "photoUrl": "https://lh3.googleusercontent.com/a-/AOh14GguCWRwXEhyLDQr4STMLFYTlzaMGj8ivblbk89_=s64",
      "userId": "08893868986297293808"
     },
     "user_tz": 360
    },
    "id": "gLNJFuFhNQ4M"
   },
   "outputs": [],
   "source": [
    "f.close() \n",
    "# Again, always remember to close your files!!!!"
   ]
  },
  {
   "cell_type": "code",
   "execution_count": 36,
   "metadata": {
    "colab": {
     "base_uri": "https://localhost:8080/"
    },
    "collapsed": false,
    "executionInfo": {
     "elapsed": 7,
     "status": "ok",
     "timestamp": 1634674294580,
     "user": {
      "displayName": "Chinmay Agrawal",
      "photoUrl": "https://lh3.googleusercontent.com/a-/AOh14GguCWRwXEhyLDQr4STMLFYTlzaMGj8ivblbk89_=s64",
      "userId": "08893868986297293808"
     },
     "user_tz": 360
    },
    "id": "CaNKt0VLNQ4M",
    "jupyter": {
     "outputs_hidden": false
    },
    "outputId": "6feda002-dc33-45ff-e6c5-b8630e57737f"
   },
   "outputs": [
    {
     "name": "stdout",
     "output_type": "stream",
     "text": [
      "Beautiful things don't ask for attention - Walter Mitty \n",
      "\n",
      "I can write anything in a file! - (Probably) Steve Jobs\n"
     ]
    }
   ],
   "source": [
    "# verifying out file\n",
    "f = open(\"sample_write.txt\", \"r\")\n",
    "print(f.readline())\n",
    "print(f.readline())\n",
    "f.close()"
   ]
  },
  {
   "cell_type": "markdown",
   "metadata": {
    "id": "xYqYsv0TNQ4M"
   },
   "source": [
    "## Appending to files\n",
    "***\n",
    "\n",
    "We sometimes just want to edit a file. Lets see examples of appending lines to files."
   ]
  },
  {
   "cell_type": "code",
   "execution_count": 37,
   "metadata": {
    "executionInfo": {
     "elapsed": 146,
     "status": "ok",
     "timestamp": 1634674321487,
     "user": {
      "displayName": "Chinmay Agrawal",
      "photoUrl": "https://lh3.googleusercontent.com/a-/AOh14GguCWRwXEhyLDQr4STMLFYTlzaMGj8ivblbk89_=s64",
      "userId": "08893868986297293808"
     },
     "user_tz": 360
    },
    "id": "A1LzCPDbNQ4N"
   },
   "outputs": [],
   "source": [
    "# What is the contents of \"sample_write.txt\" after we run this cell?\n",
    "\n",
    "# notice that this call creates a new file!\n",
    "f = open(\"sample_write.txt\", \"w\") \n",
    "f.write(\"here's more text\")\n",
    "f.close()"
   ]
  },
  {
   "cell_type": "code",
   "execution_count": 38,
   "metadata": {
    "executionInfo": {
     "elapsed": 195,
     "status": "ok",
     "timestamp": 1634674356650,
     "user": {
      "displayName": "Chinmay Agrawal",
      "photoUrl": "https://lh3.googleusercontent.com/a-/AOh14GguCWRwXEhyLDQr4STMLFYTlzaMGj8ivblbk89_=s64",
      "userId": "08893868986297293808"
     },
     "user_tz": 360
    },
    "id": "cVKlYyGjNQ4N"
   },
   "outputs": [],
   "source": [
    "# What is the contents of \"sampe_write.txt\" after we run this cell?\n",
    "\n",
    "f = open(\"sample_write.txt\", \"a\")\n",
    "f.write(\"here's more text\")\n",
    "f.close()"
   ]
  },
  {
   "cell_type": "code",
   "execution_count": 39,
   "metadata": {
    "executionInfo": {
     "elapsed": 280,
     "status": "ok",
     "timestamp": 1634674360397,
     "user": {
      "displayName": "Chinmay Agrawal",
      "photoUrl": "https://lh3.googleusercontent.com/a-/AOh14GguCWRwXEhyLDQr4STMLFYTlzaMGj8ivblbk89_=s64",
      "userId": "08893868986297293808"
     },
     "user_tz": 360
    },
    "id": "GaUM97PDNQ4N"
   },
   "outputs": [],
   "source": [
    "# What is the contents of \"sampe_write.txt\" after we run this cell?\n",
    "\n",
    "f = open(\"sample_write.txt\", \"a\")\n",
    "f.write(\"here's even more text\")\n",
    "f.close()"
   ]
  },
  {
   "cell_type": "code",
   "execution_count": 40,
   "metadata": {
    "executionInfo": {
     "elapsed": 6,
     "status": "ok",
     "timestamp": 1634674361894,
     "user": {
      "displayName": "Chinmay Agrawal",
      "photoUrl": "https://lh3.googleusercontent.com/a-/AOh14GguCWRwXEhyLDQr4STMLFYTlzaMGj8ivblbk89_=s64",
      "userId": "08893868986297293808"
     },
     "user_tz": 360
    },
    "id": "cK934VlzNQ4N"
   },
   "outputs": [],
   "source": [
    "# What is the contents of \"sampe_write.txt\" after we run this cell?\n",
    "\n",
    "# notice that this call creates a new file\n",
    "f = open(\"sample_write.txt\", \"w\") \n",
    "f.write(\"here's even more text ?\")\n",
    "f.close()"
   ]
  },
  {
   "cell_type": "markdown",
   "metadata": {
    "id": "WirUdSlgNQ4O"
   },
   "source": [
    "## Useful file functions\n",
    "***\n",
    "\n",
    "Finally, lets build useful tools for handling files and then design our main function that does an intended task. Think, how might I use this general idea in other contexts?"
   ]
  },
  {
   "cell_type": "code",
   "execution_count": 41,
   "metadata": {
    "executionInfo": {
     "elapsed": 140,
     "status": "ok",
     "timestamp": 1634674438883,
     "user": {
      "displayName": "Chinmay Agrawal",
      "photoUrl": "https://lh3.googleusercontent.com/a-/AOh14GguCWRwXEhyLDQr4STMLFYTlzaMGj8ivblbk89_=s64",
      "userId": "08893868986297293808"
     },
     "user_tz": 360
    },
    "id": "s3GLX3D6NQ4O"
   },
   "outputs": [],
   "source": [
    "# Task: Make a function, \"file_to_string_list\" that takes in a string parameter,\n",
    "# \"file_name\", and returns a list of lines in the file\n",
    "\n",
    "def file_to_list(file_name):\n",
    "    # open file_name file in read mode\n",
    "    file = open(file_name, \"r\")\n",
    "    # create empty list to store file lines in\n",
    "    line_list = []\n",
    "    # grab first line from file\n",
    "    line = file.readline()\n",
    "    # loop while a line is available\n",
    "    while line:\n",
    "        # strip will split a string into a list\n",
    "        line_list.append(line.strip()) \n",
    "        # get next line\n",
    "        line = file.readline()\n",
    "        \n",
    "    file.close() # never forget to close the file\n",
    "    return line_list"
   ]
  },
  {
   "cell_type": "code",
   "execution_count": 42,
   "metadata": {
    "executionInfo": {
     "elapsed": 134,
     "status": "ok",
     "timestamp": 1634674460226,
     "user": {
      "displayName": "Chinmay Agrawal",
      "photoUrl": "https://lh3.googleusercontent.com/a-/AOh14GguCWRwXEhyLDQr4STMLFYTlzaMGj8ivblbk89_=s64",
      "userId": "08893868986297293808"
     },
     "user_tz": 360
    },
    "id": "_cGxe0dLNQ4O"
   },
   "outputs": [],
   "source": [
    "# Task: Make a function that prints the top 'x' values of humidity\n",
    "\n",
    "def highest_humidity(line_list, x):\n",
    "    # first identify which column is humidity\n",
    "    headers = line_list[0]\n",
    "    headers_lst = headers.split(\",\")\n",
    "    humidity_idx = headers_lst.index(\"Humidity\")\n",
    "    humidity_values = []\n",
    "    \n",
    "    # start at 1 because we do not want to include the header\n",
    "    row_number = 1\n",
    "    while row_number < len(line_list):\n",
    "        values = line_list[row_number].split(\",\")\n",
    "        humidity_values.append(values[humidity_idx])\n",
    "        row_number += 1\n",
    "        \n",
    "    # recall that this is a mutator function!\n",
    "    humidity_values.sort()\n",
    "    \n",
    "    # the highest values will be at the end of the list\n",
    "    count = 0\n",
    "    while count < x:\n",
    "        print(humidity_values[len(humidity_values) - 1 - count])\n",
    "        count += 1"
   ]
  },
  {
   "cell_type": "code",
   "execution_count": 43,
   "metadata": {
    "executionInfo": {
     "elapsed": 180,
     "status": "ok",
     "timestamp": 1634674463096,
     "user": {
      "displayName": "Chinmay Agrawal",
      "photoUrl": "https://lh3.googleusercontent.com/a-/AOh14GguCWRwXEhyLDQr4STMLFYTlzaMGj8ivblbk89_=s64",
      "userId": "08893868986297293808"
     },
     "user_tz": 360
    },
    "id": "2JevfwdRNQ4O"
   },
   "outputs": [],
   "source": [
    "def main():\n",
    "    line_list = file_to_list(\"sample.csv\")\n",
    "    highest_humidity(line_list, 10)\n"
   ]
  },
  {
   "cell_type": "code",
   "execution_count": 44,
   "metadata": {
    "colab": {
     "base_uri": "https://localhost:8080/"
    },
    "executionInfo": {
     "elapsed": 6,
     "status": "ok",
     "timestamp": 1634674464720,
     "user": {
      "displayName": "Chinmay Agrawal",
      "photoUrl": "https://lh3.googleusercontent.com/a-/AOh14GguCWRwXEhyLDQr4STMLFYTlzaMGj8ivblbk89_=s64",
      "userId": "08893868986297293808"
     },
     "user_tz": 360
    },
    "id": "sFYy2dO4NQ4P",
    "outputId": "66156f70-732d-4e6f-a2f3-c6f8f113dced"
   },
   "outputs": [
    {
     "name": "stdout",
     "output_type": "stream",
     "text": [
      "31.47\n",
      "31.42\n",
      "31.42\n",
      "31.39\n",
      "31.39\n",
      "31.39\n",
      "31.38\n",
      "31.38\n",
      "31.37\n",
      "31.36\n"
     ]
    }
   ],
   "source": [
    "main()"
   ]
  },
  {
   "cell_type": "markdown",
   "metadata": {
    "id": "fItjVFmiNQ4P"
   },
   "source": [
    "# PAPER TIME!\n",
    "***\n",
    "Solve the exercises on paper"
   ]
  },
  {
   "cell_type": "code",
   "execution_count": 1,
   "metadata": {},
   "outputs": [
    {
     "name": "stdout",
     "output_type": "stream",
     "text": [
      "Doubled list using return:  [2, 4, 6, 8, 10]\n",
      "nums before doubling:  [1, 2, 3, 4, 5]\n",
      "Doubled list not using return:  [2, 4, 6, 8, 10]\n"
     ]
    }
   ],
   "source": [
    "# Worksheet solutions\n",
    "def double(list_of_nums):\n",
    "    idx = 0\n",
    "    doubled_list = []\n",
    "    while idx < len(list_of_nums):\n",
    "        doubled_list.append(2*list_of_nums[idx])\n",
    "        idx += 1\n",
    "    return doubled_list\n",
    "\n",
    "nums = [1, 2, 3, 4, 5]\n",
    "doubled_list = double(nums)\n",
    "print(\"Doubled list using return: \", doubled_list)\n",
    "\n",
    "def double(list_of_nums):\n",
    "    idx = 0\n",
    "    while idx < len(list_of_nums):\n",
    "        list_of_nums[idx] *= 2\n",
    "        idx += 1\n",
    "\n",
    "print(\"nums before doubling: \", nums)\n",
    "double(nums)\n",
    "print(\"Doubled list not using return: \", nums)"
   ]
  },
  {
   "cell_type": "markdown",
   "metadata": {
    "id": "ajayIULqNQ4P"
   },
   "source": [
    "# COMPUTER TIME!\n",
    "***\n",
    "Solve the following exercises"
   ]
  },
  {
   "cell_type": "markdown",
   "metadata": {
    "id": "mwPfnEIlNQ4P"
   },
   "source": [
    "1. Write a function that, given (1) a list of strings and (2) a letter, prints out all members of the list that begin with the given letter."
   ]
  },
  {
   "cell_type": "code",
   "execution_count": 3,
   "metadata": {
    "id": "2axmzg1LNQ4P"
   },
   "outputs": [
    {
     "name": "stdout",
     "output_type": "stream",
     "text": [
      "apple\n",
      "archer\n"
     ]
    }
   ],
   "source": [
    "def print_strings(str_list, letter):\n",
    "    \"\"\"\n",
    "    Prints out list members that begin with letter\n",
    "    Args:\n",
    "        str_list: list containing strings\n",
    "        letter: letter to match\n",
    "    Returns: \n",
    "        None\n",
    "    \"\"\"\n",
    "    # initialize counter\n",
    "    i = 0\n",
    "    # loop through all elements in list\n",
    "    while i < len(str_list):\n",
    "        # create variable element to be element at index i in list\n",
    "        element = str_list[i]\n",
    "        # check if first character of element is equal to letter parameter\n",
    "        if element[0] == letter:\n",
    "            print(element)\n",
    "            \n",
    "#         if element.startswith(letter):\n",
    "#             print(element)\n",
    "        # increment\n",
    "        i += 1\n",
    "\n",
    "def main():\n",
    "    # define list\n",
    "    str_list = [\"apple\", \"archer\", \"banana\", \"cat\", \"caterpillar\", \"catch\"]\n",
    "    # define letter\n",
    "    letter = \"a\"\n",
    "    # call print_strings function\n",
    "    print_strings(str_list, letter)\n",
    "    \n",
    "main()"
   ]
  },
  {
   "cell_type": "code",
   "execution_count": null,
   "metadata": {
    "id": "tdK9gpvVNQ4Q"
   },
   "outputs": [],
   "source": []
  },
  {
   "cell_type": "code",
   "execution_count": null,
   "metadata": {
    "id": "CUaDgthBNQ4Q"
   },
   "outputs": [],
   "source": []
  },
  {
   "cell_type": "markdown",
   "metadata": {
    "id": "jwxdaQExNQ4Q"
   },
   "source": [
    "2. Make a function, `write_x_times`, that takes one string parameter, `filename` and one one integer parameter, `x`, and writes your favorite quotation into the file `x` number of times. "
   ]
  },
  {
   "cell_type": "code",
   "execution_count": 46,
   "metadata": {
    "id": "Qq5NhbWpNQ4Q"
   },
   "outputs": [],
   "source": [
    "def write_x_times(filename, x):\n",
    "    \"\"\"\n",
    "    Writes favorite quote into the file x number of times\n",
    "    Args:\n",
    "        filename: name of file\n",
    "        x: number of times to write quote into file\n",
    "    \"\"\"\n",
    "    # define favorite quote\n",
    "    fav_quote = \"Shake and bake!\"\n",
    "    # open a new file in \"w\" mode. Will overwrite existing contents\n",
    "    f = open(filename, \"w\")\n",
    "    # initialize counter for while loop\n",
    "    i = 0\n",
    "    while i < x:\n",
    "        # write favorite quote to file\n",
    "        f.write(fav_quote + \"\\n\")\n",
    "        # counter increment\n",
    "        i += 1\n",
    "        \n",
    "def main():\n",
    "    # make call to write_x_times function with filename and times to print quote\n",
    "    write_x_times(\"ex_file.txt\", 5)\n",
    "    \n",
    "main()"
   ]
  },
  {
   "cell_type": "code",
   "execution_count": null,
   "metadata": {
    "id": "4FkNpRedNQ4Q"
   },
   "outputs": [],
   "source": []
  },
  {
   "cell_type": "code",
   "execution_count": null,
   "metadata": {
    "id": "iJLh29QTNQ4Q"
   },
   "outputs": [],
   "source": []
  },
  {
   "cell_type": "markdown",
   "metadata": {
    "id": "49k88ZB_NQ4Q"
   },
   "source": [
    "3. Make a function, `highest_temperature`, that prints out top 10 values in temperature column of sample.csv file. Feel free to copy and paste the `highest_humidity` code and edit it to make it temperature instead!"
   ]
  },
  {
   "cell_type": "code",
   "execution_count": 56,
   "metadata": {
    "id": "CDv5qvXlNQ4R"
   },
   "outputs": [],
   "source": [
    "def highest_temperature(line_list, x):\n",
    "    # first identify which column is humidity\n",
    "    headers = line_list[0]\n",
    "    headers_lst = headers.split(\",\")\n",
    "    temp_idx = headers_lst.index(\"Temperature\")\n",
    "    print(\"temp_idx: \", temp_idx)\n",
    "    temp_values = []\n",
    "    \n",
    "    # start at 1 because we do not want to include the header\n",
    "    row_number = 1\n",
    "    while row_number < len(line_list):\n",
    "        values = line_list[row_number].split(\",\")\n",
    "        temp_values.append(values[temp_idx])\n",
    "        row_number += 1\n",
    "        \n",
    "    # recall that this is a mutator function!\n",
    "    temp_values.sort()\n",
    "    \n",
    "    # the highest values will be at the end of the list\n",
    "    count = 0\n",
    "    while count < x:\n",
    "        print(temp_values[len(temp_values) - 1 - count])\n",
    "        count += 1"
   ]
  },
  {
   "cell_type": "code",
   "execution_count": 57,
   "metadata": {
    "id": "TscVU9rANQ4R"
   },
   "outputs": [
    {
     "name": "stdout",
     "output_type": "stream",
     "text": [
      "temp_idx:  0\n",
      "24.41\n",
      "24.4083333333333\n",
      "24.36\n",
      "24.3566666666667\n",
      "24.33\n",
      "24.33\n",
      "24.33\n",
      "24.33\n",
      "24.29\n",
      "24.29\n"
     ]
    }
   ],
   "source": [
    "def main():\n",
    "    line_list = file_to_list(\"sample.csv\")\n",
    "    highest_temperature(line_list, 10)\n",
    "    \n",
    "main()"
   ]
  },
  {
   "cell_type": "markdown",
   "metadata": {
    "id": "0fFFOG-YNQ4R"
   },
   "source": [
    "4. Make a function, `average_temperature`, that returns the average of all the values in the temperature column sample.csv file.\n"
   ]
  },
  {
   "cell_type": "code",
   "execution_count": 66,
   "metadata": {
    "id": "WwbPC89RNQ4R"
   },
   "outputs": [
    {
     "name": "stdout",
     "output_type": "stream",
     "text": [
      "Average temperature calculated: 21.4 degrees\n"
     ]
    }
   ],
   "source": [
    "def average_temperate(line_list):\n",
    "    # first identify which column is humidity\n",
    "    headers = line_list[0]\n",
    "    headers_lst = headers.split(\",\")\n",
    "    temp_idx = headers_lst.index(\"Temperature\")\n",
    "    temp_values = []\n",
    "    \n",
    "    # start at 1 because we do not want to include the header\n",
    "    row_number = 1\n",
    "    while row_number < len(line_list):\n",
    "        values = line_list[row_number].split(\",\")\n",
    "        temp_values.append(float(values[temp_idx]))\n",
    "        row_number += 1\n",
    "        \n",
    "    # calculate average\n",
    "    avg_temp = sum(temp_values) / len(temp_values)\n",
    "    print(f\"Average temperature calculated: {round(avg_temp, 1)} degrees\")\n",
    "    \n",
    "def main():\n",
    "    line_list = file_to_list(\"sample.csv\")\n",
    "    average_temperate(line_list)\n",
    "    \n",
    "main()"
   ]
  },
  {
   "cell_type": "code",
   "execution_count": null,
   "metadata": {
    "id": "6seh-BnQNQ4R"
   },
   "outputs": [],
   "source": []
  },
  {
   "cell_type": "code",
   "execution_count": null,
   "metadata": {
    "id": "fr8vK3CfNQ4R"
   },
   "outputs": [],
   "source": []
  },
  {
   "cell_type": "markdown",
   "metadata": {
    "id": "C5IhiJLWNQ4S"
   },
   "source": [
    "Work on homework 6 if you are done with the questions here :)"
   ]
  },
  {
   "cell_type": "code",
   "execution_count": null,
   "metadata": {
    "id": "ZsdG82YoNQ4S"
   },
   "outputs": [],
   "source": []
  }
 ],
 "metadata": {
  "colab": {
   "name": "lab9_(im)mutability___file_io.ipynb",
   "provenance": []
  },
  "kernelspec": {
   "display_name": "Python 3 (ipykernel)",
   "language": "python",
   "name": "python3"
  },
  "language_info": {
   "codemirror_mode": {
    "name": "ipython",
    "version": 3
   },
   "file_extension": ".py",
   "mimetype": "text/x-python",
   "name": "python",
   "nbconvert_exporter": "python",
   "pygments_lexer": "ipython3",
   "version": "3.9.6"
  }
 },
 "nbformat": 4,
 "nbformat_minor": 4
}
