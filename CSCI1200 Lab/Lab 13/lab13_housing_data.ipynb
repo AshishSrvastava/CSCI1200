{
  "nbformat": 4,
  "nbformat_minor": 0,
  "metadata": {
    "colab": {
      "name": "lab13_housing_data.ipynb",
      "provenance": []
    },
    "kernelspec": {
      "name": "python3",
      "display_name": "Python 3"
    },
    "language_info": {
      "name": "python"
    }
  },
  "cells": [
    {
      "cell_type": "code",
      "metadata": {
        "id": "qI2isSVbz_Cc"
      },
      "source": [
        "%matplotlib inline\n",
        "import matplotlib.pyplot as plt\n",
        "import statistics"
      ],
      "execution_count": null,
      "outputs": []
    },
    {
      "cell_type": "code",
      "metadata": {
        "id": "ZXQCRZjQ0EXp"
      },
      "source": [
        "class H:\n",
        "  suburb = 0\n",
        "  rooms = 1\n",
        "  price = 2\n",
        "  bathroom = 3\n",
        "  car = 4\n",
        "  landsize = 5\n",
        "  lattitude = 6\n",
        "  longitude = 7"
      ],
      "execution_count": null,
      "outputs": []
    },
    {
      "cell_type": "markdown",
      "metadata": {
        "id": "RnlRcQuU0LnO"
      },
      "source": [
        "## Exercises"
      ]
    },
    {
      "cell_type": "markdown",
      "metadata": {
        "id": "ZTKkEd6zhxNI"
      },
      "source": [
        "1. Write a function to read the data from housing.csv file, convert the string to int/float as required and return the data in a nested list format. If a value for a column is missing, replace it with a 0."
      ]
    },
    {
      "cell_type": "code",
      "metadata": {
        "id": "vONMRYvrYsVq"
      },
      "source": [
        ""
      ],
      "execution_count": null,
      "outputs": []
    },
    {
      "cell_type": "markdown",
      "metadata": {
        "id": "Zuwm0O3ilUTP"
      },
      "source": [
        "2. Write a function that takes the nested list data and column index as parameters and returns that column as a list."
      ]
    },
    {
      "cell_type": "code",
      "metadata": {
        "id": "1tp9H7O2isop"
      },
      "source": [
        ""
      ],
      "execution_count": null,
      "outputs": []
    },
    {
      "cell_type": "markdown",
      "metadata": {
        "id": "QgmxObbEkxC1"
      },
      "source": [
        "3. Write a function that takes nested list data, an integer column index, and a target value as parameters. Returns a new list of lists that contains all rows from your data where the given column's value matches the target value."
      ]
    },
    {
      "cell_type": "code",
      "metadata": {
        "id": "xT7y023nkwAK"
      },
      "source": [
        ""
      ],
      "execution_count": null,
      "outputs": []
    },
    {
      "cell_type": "markdown",
      "metadata": {
        "id": "sIAIjGbtqSxS"
      },
      "source": [
        "5. Write a function that take a list as a parameter and returns a list of unique values."
      ]
    },
    {
      "cell_type": "code",
      "metadata": {
        "id": "q5O41rHqqRtK"
      },
      "source": [
        ""
      ],
      "execution_count": null,
      "outputs": []
    },
    {
      "cell_type": "markdown",
      "metadata": {
        "id": "NCwX_oYXp2l8"
      },
      "source": [
        "4. Write the main function which uses the functions defined above to plot the bar graph of first five unique suburbs vs the average price of houses for that suburb. "
      ]
    },
    {
      "cell_type": "code",
      "metadata": {
        "id": "rZfhT-KU0Zp0"
      },
      "source": [
        ""
      ],
      "execution_count": null,
      "outputs": []
    }
  ]
}